{
 "cells": [
  {
   "cell_type": "markdown",
   "metadata": {},
   "source": [
    "# 4.F1 Prediction Project -Model Notebook V1"
   ]
  },
  {
   "cell_type": "markdown",
   "metadata": {},
   "source": [
    "# Table of Contents\n",
    "   [Introduction](#0-introduction)\n",
    "1. [Import Packages](#1-import-packages)- Importation of necessary Python libraries for data manipulation, visualization, and machine learning.\n",
    "2. [Import Data](#2-import-data)- Loading the dataset from a CSV file into a pandas DataFrame.\n",
    "3. [Train-Test Split & Class Balance](#3-train-test-split-the-model--class-balance-review3)- Splitting the data into training and testing sets and reviewing the balance of classes within the target variable.\n",
    "4. [Logistic Regression](#4-logistics-regression)- Implementing and evaluating a logistic regression model, including scaling features and interpreting results.\n",
    "5. [Optimizing Logistic Regression](#5-optimizing-logreg-using-pipeline-and-grid-search)- Using a pipeline for data scaling, dimensionality reduction, and logistic regression. Employing grid search to find the best model parameters.\n",
    "6. [Decision Tree](#6-decision-tree)- Exploring a decision tree model, including pipeline setup, hyperparameter tuning, and model evaluation.\n",
    "7. [Random Forest](#7-random-forest)- Introducing the random forest classifier, fitting the model, and assessing performance with a confusion matrix and classification report.\n",
    "8. [Correcting Imbalance](#8-correcting-the-imbalance-in-the-dataset)- Addressing class imbalance with techniques like SMOTE and visualizing the resampled data.\n",
    "9. [Best Model Gridsearch](#9-gridsearch-for-best-model-on-the-new-smote-data)- Conducting a grid search for logistic regression, decision tree, and random forest models on SMOTE-resampled data.\n",
    "10. [Conclusion - What Model To Choose](#10-what-model-to-chooseanalyse-the-results)- Here we compare the results and conclude on what model worked best\n"
   ]
  },
  {
   "cell_type": "markdown",
   "metadata": {},
   "source": [
    "# 0. Introduction"
   ]
  },
  {
   "cell_type": "markdown",
   "metadata": {},
   "source": [
    "In this notebook, we'll harness the power of various modelling techniques & machine learning to tackle the exhilarating challenge of predicting race winners. From meticulously preparing our dataset to selecting the most influential features, each step has been carefully crafted to steer us toward the checkered flag of predictive accuracy. Here we will use various data science models (logistic regression, decision trees, and random forest) to get a benchmark set of results for how well our model can perform."
   ]
  },
  {
   "cell_type": "markdown",
   "metadata": {},
   "source": [
    "# 1. Import Packages"
   ]
  },
  {
   "cell_type": "code",
   "execution_count": 7,
   "metadata": {},
   "outputs": [],
   "source": [
    "# Basic Packages\n",
    "import numpy as np\n",
    "import pandas as pd\n",
    "import matplotlib.pyplot as plt\n",
    "import seaborn as sns\n",
    "import re\n",
    "import string\n",
    "\n",
    "# SK Packages\n",
    "from tempfile import mkdtemp\n",
    "from sklearn.pipeline import Pipeline\n",
    "from sklearn.preprocessing import StandardScaler\n",
    "from sklearn.decomposition import PCA\n",
    "from sklearn.linear_model import LogisticRegression\n",
    "from sklearn.model_selection import cross_val_score, GridSearchCV\n",
    "from sklearn.metrics import classification_report, confusion_matrix\n",
    "from sklearn.metrics import accuracy_score\n",
    "from sklearn.tree import DecisionTreeClassifier\n",
    "from sklearn.model_selection import train_test_split\n",
    "from sklearn.ensemble import RandomForestClassifier\n",
    "\n",
    "import joblib"
   ]
  },
  {
   "cell_type": "markdown",
   "metadata": {},
   "source": [
    "# 2. Import Data"
   ]
  },
  {
   "cell_type": "code",
   "execution_count": 15,
   "metadata": {},
   "outputs": [],
   "source": [
    "# Load DataFrame\n",
    "file = 'C:/Users/Alex/OneDrive/BrainStation/Data_Science_Bootcamp/Capstone_Project/capstone-Aboard89/model_data.csv'\n",
    "df = pd.read_csv(file)"
   ]
  },
  {
   "cell_type": "code",
   "execution_count": 16,
   "metadata": {},
   "outputs": [
    {
     "name": "stdout",
     "output_type": "stream",
     "text": [
      "<class 'pandas.core.frame.DataFrame'>\n",
      "RangeIndex: 10921 entries, 0 to 10920\n",
      "Data columns (total 126 columns):\n",
      " #    Column                                   Dtype  \n",
      "---   ------                                   -----  \n",
      " 0    race_index                               int64  \n",
      " 1    year                                     int64  \n",
      " 2    driverId                                 int64  \n",
      " 3    F2_champion                              bool   \n",
      " 4    Former_F1_World_Champion                 bool   \n",
      " 5    home_race                                bool   \n",
      " 6    constructorId                            int64  \n",
      " 7    starting_grid_position                   int64  \n",
      " 8    points_in_previous_race                  float64\n",
      " 9    laps_in_previous_race                    float64\n",
      " 10   race_win                                 bool   \n",
      " 11   new_index                                int64  \n",
      " 12   constructorId_points_at_stage_of_season  float64\n",
      " 13   driver_points_at_stage_of_season         float64\n",
      " 14   race_70th Anniversary Grand Prix         bool   \n",
      " 15   race_Abu Dhabi Grand Prix                bool   \n",
      " 16   race_Argentine Grand Prix                bool   \n",
      " 17   race_Australian Grand Prix               bool   \n",
      " 18   race_Austrian Grand Prix                 bool   \n",
      " 19   race_Azerbaijan Grand Prix               bool   \n",
      " 20   race_Bahrain Grand Prix                  bool   \n",
      " 21   race_Belgian Grand Prix                  bool   \n",
      " 22   race_Brazilian Grand Prix                bool   \n",
      " 23   race_British Grand Prix                  bool   \n",
      " 24   race_Canadian Grand Prix                 bool   \n",
      " 25   race_Chinese Grand Prix                  bool   \n",
      " 26   race_Dutch Grand Prix                    bool   \n",
      " 27   race_Eifel Grand Prix                    bool   \n",
      " 28   race_Emilia Romagna Grand Prix           bool   \n",
      " 29   race_European Grand Prix                 bool   \n",
      " 30   race_French Grand Prix                   bool   \n",
      " 31   race_German Grand Prix                   bool   \n",
      " 32   race_Hungarian Grand Prix                bool   \n",
      " 33   race_Indian Grand Prix                   bool   \n",
      " 34   race_Italian Grand Prix                  bool   \n",
      " 35   race_Japanese Grand Prix                 bool   \n",
      " 36   race_Korean Grand Prix                   bool   \n",
      " 37   race_Luxembourg Grand Prix               bool   \n",
      " 38   race_Malaysian Grand Prix                bool   \n",
      " 39   race_Mexican Grand Prix                  bool   \n",
      " 40   race_Mexico City Grand Prix              bool   \n",
      " 41   race_Miami Grand Prix                    bool   \n",
      " 42   race_Monaco Grand Prix                   bool   \n",
      " 43   race_Pacific Grand Prix                  bool   \n",
      " 44   race_Portuguese Grand Prix               bool   \n",
      " 45   race_Qatar Grand Prix                    bool   \n",
      " 46   race_Russian Grand Prix                  bool   \n",
      " 47   race_Sakhir Grand Prix                   bool   \n",
      " 48   race_San Marino Grand Prix               bool   \n",
      " 49   race_Saudi Arabian Grand Prix            bool   \n",
      " 50   race_Singapore Grand Prix                bool   \n",
      " 51   race_Spanish Grand Prix                  bool   \n",
      " 52   race_Styrian Grand Prix                  bool   \n",
      " 53   race_SÃ£o Paulo Grand Prix               bool   \n",
      " 54   race_Turkish Grand Prix                  bool   \n",
      " 55   race_Tuscan Grand Prix                   bool   \n",
      " 56   race_United States Grand Prix            bool   \n",
      " 57   engine_manufacturer_Acer                 bool   \n",
      " 58   engine_manufacturer_Arrows               bool   \n",
      " 59   engine_manufacturer_Asiatech             bool   \n",
      " 60   engine_manufacturer_BMW                  bool   \n",
      " 61   engine_manufacturer_Cosworth             bool   \n",
      " 62   engine_manufacturer_Ferrari              bool   \n",
      " 63   engine_manufacturer_Ford                 bool   \n",
      " 64   engine_manufacturer_Hart                 bool   \n",
      " 65   engine_manufacturer_Honda                bool   \n",
      " 66   engine_manufacturer_Mecachrome           bool   \n",
      " 67   engine_manufacturer_Mercedes             bool   \n",
      " 68   engine_manufacturer_Mugen-Honda          bool   \n",
      " 69   engine_manufacturer_Petronas             bool   \n",
      " 70   engine_manufacturer_Peugeot              bool   \n",
      " 71   engine_manufacturer_Playlife             bool   \n",
      " 72   engine_manufacturer_Red Bull             bool   \n",
      " 73   engine_manufacturer_Renault              bool   \n",
      " 74   engine_manufacturer_Supertec             bool   \n",
      " 75   engine_manufacturer_Toro Rosso           bool   \n",
      " 76   engine_manufacturer_Toyota               bool   \n",
      " 77   engine_manufacturer_Yamaha               bool   \n",
      " 78   constructor_nationality_American         bool   \n",
      " 79   constructor_nationality_Austrian         bool   \n",
      " 80   constructor_nationality_British          bool   \n",
      " 81   constructor_nationality_Dutch            bool   \n",
      " 82   constructor_nationality_French           bool   \n",
      " 83   constructor_nationality_German           bool   \n",
      " 84   constructor_nationality_Indian           bool   \n",
      " 85   constructor_nationality_Irish            bool   \n",
      " 86   constructor_nationality_Italian          bool   \n",
      " 87   constructor_nationality_Japanese         bool   \n",
      " 88   constructor_nationality_Malaysian        bool   \n",
      " 89   constructor_nationality_Russian          bool   \n",
      " 90   constructor_nationality_Spanish          bool   \n",
      " 91   constructor_nationality_Swiss            bool   \n",
      " 92   Nationality_American                     bool   \n",
      " 93   Nationality_Argentine                    bool   \n",
      " 94   Nationality_Australian                   bool   \n",
      " 95   Nationality_Austrian                     bool   \n",
      " 96   Nationality_Belgian                      bool   \n",
      " 97   Nationality_Brazilian                    bool   \n",
      " 98   Nationality_British                      bool   \n",
      " 99   Nationality_Canadian                     bool   \n",
      " 100  Nationality_Chinese                      bool   \n",
      " 101  Nationality_Colombian                    bool   \n",
      " 102  Nationality_Czech                        bool   \n",
      " 103  Nationality_Danish                       bool   \n",
      " 104  Nationality_Dutch                        bool   \n",
      " 105  Nationality_Finnish                      bool   \n",
      " 106  Nationality_French                       bool   \n",
      " 107  Nationality_German                       bool   \n",
      " 108  Nationality_Hungarian                    bool   \n",
      " 109  Nationality_Indian                       bool   \n",
      " 110  Nationality_Indonesian                   bool   \n",
      " 111  Nationality_Irish                        bool   \n",
      " 112  Nationality_Italian                      bool   \n",
      " 113  Nationality_Japanese                     bool   \n",
      " 114  Nationality_Malaysian                    bool   \n",
      " 115  Nationality_Mexican                      bool   \n",
      " 116  Nationality_Monegasque                   bool   \n",
      " 117  Nationality_New Zealander                bool   \n",
      " 118  Nationality_Polish                       bool   \n",
      " 119  Nationality_Portuguese                   bool   \n",
      " 120  Nationality_Russian                      bool   \n",
      " 121  Nationality_Spanish                      bool   \n",
      " 122  Nationality_Swedish                      bool   \n",
      " 123  Nationality_Swiss                        bool   \n",
      " 124  Nationality_Thai                         bool   \n",
      " 125  Nationality_Venezuelan                   bool   \n",
      "dtypes: bool(116), float64(4), int64(6)\n",
      "memory usage: 2.0 MB\n"
     ]
    }
   ],
   "source": [
    "df.info(verbose=True, max_cols=None)"
   ]
  },
  {
   "cell_type": "code",
   "execution_count": 17,
   "metadata": {},
   "outputs": [
    {
     "data": {
      "text/html": [
       "<div>\n",
       "<style scoped>\n",
       "    .dataframe tbody tr th:only-of-type {\n",
       "        vertical-align: middle;\n",
       "    }\n",
       "\n",
       "    .dataframe tbody tr th {\n",
       "        vertical-align: top;\n",
       "    }\n",
       "\n",
       "    .dataframe thead th {\n",
       "        text-align: right;\n",
       "    }\n",
       "</style>\n",
       "<table border=\"1\" class=\"dataframe\">\n",
       "  <thead>\n",
       "    <tr style=\"text-align: right;\">\n",
       "      <th></th>\n",
       "      <th>race_index</th>\n",
       "      <th>year</th>\n",
       "      <th>driverId</th>\n",
       "      <th>F2_champion</th>\n",
       "      <th>Former_F1_World_Champion</th>\n",
       "      <th>home_race</th>\n",
       "      <th>constructorId</th>\n",
       "      <th>starting_grid_position</th>\n",
       "      <th>points_in_previous_race</th>\n",
       "      <th>laps_in_previous_race</th>\n",
       "      <th>race_win</th>\n",
       "      <th>new_index</th>\n",
       "      <th>constructorId_points_at_stage_of_season</th>\n",
       "      <th>driver_points_at_stage_of_season</th>\n",
       "      <th>race_70th Anniversary Grand Prix</th>\n",
       "      <th>race_Abu Dhabi Grand Prix</th>\n",
       "      <th>race_Argentine Grand Prix</th>\n",
       "      <th>race_Australian Grand Prix</th>\n",
       "      <th>race_Austrian Grand Prix</th>\n",
       "      <th>race_Azerbaijan Grand Prix</th>\n",
       "      <th>race_Bahrain Grand Prix</th>\n",
       "      <th>race_Belgian Grand Prix</th>\n",
       "      <th>race_Brazilian Grand Prix</th>\n",
       "      <th>race_British Grand Prix</th>\n",
       "      <th>race_Canadian Grand Prix</th>\n",
       "      <th>race_Chinese Grand Prix</th>\n",
       "      <th>race_Dutch Grand Prix</th>\n",
       "      <th>race_Eifel Grand Prix</th>\n",
       "      <th>race_Emilia Romagna Grand Prix</th>\n",
       "      <th>race_European Grand Prix</th>\n",
       "      <th>race_French Grand Prix</th>\n",
       "      <th>race_German Grand Prix</th>\n",
       "      <th>race_Hungarian Grand Prix</th>\n",
       "      <th>race_Indian Grand Prix</th>\n",
       "      <th>race_Italian Grand Prix</th>\n",
       "      <th>race_Japanese Grand Prix</th>\n",
       "      <th>race_Korean Grand Prix</th>\n",
       "      <th>race_Luxembourg Grand Prix</th>\n",
       "      <th>race_Malaysian Grand Prix</th>\n",
       "      <th>race_Mexican Grand Prix</th>\n",
       "      <th>race_Mexico City Grand Prix</th>\n",
       "      <th>race_Miami Grand Prix</th>\n",
       "      <th>race_Monaco Grand Prix</th>\n",
       "      <th>race_Pacific Grand Prix</th>\n",
       "      <th>race_Portuguese Grand Prix</th>\n",
       "      <th>race_Qatar Grand Prix</th>\n",
       "      <th>race_Russian Grand Prix</th>\n",
       "      <th>race_Sakhir Grand Prix</th>\n",
       "      <th>race_San Marino Grand Prix</th>\n",
       "      <th>race_Saudi Arabian Grand Prix</th>\n",
       "      <th>race_Singapore Grand Prix</th>\n",
       "      <th>race_Spanish Grand Prix</th>\n",
       "      <th>race_Styrian Grand Prix</th>\n",
       "      <th>race_SÃ£o Paulo Grand Prix</th>\n",
       "      <th>race_Turkish Grand Prix</th>\n",
       "      <th>race_Tuscan Grand Prix</th>\n",
       "      <th>race_United States Grand Prix</th>\n",
       "      <th>engine_manufacturer_Acer</th>\n",
       "      <th>engine_manufacturer_Arrows</th>\n",
       "      <th>engine_manufacturer_Asiatech</th>\n",
       "      <th>engine_manufacturer_BMW</th>\n",
       "      <th>engine_manufacturer_Cosworth</th>\n",
       "      <th>engine_manufacturer_Ferrari</th>\n",
       "      <th>engine_manufacturer_Ford</th>\n",
       "      <th>engine_manufacturer_Hart</th>\n",
       "      <th>engine_manufacturer_Honda</th>\n",
       "      <th>engine_manufacturer_Mecachrome</th>\n",
       "      <th>engine_manufacturer_Mercedes</th>\n",
       "      <th>engine_manufacturer_Mugen-Honda</th>\n",
       "      <th>engine_manufacturer_Petronas</th>\n",
       "      <th>engine_manufacturer_Peugeot</th>\n",
       "      <th>engine_manufacturer_Playlife</th>\n",
       "      <th>engine_manufacturer_Red Bull</th>\n",
       "      <th>engine_manufacturer_Renault</th>\n",
       "      <th>engine_manufacturer_Supertec</th>\n",
       "      <th>engine_manufacturer_Toro Rosso</th>\n",
       "      <th>engine_manufacturer_Toyota</th>\n",
       "      <th>engine_manufacturer_Yamaha</th>\n",
       "      <th>constructor_nationality_American</th>\n",
       "      <th>constructor_nationality_Austrian</th>\n",
       "      <th>constructor_nationality_British</th>\n",
       "      <th>constructor_nationality_Dutch</th>\n",
       "      <th>constructor_nationality_French</th>\n",
       "      <th>constructor_nationality_German</th>\n",
       "      <th>constructor_nationality_Indian</th>\n",
       "      <th>constructor_nationality_Irish</th>\n",
       "      <th>constructor_nationality_Italian</th>\n",
       "      <th>constructor_nationality_Japanese</th>\n",
       "      <th>constructor_nationality_Malaysian</th>\n",
       "      <th>constructor_nationality_Russian</th>\n",
       "      <th>constructor_nationality_Spanish</th>\n",
       "      <th>constructor_nationality_Swiss</th>\n",
       "      <th>Nationality_American</th>\n",
       "      <th>Nationality_Argentine</th>\n",
       "      <th>Nationality_Australian</th>\n",
       "      <th>Nationality_Austrian</th>\n",
       "      <th>Nationality_Belgian</th>\n",
       "      <th>Nationality_Brazilian</th>\n",
       "      <th>Nationality_British</th>\n",
       "      <th>Nationality_Canadian</th>\n",
       "      <th>Nationality_Chinese</th>\n",
       "      <th>Nationality_Colombian</th>\n",
       "      <th>Nationality_Czech</th>\n",
       "      <th>Nationality_Danish</th>\n",
       "      <th>Nationality_Dutch</th>\n",
       "      <th>Nationality_Finnish</th>\n",
       "      <th>Nationality_French</th>\n",
       "      <th>Nationality_German</th>\n",
       "      <th>Nationality_Hungarian</th>\n",
       "      <th>Nationality_Indian</th>\n",
       "      <th>Nationality_Indonesian</th>\n",
       "      <th>Nationality_Irish</th>\n",
       "      <th>Nationality_Italian</th>\n",
       "      <th>Nationality_Japanese</th>\n",
       "      <th>Nationality_Malaysian</th>\n",
       "      <th>Nationality_Mexican</th>\n",
       "      <th>Nationality_Monegasque</th>\n",
       "      <th>Nationality_New Zealander</th>\n",
       "      <th>Nationality_Polish</th>\n",
       "      <th>Nationality_Portuguese</th>\n",
       "      <th>Nationality_Russian</th>\n",
       "      <th>Nationality_Spanish</th>\n",
       "      <th>Nationality_Swedish</th>\n",
       "      <th>Nationality_Swiss</th>\n",
       "      <th>Nationality_Thai</th>\n",
       "      <th>Nationality_Venezuelan</th>\n",
       "    </tr>\n",
       "  </thead>\n",
       "  <tbody>\n",
       "    <tr>\n",
       "      <th>0</th>\n",
       "      <td>2</td>\n",
       "      <td>1995</td>\n",
       "      <td>87</td>\n",
       "      <td>False</td>\n",
       "      <td>False</td>\n",
       "      <td>False</td>\n",
       "      <td>1</td>\n",
       "      <td>17</td>\n",
       "      <td>1.0</td>\n",
       "      <td>70.0</td>\n",
       "      <td>False</td>\n",
       "      <td>89</td>\n",
       "      <td>4.0</td>\n",
       "      <td>1.0</td>\n",
       "      <td>False</td>\n",
       "      <td>False</td>\n",
       "      <td>True</td>\n",
       "      <td>False</td>\n",
       "      <td>False</td>\n",
       "      <td>False</td>\n",
       "      <td>False</td>\n",
       "      <td>False</td>\n",
       "      <td>False</td>\n",
       "      <td>False</td>\n",
       "      <td>False</td>\n",
       "      <td>False</td>\n",
       "      <td>False</td>\n",
       "      <td>False</td>\n",
       "      <td>False</td>\n",
       "      <td>False</td>\n",
       "      <td>False</td>\n",
       "      <td>False</td>\n",
       "      <td>False</td>\n",
       "      <td>False</td>\n",
       "      <td>False</td>\n",
       "      <td>False</td>\n",
       "      <td>False</td>\n",
       "      <td>False</td>\n",
       "      <td>False</td>\n",
       "      <td>False</td>\n",
       "      <td>False</td>\n",
       "      <td>False</td>\n",
       "      <td>False</td>\n",
       "      <td>False</td>\n",
       "      <td>False</td>\n",
       "      <td>False</td>\n",
       "      <td>False</td>\n",
       "      <td>False</td>\n",
       "      <td>False</td>\n",
       "      <td>False</td>\n",
       "      <td>False</td>\n",
       "      <td>False</td>\n",
       "      <td>False</td>\n",
       "      <td>False</td>\n",
       "      <td>False</td>\n",
       "      <td>False</td>\n",
       "      <td>False</td>\n",
       "      <td>False</td>\n",
       "      <td>False</td>\n",
       "      <td>False</td>\n",
       "      <td>False</td>\n",
       "      <td>False</td>\n",
       "      <td>False</td>\n",
       "      <td>False</td>\n",
       "      <td>False</td>\n",
       "      <td>False</td>\n",
       "      <td>False</td>\n",
       "      <td>True</td>\n",
       "      <td>False</td>\n",
       "      <td>False</td>\n",
       "      <td>False</td>\n",
       "      <td>False</td>\n",
       "      <td>False</td>\n",
       "      <td>False</td>\n",
       "      <td>False</td>\n",
       "      <td>False</td>\n",
       "      <td>False</td>\n",
       "      <td>False</td>\n",
       "      <td>False</td>\n",
       "      <td>False</td>\n",
       "      <td>True</td>\n",
       "      <td>False</td>\n",
       "      <td>False</td>\n",
       "      <td>False</td>\n",
       "      <td>False</td>\n",
       "      <td>False</td>\n",
       "      <td>False</td>\n",
       "      <td>False</td>\n",
       "      <td>False</td>\n",
       "      <td>False</td>\n",
       "      <td>False</td>\n",
       "      <td>False</td>\n",
       "      <td>False</td>\n",
       "      <td>False</td>\n",
       "      <td>False</td>\n",
       "      <td>False</td>\n",
       "      <td>False</td>\n",
       "      <td>False</td>\n",
       "      <td>True</td>\n",
       "      <td>False</td>\n",
       "      <td>False</td>\n",
       "      <td>False</td>\n",
       "      <td>False</td>\n",
       "      <td>False</td>\n",
       "      <td>False</td>\n",
       "      <td>False</td>\n",
       "      <td>False</td>\n",
       "      <td>False</td>\n",
       "      <td>False</td>\n",
       "      <td>False</td>\n",
       "      <td>False</td>\n",
       "      <td>False</td>\n",
       "      <td>False</td>\n",
       "      <td>False</td>\n",
       "      <td>False</td>\n",
       "      <td>False</td>\n",
       "      <td>False</td>\n",
       "      <td>False</td>\n",
       "      <td>False</td>\n",
       "      <td>False</td>\n",
       "      <td>False</td>\n",
       "      <td>False</td>\n",
       "      <td>False</td>\n",
       "      <td>False</td>\n",
       "      <td>False</td>\n",
       "      <td>False</td>\n",
       "    </tr>\n",
       "    <tr>\n",
       "      <th>1</th>\n",
       "      <td>2</td>\n",
       "      <td>1995</td>\n",
       "      <td>57</td>\n",
       "      <td>False</td>\n",
       "      <td>False</td>\n",
       "      <td>False</td>\n",
       "      <td>1</td>\n",
       "      <td>5</td>\n",
       "      <td>3.0</td>\n",
       "      <td>70.0</td>\n",
       "      <td>False</td>\n",
       "      <td>59</td>\n",
       "      <td>4.0</td>\n",
       "      <td>3.0</td>\n",
       "      <td>False</td>\n",
       "      <td>False</td>\n",
       "      <td>True</td>\n",
       "      <td>False</td>\n",
       "      <td>False</td>\n",
       "      <td>False</td>\n",
       "      <td>False</td>\n",
       "      <td>False</td>\n",
       "      <td>False</td>\n",
       "      <td>False</td>\n",
       "      <td>False</td>\n",
       "      <td>False</td>\n",
       "      <td>False</td>\n",
       "      <td>False</td>\n",
       "      <td>False</td>\n",
       "      <td>False</td>\n",
       "      <td>False</td>\n",
       "      <td>False</td>\n",
       "      <td>False</td>\n",
       "      <td>False</td>\n",
       "      <td>False</td>\n",
       "      <td>False</td>\n",
       "      <td>False</td>\n",
       "      <td>False</td>\n",
       "      <td>False</td>\n",
       "      <td>False</td>\n",
       "      <td>False</td>\n",
       "      <td>False</td>\n",
       "      <td>False</td>\n",
       "      <td>False</td>\n",
       "      <td>False</td>\n",
       "      <td>False</td>\n",
       "      <td>False</td>\n",
       "      <td>False</td>\n",
       "      <td>False</td>\n",
       "      <td>False</td>\n",
       "      <td>False</td>\n",
       "      <td>False</td>\n",
       "      <td>False</td>\n",
       "      <td>False</td>\n",
       "      <td>False</td>\n",
       "      <td>False</td>\n",
       "      <td>False</td>\n",
       "      <td>False</td>\n",
       "      <td>False</td>\n",
       "      <td>False</td>\n",
       "      <td>False</td>\n",
       "      <td>False</td>\n",
       "      <td>False</td>\n",
       "      <td>False</td>\n",
       "      <td>False</td>\n",
       "      <td>False</td>\n",
       "      <td>False</td>\n",
       "      <td>True</td>\n",
       "      <td>False</td>\n",
       "      <td>False</td>\n",
       "      <td>False</td>\n",
       "      <td>False</td>\n",
       "      <td>False</td>\n",
       "      <td>False</td>\n",
       "      <td>False</td>\n",
       "      <td>False</td>\n",
       "      <td>False</td>\n",
       "      <td>False</td>\n",
       "      <td>False</td>\n",
       "      <td>False</td>\n",
       "      <td>True</td>\n",
       "      <td>False</td>\n",
       "      <td>False</td>\n",
       "      <td>False</td>\n",
       "      <td>False</td>\n",
       "      <td>False</td>\n",
       "      <td>False</td>\n",
       "      <td>False</td>\n",
       "      <td>False</td>\n",
       "      <td>False</td>\n",
       "      <td>False</td>\n",
       "      <td>False</td>\n",
       "      <td>False</td>\n",
       "      <td>False</td>\n",
       "      <td>False</td>\n",
       "      <td>False</td>\n",
       "      <td>False</td>\n",
       "      <td>False</td>\n",
       "      <td>False</td>\n",
       "      <td>False</td>\n",
       "      <td>False</td>\n",
       "      <td>False</td>\n",
       "      <td>False</td>\n",
       "      <td>False</td>\n",
       "      <td>False</td>\n",
       "      <td>True</td>\n",
       "      <td>False</td>\n",
       "      <td>False</td>\n",
       "      <td>False</td>\n",
       "      <td>False</td>\n",
       "      <td>False</td>\n",
       "      <td>False</td>\n",
       "      <td>False</td>\n",
       "      <td>False</td>\n",
       "      <td>False</td>\n",
       "      <td>False</td>\n",
       "      <td>False</td>\n",
       "      <td>False</td>\n",
       "      <td>False</td>\n",
       "      <td>False</td>\n",
       "      <td>False</td>\n",
       "      <td>False</td>\n",
       "      <td>False</td>\n",
       "      <td>False</td>\n",
       "      <td>False</td>\n",
       "      <td>False</td>\n",
       "    </tr>\n",
       "    <tr>\n",
       "      <th>2</th>\n",
       "      <td>2</td>\n",
       "      <td>1995</td>\n",
       "      <td>14</td>\n",
       "      <td>False</td>\n",
       "      <td>False</td>\n",
       "      <td>False</td>\n",
       "      <td>3</td>\n",
       "      <td>1</td>\n",
       "      <td>6.0</td>\n",
       "      <td>71.0</td>\n",
       "      <td>False</td>\n",
       "      <td>16</td>\n",
       "      <td>16.0</td>\n",
       "      <td>6.0</td>\n",
       "      <td>False</td>\n",
       "      <td>False</td>\n",
       "      <td>True</td>\n",
       "      <td>False</td>\n",
       "      <td>False</td>\n",
       "      <td>False</td>\n",
       "      <td>False</td>\n",
       "      <td>False</td>\n",
       "      <td>False</td>\n",
       "      <td>False</td>\n",
       "      <td>False</td>\n",
       "      <td>False</td>\n",
       "      <td>False</td>\n",
       "      <td>False</td>\n",
       "      <td>False</td>\n",
       "      <td>False</td>\n",
       "      <td>False</td>\n",
       "      <td>False</td>\n",
       "      <td>False</td>\n",
       "      <td>False</td>\n",
       "      <td>False</td>\n",
       "      <td>False</td>\n",
       "      <td>False</td>\n",
       "      <td>False</td>\n",
       "      <td>False</td>\n",
       "      <td>False</td>\n",
       "      <td>False</td>\n",
       "      <td>False</td>\n",
       "      <td>False</td>\n",
       "      <td>False</td>\n",
       "      <td>False</td>\n",
       "      <td>False</td>\n",
       "      <td>False</td>\n",
       "      <td>False</td>\n",
       "      <td>False</td>\n",
       "      <td>False</td>\n",
       "      <td>False</td>\n",
       "      <td>False</td>\n",
       "      <td>False</td>\n",
       "      <td>False</td>\n",
       "      <td>False</td>\n",
       "      <td>False</td>\n",
       "      <td>False</td>\n",
       "      <td>False</td>\n",
       "      <td>False</td>\n",
       "      <td>False</td>\n",
       "      <td>False</td>\n",
       "      <td>False</td>\n",
       "      <td>False</td>\n",
       "      <td>False</td>\n",
       "      <td>False</td>\n",
       "      <td>False</td>\n",
       "      <td>False</td>\n",
       "      <td>False</td>\n",
       "      <td>False</td>\n",
       "      <td>False</td>\n",
       "      <td>False</td>\n",
       "      <td>False</td>\n",
       "      <td>False</td>\n",
       "      <td>True</td>\n",
       "      <td>False</td>\n",
       "      <td>False</td>\n",
       "      <td>False</td>\n",
       "      <td>False</td>\n",
       "      <td>False</td>\n",
       "      <td>False</td>\n",
       "      <td>True</td>\n",
       "      <td>False</td>\n",
       "      <td>False</td>\n",
       "      <td>False</td>\n",
       "      <td>False</td>\n",
       "      <td>False</td>\n",
       "      <td>False</td>\n",
       "      <td>False</td>\n",
       "      <td>False</td>\n",
       "      <td>False</td>\n",
       "      <td>False</td>\n",
       "      <td>False</td>\n",
       "      <td>False</td>\n",
       "      <td>False</td>\n",
       "      <td>False</td>\n",
       "      <td>False</td>\n",
       "      <td>False</td>\n",
       "      <td>False</td>\n",
       "      <td>True</td>\n",
       "      <td>False</td>\n",
       "      <td>False</td>\n",
       "      <td>False</td>\n",
       "      <td>False</td>\n",
       "      <td>False</td>\n",
       "      <td>False</td>\n",
       "      <td>False</td>\n",
       "      <td>False</td>\n",
       "      <td>False</td>\n",
       "      <td>False</td>\n",
       "      <td>False</td>\n",
       "      <td>False</td>\n",
       "      <td>False</td>\n",
       "      <td>False</td>\n",
       "      <td>False</td>\n",
       "      <td>False</td>\n",
       "      <td>False</td>\n",
       "      <td>False</td>\n",
       "      <td>False</td>\n",
       "      <td>False</td>\n",
       "      <td>False</td>\n",
       "      <td>False</td>\n",
       "      <td>False</td>\n",
       "      <td>False</td>\n",
       "      <td>False</td>\n",
       "      <td>False</td>\n",
       "      <td>False</td>\n",
       "    </tr>\n",
       "    <tr>\n",
       "      <th>3</th>\n",
       "      <td>2</td>\n",
       "      <td>1995</td>\n",
       "      <td>71</td>\n",
       "      <td>False</td>\n",
       "      <td>True</td>\n",
       "      <td>False</td>\n",
       "      <td>3</td>\n",
       "      <td>2</td>\n",
       "      <td>0.0</td>\n",
       "      <td>30.0</td>\n",
       "      <td>True</td>\n",
       "      <td>73</td>\n",
       "      <td>16.0</td>\n",
       "      <td>10.0</td>\n",
       "      <td>False</td>\n",
       "      <td>False</td>\n",
       "      <td>True</td>\n",
       "      <td>False</td>\n",
       "      <td>False</td>\n",
       "      <td>False</td>\n",
       "      <td>False</td>\n",
       "      <td>False</td>\n",
       "      <td>False</td>\n",
       "      <td>False</td>\n",
       "      <td>False</td>\n",
       "      <td>False</td>\n",
       "      <td>False</td>\n",
       "      <td>False</td>\n",
       "      <td>False</td>\n",
       "      <td>False</td>\n",
       "      <td>False</td>\n",
       "      <td>False</td>\n",
       "      <td>False</td>\n",
       "      <td>False</td>\n",
       "      <td>False</td>\n",
       "      <td>False</td>\n",
       "      <td>False</td>\n",
       "      <td>False</td>\n",
       "      <td>False</td>\n",
       "      <td>False</td>\n",
       "      <td>False</td>\n",
       "      <td>False</td>\n",
       "      <td>False</td>\n",
       "      <td>False</td>\n",
       "      <td>False</td>\n",
       "      <td>False</td>\n",
       "      <td>False</td>\n",
       "      <td>False</td>\n",
       "      <td>False</td>\n",
       "      <td>False</td>\n",
       "      <td>False</td>\n",
       "      <td>False</td>\n",
       "      <td>False</td>\n",
       "      <td>False</td>\n",
       "      <td>False</td>\n",
       "      <td>False</td>\n",
       "      <td>False</td>\n",
       "      <td>False</td>\n",
       "      <td>False</td>\n",
       "      <td>False</td>\n",
       "      <td>False</td>\n",
       "      <td>False</td>\n",
       "      <td>False</td>\n",
       "      <td>False</td>\n",
       "      <td>False</td>\n",
       "      <td>False</td>\n",
       "      <td>False</td>\n",
       "      <td>False</td>\n",
       "      <td>False</td>\n",
       "      <td>False</td>\n",
       "      <td>False</td>\n",
       "      <td>False</td>\n",
       "      <td>False</td>\n",
       "      <td>True</td>\n",
       "      <td>False</td>\n",
       "      <td>False</td>\n",
       "      <td>False</td>\n",
       "      <td>False</td>\n",
       "      <td>False</td>\n",
       "      <td>False</td>\n",
       "      <td>True</td>\n",
       "      <td>False</td>\n",
       "      <td>False</td>\n",
       "      <td>False</td>\n",
       "      <td>False</td>\n",
       "      <td>False</td>\n",
       "      <td>False</td>\n",
       "      <td>False</td>\n",
       "      <td>False</td>\n",
       "      <td>False</td>\n",
       "      <td>False</td>\n",
       "      <td>False</td>\n",
       "      <td>False</td>\n",
       "      <td>False</td>\n",
       "      <td>False</td>\n",
       "      <td>False</td>\n",
       "      <td>False</td>\n",
       "      <td>False</td>\n",
       "      <td>True</td>\n",
       "      <td>False</td>\n",
       "      <td>False</td>\n",
       "      <td>False</td>\n",
       "      <td>False</td>\n",
       "      <td>False</td>\n",
       "      <td>False</td>\n",
       "      <td>False</td>\n",
       "      <td>False</td>\n",
       "      <td>False</td>\n",
       "      <td>False</td>\n",
       "      <td>False</td>\n",
       "      <td>False</td>\n",
       "      <td>False</td>\n",
       "      <td>False</td>\n",
       "      <td>False</td>\n",
       "      <td>False</td>\n",
       "      <td>False</td>\n",
       "      <td>False</td>\n",
       "      <td>False</td>\n",
       "      <td>False</td>\n",
       "      <td>False</td>\n",
       "      <td>False</td>\n",
       "      <td>False</td>\n",
       "      <td>False</td>\n",
       "      <td>False</td>\n",
       "      <td>False</td>\n",
       "      <td>False</td>\n",
       "    </tr>\n",
       "    <tr>\n",
       "      <th>4</th>\n",
       "      <td>2</td>\n",
       "      <td>1995</td>\n",
       "      <td>55</td>\n",
       "      <td>False</td>\n",
       "      <td>False</td>\n",
       "      <td>False</td>\n",
       "      <td>6</td>\n",
       "      <td>6</td>\n",
       "      <td>2.0</td>\n",
       "      <td>70.0</td>\n",
       "      <td>False</td>\n",
       "      <td>57</td>\n",
       "      <td>13.0</td>\n",
       "      <td>8.0</td>\n",
       "      <td>False</td>\n",
       "      <td>False</td>\n",
       "      <td>True</td>\n",
       "      <td>False</td>\n",
       "      <td>False</td>\n",
       "      <td>False</td>\n",
       "      <td>False</td>\n",
       "      <td>False</td>\n",
       "      <td>False</td>\n",
       "      <td>False</td>\n",
       "      <td>False</td>\n",
       "      <td>False</td>\n",
       "      <td>False</td>\n",
       "      <td>False</td>\n",
       "      <td>False</td>\n",
       "      <td>False</td>\n",
       "      <td>False</td>\n",
       "      <td>False</td>\n",
       "      <td>False</td>\n",
       "      <td>False</td>\n",
       "      <td>False</td>\n",
       "      <td>False</td>\n",
       "      <td>False</td>\n",
       "      <td>False</td>\n",
       "      <td>False</td>\n",
       "      <td>False</td>\n",
       "      <td>False</td>\n",
       "      <td>False</td>\n",
       "      <td>False</td>\n",
       "      <td>False</td>\n",
       "      <td>False</td>\n",
       "      <td>False</td>\n",
       "      <td>False</td>\n",
       "      <td>False</td>\n",
       "      <td>False</td>\n",
       "      <td>False</td>\n",
       "      <td>False</td>\n",
       "      <td>False</td>\n",
       "      <td>False</td>\n",
       "      <td>False</td>\n",
       "      <td>False</td>\n",
       "      <td>False</td>\n",
       "      <td>False</td>\n",
       "      <td>False</td>\n",
       "      <td>False</td>\n",
       "      <td>False</td>\n",
       "      <td>False</td>\n",
       "      <td>False</td>\n",
       "      <td>True</td>\n",
       "      <td>False</td>\n",
       "      <td>False</td>\n",
       "      <td>False</td>\n",
       "      <td>False</td>\n",
       "      <td>False</td>\n",
       "      <td>False</td>\n",
       "      <td>False</td>\n",
       "      <td>False</td>\n",
       "      <td>False</td>\n",
       "      <td>False</td>\n",
       "      <td>False</td>\n",
       "      <td>False</td>\n",
       "      <td>False</td>\n",
       "      <td>False</td>\n",
       "      <td>False</td>\n",
       "      <td>False</td>\n",
       "      <td>False</td>\n",
       "      <td>False</td>\n",
       "      <td>False</td>\n",
       "      <td>False</td>\n",
       "      <td>False</td>\n",
       "      <td>False</td>\n",
       "      <td>False</td>\n",
       "      <td>True</td>\n",
       "      <td>False</td>\n",
       "      <td>False</td>\n",
       "      <td>False</td>\n",
       "      <td>False</td>\n",
       "      <td>False</td>\n",
       "      <td>False</td>\n",
       "      <td>False</td>\n",
       "      <td>False</td>\n",
       "      <td>False</td>\n",
       "      <td>False</td>\n",
       "      <td>False</td>\n",
       "      <td>False</td>\n",
       "      <td>False</td>\n",
       "      <td>False</td>\n",
       "      <td>False</td>\n",
       "      <td>False</td>\n",
       "      <td>False</td>\n",
       "      <td>False</td>\n",
       "      <td>False</td>\n",
       "      <td>True</td>\n",
       "      <td>False</td>\n",
       "      <td>False</td>\n",
       "      <td>False</td>\n",
       "      <td>False</td>\n",
       "      <td>False</td>\n",
       "      <td>False</td>\n",
       "      <td>False</td>\n",
       "      <td>False</td>\n",
       "      <td>False</td>\n",
       "      <td>False</td>\n",
       "      <td>False</td>\n",
       "      <td>False</td>\n",
       "      <td>False</td>\n",
       "      <td>False</td>\n",
       "      <td>False</td>\n",
       "      <td>False</td>\n",
       "      <td>False</td>\n",
       "      <td>False</td>\n",
       "      <td>False</td>\n",
       "    </tr>\n",
       "  </tbody>\n",
       "</table>\n",
       "</div>"
      ],
      "text/plain": [
       "   race_index  year  driverId  F2_champion  Former_F1_World_Champion  \\\n",
       "0           2  1995        87        False                     False   \n",
       "1           2  1995        57        False                     False   \n",
       "2           2  1995        14        False                     False   \n",
       "3           2  1995        71        False                      True   \n",
       "4           2  1995        55        False                     False   \n",
       "\n",
       "   home_race  constructorId  starting_grid_position  points_in_previous_race  \\\n",
       "0      False              1                      17                      1.0   \n",
       "1      False              1                       5                      3.0   \n",
       "2      False              3                       1                      6.0   \n",
       "3      False              3                       2                      0.0   \n",
       "4      False              6                       6                      2.0   \n",
       "\n",
       "   laps_in_previous_race  race_win  new_index  \\\n",
       "0                   70.0     False         89   \n",
       "1                   70.0     False         59   \n",
       "2                   71.0     False         16   \n",
       "3                   30.0      True         73   \n",
       "4                   70.0     False         57   \n",
       "\n",
       "   constructorId_points_at_stage_of_season  driver_points_at_stage_of_season  \\\n",
       "0                                      4.0                               1.0   \n",
       "1                                      4.0                               3.0   \n",
       "2                                     16.0                               6.0   \n",
       "3                                     16.0                              10.0   \n",
       "4                                     13.0                               8.0   \n",
       "\n",
       "   race_70th Anniversary Grand Prix  race_Abu Dhabi Grand Prix  \\\n",
       "0                             False                      False   \n",
       "1                             False                      False   \n",
       "2                             False                      False   \n",
       "3                             False                      False   \n",
       "4                             False                      False   \n",
       "\n",
       "   race_Argentine Grand Prix  race_Australian Grand Prix  \\\n",
       "0                       True                       False   \n",
       "1                       True                       False   \n",
       "2                       True                       False   \n",
       "3                       True                       False   \n",
       "4                       True                       False   \n",
       "\n",
       "   race_Austrian Grand Prix  race_Azerbaijan Grand Prix  \\\n",
       "0                     False                       False   \n",
       "1                     False                       False   \n",
       "2                     False                       False   \n",
       "3                     False                       False   \n",
       "4                     False                       False   \n",
       "\n",
       "   race_Bahrain Grand Prix  race_Belgian Grand Prix  \\\n",
       "0                    False                    False   \n",
       "1                    False                    False   \n",
       "2                    False                    False   \n",
       "3                    False                    False   \n",
       "4                    False                    False   \n",
       "\n",
       "   race_Brazilian Grand Prix  race_British Grand Prix  \\\n",
       "0                      False                    False   \n",
       "1                      False                    False   \n",
       "2                      False                    False   \n",
       "3                      False                    False   \n",
       "4                      False                    False   \n",
       "\n",
       "   race_Canadian Grand Prix  race_Chinese Grand Prix  race_Dutch Grand Prix  \\\n",
       "0                     False                    False                  False   \n",
       "1                     False                    False                  False   \n",
       "2                     False                    False                  False   \n",
       "3                     False                    False                  False   \n",
       "4                     False                    False                  False   \n",
       "\n",
       "   race_Eifel Grand Prix  race_Emilia Romagna Grand Prix  \\\n",
       "0                  False                           False   \n",
       "1                  False                           False   \n",
       "2                  False                           False   \n",
       "3                  False                           False   \n",
       "4                  False                           False   \n",
       "\n",
       "   race_European Grand Prix  race_French Grand Prix  race_German Grand Prix  \\\n",
       "0                     False                   False                   False   \n",
       "1                     False                   False                   False   \n",
       "2                     False                   False                   False   \n",
       "3                     False                   False                   False   \n",
       "4                     False                   False                   False   \n",
       "\n",
       "   race_Hungarian Grand Prix  race_Indian Grand Prix  race_Italian Grand Prix  \\\n",
       "0                      False                   False                    False   \n",
       "1                      False                   False                    False   \n",
       "2                      False                   False                    False   \n",
       "3                      False                   False                    False   \n",
       "4                      False                   False                    False   \n",
       "\n",
       "   race_Japanese Grand Prix  race_Korean Grand Prix  \\\n",
       "0                     False                   False   \n",
       "1                     False                   False   \n",
       "2                     False                   False   \n",
       "3                     False                   False   \n",
       "4                     False                   False   \n",
       "\n",
       "   race_Luxembourg Grand Prix  race_Malaysian Grand Prix  \\\n",
       "0                       False                      False   \n",
       "1                       False                      False   \n",
       "2                       False                      False   \n",
       "3                       False                      False   \n",
       "4                       False                      False   \n",
       "\n",
       "   race_Mexican Grand Prix  race_Mexico City Grand Prix  \\\n",
       "0                    False                        False   \n",
       "1                    False                        False   \n",
       "2                    False                        False   \n",
       "3                    False                        False   \n",
       "4                    False                        False   \n",
       "\n",
       "   race_Miami Grand Prix  race_Monaco Grand Prix  race_Pacific Grand Prix  \\\n",
       "0                  False                   False                    False   \n",
       "1                  False                   False                    False   \n",
       "2                  False                   False                    False   \n",
       "3                  False                   False                    False   \n",
       "4                  False                   False                    False   \n",
       "\n",
       "   race_Portuguese Grand Prix  race_Qatar Grand Prix  race_Russian Grand Prix  \\\n",
       "0                       False                  False                    False   \n",
       "1                       False                  False                    False   \n",
       "2                       False                  False                    False   \n",
       "3                       False                  False                    False   \n",
       "4                       False                  False                    False   \n",
       "\n",
       "   race_Sakhir Grand Prix  race_San Marino Grand Prix  \\\n",
       "0                   False                       False   \n",
       "1                   False                       False   \n",
       "2                   False                       False   \n",
       "3                   False                       False   \n",
       "4                   False                       False   \n",
       "\n",
       "   race_Saudi Arabian Grand Prix  race_Singapore Grand Prix  \\\n",
       "0                          False                      False   \n",
       "1                          False                      False   \n",
       "2                          False                      False   \n",
       "3                          False                      False   \n",
       "4                          False                      False   \n",
       "\n",
       "   race_Spanish Grand Prix  race_Styrian Grand Prix  \\\n",
       "0                    False                    False   \n",
       "1                    False                    False   \n",
       "2                    False                    False   \n",
       "3                    False                    False   \n",
       "4                    False                    False   \n",
       "\n",
       "   race_SÃ£o Paulo Grand Prix  race_Turkish Grand Prix  \\\n",
       "0                       False                    False   \n",
       "1                       False                    False   \n",
       "2                       False                    False   \n",
       "3                       False                    False   \n",
       "4                       False                    False   \n",
       "\n",
       "   race_Tuscan Grand Prix  race_United States Grand Prix  \\\n",
       "0                   False                          False   \n",
       "1                   False                          False   \n",
       "2                   False                          False   \n",
       "3                   False                          False   \n",
       "4                   False                          False   \n",
       "\n",
       "   engine_manufacturer_Acer  engine_manufacturer_Arrows  \\\n",
       "0                     False                       False   \n",
       "1                     False                       False   \n",
       "2                     False                       False   \n",
       "3                     False                       False   \n",
       "4                     False                       False   \n",
       "\n",
       "   engine_manufacturer_Asiatech  engine_manufacturer_BMW  \\\n",
       "0                         False                    False   \n",
       "1                         False                    False   \n",
       "2                         False                    False   \n",
       "3                         False                    False   \n",
       "4                         False                    False   \n",
       "\n",
       "   engine_manufacturer_Cosworth  engine_manufacturer_Ferrari  \\\n",
       "0                         False                        False   \n",
       "1                         False                        False   \n",
       "2                         False                        False   \n",
       "3                         False                        False   \n",
       "4                         False                         True   \n",
       "\n",
       "   engine_manufacturer_Ford  engine_manufacturer_Hart  \\\n",
       "0                     False                     False   \n",
       "1                     False                     False   \n",
       "2                     False                     False   \n",
       "3                     False                     False   \n",
       "4                     False                     False   \n",
       "\n",
       "   engine_manufacturer_Honda  engine_manufacturer_Mecachrome  \\\n",
       "0                      False                           False   \n",
       "1                      False                           False   \n",
       "2                      False                           False   \n",
       "3                      False                           False   \n",
       "4                      False                           False   \n",
       "\n",
       "   engine_manufacturer_Mercedes  engine_manufacturer_Mugen-Honda  \\\n",
       "0                          True                            False   \n",
       "1                          True                            False   \n",
       "2                         False                            False   \n",
       "3                         False                            False   \n",
       "4                         False                            False   \n",
       "\n",
       "   engine_manufacturer_Petronas  engine_manufacturer_Peugeot  \\\n",
       "0                         False                        False   \n",
       "1                         False                        False   \n",
       "2                         False                        False   \n",
       "3                         False                        False   \n",
       "4                         False                        False   \n",
       "\n",
       "   engine_manufacturer_Playlife  engine_manufacturer_Red Bull  \\\n",
       "0                         False                         False   \n",
       "1                         False                         False   \n",
       "2                         False                         False   \n",
       "3                         False                         False   \n",
       "4                         False                         False   \n",
       "\n",
       "   engine_manufacturer_Renault  engine_manufacturer_Supertec  \\\n",
       "0                        False                         False   \n",
       "1                        False                         False   \n",
       "2                         True                         False   \n",
       "3                         True                         False   \n",
       "4                        False                         False   \n",
       "\n",
       "   engine_manufacturer_Toro Rosso  engine_manufacturer_Toyota  \\\n",
       "0                           False                       False   \n",
       "1                           False                       False   \n",
       "2                           False                       False   \n",
       "3                           False                       False   \n",
       "4                           False                       False   \n",
       "\n",
       "   engine_manufacturer_Yamaha  constructor_nationality_American  \\\n",
       "0                       False                             False   \n",
       "1                       False                             False   \n",
       "2                       False                             False   \n",
       "3                       False                             False   \n",
       "4                       False                             False   \n",
       "\n",
       "   constructor_nationality_Austrian  constructor_nationality_British  \\\n",
       "0                             False                             True   \n",
       "1                             False                             True   \n",
       "2                             False                             True   \n",
       "3                             False                             True   \n",
       "4                             False                            False   \n",
       "\n",
       "   constructor_nationality_Dutch  constructor_nationality_French  \\\n",
       "0                          False                           False   \n",
       "1                          False                           False   \n",
       "2                          False                           False   \n",
       "3                          False                           False   \n",
       "4                          False                           False   \n",
       "\n",
       "   constructor_nationality_German  constructor_nationality_Indian  \\\n",
       "0                           False                           False   \n",
       "1                           False                           False   \n",
       "2                           False                           False   \n",
       "3                           False                           False   \n",
       "4                           False                           False   \n",
       "\n",
       "   constructor_nationality_Irish  constructor_nationality_Italian  \\\n",
       "0                          False                            False   \n",
       "1                          False                            False   \n",
       "2                          False                            False   \n",
       "3                          False                            False   \n",
       "4                          False                             True   \n",
       "\n",
       "   constructor_nationality_Japanese  constructor_nationality_Malaysian  \\\n",
       "0                             False                              False   \n",
       "1                             False                              False   \n",
       "2                             False                              False   \n",
       "3                             False                              False   \n",
       "4                             False                              False   \n",
       "\n",
       "   constructor_nationality_Russian  constructor_nationality_Spanish  \\\n",
       "0                            False                            False   \n",
       "1                            False                            False   \n",
       "2                            False                            False   \n",
       "3                            False                            False   \n",
       "4                            False                            False   \n",
       "\n",
       "   constructor_nationality_Swiss  Nationality_American  Nationality_Argentine  \\\n",
       "0                          False                 False                  False   \n",
       "1                          False                 False                  False   \n",
       "2                          False                 False                  False   \n",
       "3                          False                 False                  False   \n",
       "4                          False                 False                  False   \n",
       "\n",
       "   Nationality_Australian  Nationality_Austrian  Nationality_Belgian  \\\n",
       "0                   False                 False                False   \n",
       "1                   False                 False                False   \n",
       "2                   False                 False                False   \n",
       "3                   False                 False                False   \n",
       "4                   False                 False                False   \n",
       "\n",
       "   Nationality_Brazilian  Nationality_British  Nationality_Canadian  \\\n",
       "0                  False                 True                 False   \n",
       "1                  False                False                 False   \n",
       "2                  False                 True                 False   \n",
       "3                  False                 True                 False   \n",
       "4                  False                False                 False   \n",
       "\n",
       "   Nationality_Chinese  Nationality_Colombian  Nationality_Czech  \\\n",
       "0                False                  False              False   \n",
       "1                False                  False              False   \n",
       "2                False                  False              False   \n",
       "3                False                  False              False   \n",
       "4                False                  False              False   \n",
       "\n",
       "   Nationality_Danish  Nationality_Dutch  Nationality_Finnish  \\\n",
       "0               False              False                False   \n",
       "1               False              False                 True   \n",
       "2               False              False                False   \n",
       "3               False              False                False   \n",
       "4               False              False                False   \n",
       "\n",
       "   Nationality_French  Nationality_German  Nationality_Hungarian  \\\n",
       "0               False               False                  False   \n",
       "1               False               False                  False   \n",
       "2               False               False                  False   \n",
       "3               False               False                  False   \n",
       "4                True               False                  False   \n",
       "\n",
       "   Nationality_Indian  Nationality_Indonesian  Nationality_Irish  \\\n",
       "0               False                   False              False   \n",
       "1               False                   False              False   \n",
       "2               False                   False              False   \n",
       "3               False                   False              False   \n",
       "4               False                   False              False   \n",
       "\n",
       "   Nationality_Italian  Nationality_Japanese  Nationality_Malaysian  \\\n",
       "0                False                 False                  False   \n",
       "1                False                 False                  False   \n",
       "2                False                 False                  False   \n",
       "3                False                 False                  False   \n",
       "4                False                 False                  False   \n",
       "\n",
       "   Nationality_Mexican  Nationality_Monegasque  Nationality_New Zealander  \\\n",
       "0                False                   False                      False   \n",
       "1                False                   False                      False   \n",
       "2                False                   False                      False   \n",
       "3                False                   False                      False   \n",
       "4                False                   False                      False   \n",
       "\n",
       "   Nationality_Polish  Nationality_Portuguese  Nationality_Russian  \\\n",
       "0               False                   False                False   \n",
       "1               False                   False                False   \n",
       "2               False                   False                False   \n",
       "3               False                   False                False   \n",
       "4               False                   False                False   \n",
       "\n",
       "   Nationality_Spanish  Nationality_Swedish  Nationality_Swiss  \\\n",
       "0                False                False              False   \n",
       "1                False                False              False   \n",
       "2                False                False              False   \n",
       "3                False                False              False   \n",
       "4                False                False              False   \n",
       "\n",
       "   Nationality_Thai  Nationality_Venezuelan  \n",
       "0             False                   False  \n",
       "1             False                   False  \n",
       "2             False                   False  \n",
       "3             False                   False  \n",
       "4             False                   False  "
      ]
     },
     "execution_count": 17,
     "metadata": {},
     "output_type": "execute_result"
    }
   ],
   "source": [
    "pd.set_option('display.max_columns', None)\n",
    "\n",
    "df.head()"
   ]
  },
  {
   "cell_type": "markdown",
   "metadata": {},
   "source": [
    "The `race_index` column represents a sequential identifier that does not inherently carry predictive power for our model, thus it will be dropped to streamline our dataset and focus on truly impactful features."
   ]
  },
  {
   "cell_type": "code",
   "execution_count": 18,
   "metadata": {},
   "outputs": [],
   "source": [
    "df = df.drop('race_index', axis=1)"
   ]
  },
  {
   "cell_type": "code",
   "execution_count": 19,
   "metadata": {},
   "outputs": [
    {
     "data": {
      "text/html": [
       "<div>\n",
       "<style scoped>\n",
       "    .dataframe tbody tr th:only-of-type {\n",
       "        vertical-align: middle;\n",
       "    }\n",
       "\n",
       "    .dataframe tbody tr th {\n",
       "        vertical-align: top;\n",
       "    }\n",
       "\n",
       "    .dataframe thead th {\n",
       "        text-align: right;\n",
       "    }\n",
       "</style>\n",
       "<table border=\"1\" class=\"dataframe\">\n",
       "  <thead>\n",
       "    <tr style=\"text-align: right;\">\n",
       "      <th></th>\n",
       "      <th>year</th>\n",
       "      <th>driverId</th>\n",
       "      <th>F2_champion</th>\n",
       "      <th>Former_F1_World_Champion</th>\n",
       "      <th>home_race</th>\n",
       "      <th>constructorId</th>\n",
       "      <th>starting_grid_position</th>\n",
       "      <th>points_in_previous_race</th>\n",
       "      <th>laps_in_previous_race</th>\n",
       "      <th>race_win</th>\n",
       "      <th>new_index</th>\n",
       "      <th>constructorId_points_at_stage_of_season</th>\n",
       "      <th>driver_points_at_stage_of_season</th>\n",
       "      <th>race_70th Anniversary Grand Prix</th>\n",
       "      <th>race_Abu Dhabi Grand Prix</th>\n",
       "      <th>race_Argentine Grand Prix</th>\n",
       "      <th>race_Australian Grand Prix</th>\n",
       "      <th>race_Austrian Grand Prix</th>\n",
       "      <th>race_Azerbaijan Grand Prix</th>\n",
       "      <th>race_Bahrain Grand Prix</th>\n",
       "      <th>race_Belgian Grand Prix</th>\n",
       "      <th>race_Brazilian Grand Prix</th>\n",
       "      <th>race_British Grand Prix</th>\n",
       "      <th>race_Canadian Grand Prix</th>\n",
       "      <th>race_Chinese Grand Prix</th>\n",
       "      <th>race_Dutch Grand Prix</th>\n",
       "      <th>race_Eifel Grand Prix</th>\n",
       "      <th>race_Emilia Romagna Grand Prix</th>\n",
       "      <th>race_European Grand Prix</th>\n",
       "      <th>race_French Grand Prix</th>\n",
       "      <th>race_German Grand Prix</th>\n",
       "      <th>race_Hungarian Grand Prix</th>\n",
       "      <th>race_Indian Grand Prix</th>\n",
       "      <th>race_Italian Grand Prix</th>\n",
       "      <th>race_Japanese Grand Prix</th>\n",
       "      <th>race_Korean Grand Prix</th>\n",
       "      <th>race_Luxembourg Grand Prix</th>\n",
       "      <th>race_Malaysian Grand Prix</th>\n",
       "      <th>race_Mexican Grand Prix</th>\n",
       "      <th>race_Mexico City Grand Prix</th>\n",
       "      <th>race_Miami Grand Prix</th>\n",
       "      <th>race_Monaco Grand Prix</th>\n",
       "      <th>race_Pacific Grand Prix</th>\n",
       "      <th>race_Portuguese Grand Prix</th>\n",
       "      <th>race_Qatar Grand Prix</th>\n",
       "      <th>race_Russian Grand Prix</th>\n",
       "      <th>race_Sakhir Grand Prix</th>\n",
       "      <th>race_San Marino Grand Prix</th>\n",
       "      <th>race_Saudi Arabian Grand Prix</th>\n",
       "      <th>race_Singapore Grand Prix</th>\n",
       "      <th>race_Spanish Grand Prix</th>\n",
       "      <th>race_Styrian Grand Prix</th>\n",
       "      <th>race_SÃ£o Paulo Grand Prix</th>\n",
       "      <th>race_Turkish Grand Prix</th>\n",
       "      <th>race_Tuscan Grand Prix</th>\n",
       "      <th>race_United States Grand Prix</th>\n",
       "      <th>engine_manufacturer_Acer</th>\n",
       "      <th>engine_manufacturer_Arrows</th>\n",
       "      <th>engine_manufacturer_Asiatech</th>\n",
       "      <th>engine_manufacturer_BMW</th>\n",
       "      <th>engine_manufacturer_Cosworth</th>\n",
       "      <th>engine_manufacturer_Ferrari</th>\n",
       "      <th>engine_manufacturer_Ford</th>\n",
       "      <th>engine_manufacturer_Hart</th>\n",
       "      <th>engine_manufacturer_Honda</th>\n",
       "      <th>engine_manufacturer_Mecachrome</th>\n",
       "      <th>engine_manufacturer_Mercedes</th>\n",
       "      <th>engine_manufacturer_Mugen-Honda</th>\n",
       "      <th>engine_manufacturer_Petronas</th>\n",
       "      <th>engine_manufacturer_Peugeot</th>\n",
       "      <th>engine_manufacturer_Playlife</th>\n",
       "      <th>engine_manufacturer_Red Bull</th>\n",
       "      <th>engine_manufacturer_Renault</th>\n",
       "      <th>engine_manufacturer_Supertec</th>\n",
       "      <th>engine_manufacturer_Toro Rosso</th>\n",
       "      <th>engine_manufacturer_Toyota</th>\n",
       "      <th>engine_manufacturer_Yamaha</th>\n",
       "      <th>constructor_nationality_American</th>\n",
       "      <th>constructor_nationality_Austrian</th>\n",
       "      <th>constructor_nationality_British</th>\n",
       "      <th>constructor_nationality_Dutch</th>\n",
       "      <th>constructor_nationality_French</th>\n",
       "      <th>constructor_nationality_German</th>\n",
       "      <th>constructor_nationality_Indian</th>\n",
       "      <th>constructor_nationality_Irish</th>\n",
       "      <th>constructor_nationality_Italian</th>\n",
       "      <th>constructor_nationality_Japanese</th>\n",
       "      <th>constructor_nationality_Malaysian</th>\n",
       "      <th>constructor_nationality_Russian</th>\n",
       "      <th>constructor_nationality_Spanish</th>\n",
       "      <th>constructor_nationality_Swiss</th>\n",
       "      <th>Nationality_American</th>\n",
       "      <th>Nationality_Argentine</th>\n",
       "      <th>Nationality_Australian</th>\n",
       "      <th>Nationality_Austrian</th>\n",
       "      <th>Nationality_Belgian</th>\n",
       "      <th>Nationality_Brazilian</th>\n",
       "      <th>Nationality_British</th>\n",
       "      <th>Nationality_Canadian</th>\n",
       "      <th>Nationality_Chinese</th>\n",
       "      <th>Nationality_Colombian</th>\n",
       "      <th>Nationality_Czech</th>\n",
       "      <th>Nationality_Danish</th>\n",
       "      <th>Nationality_Dutch</th>\n",
       "      <th>Nationality_Finnish</th>\n",
       "      <th>Nationality_French</th>\n",
       "      <th>Nationality_German</th>\n",
       "      <th>Nationality_Hungarian</th>\n",
       "      <th>Nationality_Indian</th>\n",
       "      <th>Nationality_Indonesian</th>\n",
       "      <th>Nationality_Irish</th>\n",
       "      <th>Nationality_Italian</th>\n",
       "      <th>Nationality_Japanese</th>\n",
       "      <th>Nationality_Malaysian</th>\n",
       "      <th>Nationality_Mexican</th>\n",
       "      <th>Nationality_Monegasque</th>\n",
       "      <th>Nationality_New Zealander</th>\n",
       "      <th>Nationality_Polish</th>\n",
       "      <th>Nationality_Portuguese</th>\n",
       "      <th>Nationality_Russian</th>\n",
       "      <th>Nationality_Spanish</th>\n",
       "      <th>Nationality_Swedish</th>\n",
       "      <th>Nationality_Swiss</th>\n",
       "      <th>Nationality_Thai</th>\n",
       "      <th>Nationality_Venezuelan</th>\n",
       "    </tr>\n",
       "  </thead>\n",
       "  <tbody>\n",
       "    <tr>\n",
       "      <th>0</th>\n",
       "      <td>1995</td>\n",
       "      <td>87</td>\n",
       "      <td>False</td>\n",
       "      <td>False</td>\n",
       "      <td>False</td>\n",
       "      <td>1</td>\n",
       "      <td>17</td>\n",
       "      <td>1.0</td>\n",
       "      <td>70.0</td>\n",
       "      <td>False</td>\n",
       "      <td>89</td>\n",
       "      <td>4.0</td>\n",
       "      <td>1.0</td>\n",
       "      <td>False</td>\n",
       "      <td>False</td>\n",
       "      <td>True</td>\n",
       "      <td>False</td>\n",
       "      <td>False</td>\n",
       "      <td>False</td>\n",
       "      <td>False</td>\n",
       "      <td>False</td>\n",
       "      <td>False</td>\n",
       "      <td>False</td>\n",
       "      <td>False</td>\n",
       "      <td>False</td>\n",
       "      <td>False</td>\n",
       "      <td>False</td>\n",
       "      <td>False</td>\n",
       "      <td>False</td>\n",
       "      <td>False</td>\n",
       "      <td>False</td>\n",
       "      <td>False</td>\n",
       "      <td>False</td>\n",
       "      <td>False</td>\n",
       "      <td>False</td>\n",
       "      <td>False</td>\n",
       "      <td>False</td>\n",
       "      <td>False</td>\n",
       "      <td>False</td>\n",
       "      <td>False</td>\n",
       "      <td>False</td>\n",
       "      <td>False</td>\n",
       "      <td>False</td>\n",
       "      <td>False</td>\n",
       "      <td>False</td>\n",
       "      <td>False</td>\n",
       "      <td>False</td>\n",
       "      <td>False</td>\n",
       "      <td>False</td>\n",
       "      <td>False</td>\n",
       "      <td>False</td>\n",
       "      <td>False</td>\n",
       "      <td>False</td>\n",
       "      <td>False</td>\n",
       "      <td>False</td>\n",
       "      <td>False</td>\n",
       "      <td>False</td>\n",
       "      <td>False</td>\n",
       "      <td>False</td>\n",
       "      <td>False</td>\n",
       "      <td>False</td>\n",
       "      <td>False</td>\n",
       "      <td>False</td>\n",
       "      <td>False</td>\n",
       "      <td>False</td>\n",
       "      <td>False</td>\n",
       "      <td>True</td>\n",
       "      <td>False</td>\n",
       "      <td>False</td>\n",
       "      <td>False</td>\n",
       "      <td>False</td>\n",
       "      <td>False</td>\n",
       "      <td>False</td>\n",
       "      <td>False</td>\n",
       "      <td>False</td>\n",
       "      <td>False</td>\n",
       "      <td>False</td>\n",
       "      <td>False</td>\n",
       "      <td>False</td>\n",
       "      <td>True</td>\n",
       "      <td>False</td>\n",
       "      <td>False</td>\n",
       "      <td>False</td>\n",
       "      <td>False</td>\n",
       "      <td>False</td>\n",
       "      <td>False</td>\n",
       "      <td>False</td>\n",
       "      <td>False</td>\n",
       "      <td>False</td>\n",
       "      <td>False</td>\n",
       "      <td>False</td>\n",
       "      <td>False</td>\n",
       "      <td>False</td>\n",
       "      <td>False</td>\n",
       "      <td>False</td>\n",
       "      <td>False</td>\n",
       "      <td>False</td>\n",
       "      <td>True</td>\n",
       "      <td>False</td>\n",
       "      <td>False</td>\n",
       "      <td>False</td>\n",
       "      <td>False</td>\n",
       "      <td>False</td>\n",
       "      <td>False</td>\n",
       "      <td>False</td>\n",
       "      <td>False</td>\n",
       "      <td>False</td>\n",
       "      <td>False</td>\n",
       "      <td>False</td>\n",
       "      <td>False</td>\n",
       "      <td>False</td>\n",
       "      <td>False</td>\n",
       "      <td>False</td>\n",
       "      <td>False</td>\n",
       "      <td>False</td>\n",
       "      <td>False</td>\n",
       "      <td>False</td>\n",
       "      <td>False</td>\n",
       "      <td>False</td>\n",
       "      <td>False</td>\n",
       "      <td>False</td>\n",
       "      <td>False</td>\n",
       "      <td>False</td>\n",
       "      <td>False</td>\n",
       "      <td>False</td>\n",
       "    </tr>\n",
       "    <tr>\n",
       "      <th>1</th>\n",
       "      <td>1995</td>\n",
       "      <td>57</td>\n",
       "      <td>False</td>\n",
       "      <td>False</td>\n",
       "      <td>False</td>\n",
       "      <td>1</td>\n",
       "      <td>5</td>\n",
       "      <td>3.0</td>\n",
       "      <td>70.0</td>\n",
       "      <td>False</td>\n",
       "      <td>59</td>\n",
       "      <td>4.0</td>\n",
       "      <td>3.0</td>\n",
       "      <td>False</td>\n",
       "      <td>False</td>\n",
       "      <td>True</td>\n",
       "      <td>False</td>\n",
       "      <td>False</td>\n",
       "      <td>False</td>\n",
       "      <td>False</td>\n",
       "      <td>False</td>\n",
       "      <td>False</td>\n",
       "      <td>False</td>\n",
       "      <td>False</td>\n",
       "      <td>False</td>\n",
       "      <td>False</td>\n",
       "      <td>False</td>\n",
       "      <td>False</td>\n",
       "      <td>False</td>\n",
       "      <td>False</td>\n",
       "      <td>False</td>\n",
       "      <td>False</td>\n",
       "      <td>False</td>\n",
       "      <td>False</td>\n",
       "      <td>False</td>\n",
       "      <td>False</td>\n",
       "      <td>False</td>\n",
       "      <td>False</td>\n",
       "      <td>False</td>\n",
       "      <td>False</td>\n",
       "      <td>False</td>\n",
       "      <td>False</td>\n",
       "      <td>False</td>\n",
       "      <td>False</td>\n",
       "      <td>False</td>\n",
       "      <td>False</td>\n",
       "      <td>False</td>\n",
       "      <td>False</td>\n",
       "      <td>False</td>\n",
       "      <td>False</td>\n",
       "      <td>False</td>\n",
       "      <td>False</td>\n",
       "      <td>False</td>\n",
       "      <td>False</td>\n",
       "      <td>False</td>\n",
       "      <td>False</td>\n",
       "      <td>False</td>\n",
       "      <td>False</td>\n",
       "      <td>False</td>\n",
       "      <td>False</td>\n",
       "      <td>False</td>\n",
       "      <td>False</td>\n",
       "      <td>False</td>\n",
       "      <td>False</td>\n",
       "      <td>False</td>\n",
       "      <td>False</td>\n",
       "      <td>True</td>\n",
       "      <td>False</td>\n",
       "      <td>False</td>\n",
       "      <td>False</td>\n",
       "      <td>False</td>\n",
       "      <td>False</td>\n",
       "      <td>False</td>\n",
       "      <td>False</td>\n",
       "      <td>False</td>\n",
       "      <td>False</td>\n",
       "      <td>False</td>\n",
       "      <td>False</td>\n",
       "      <td>False</td>\n",
       "      <td>True</td>\n",
       "      <td>False</td>\n",
       "      <td>False</td>\n",
       "      <td>False</td>\n",
       "      <td>False</td>\n",
       "      <td>False</td>\n",
       "      <td>False</td>\n",
       "      <td>False</td>\n",
       "      <td>False</td>\n",
       "      <td>False</td>\n",
       "      <td>False</td>\n",
       "      <td>False</td>\n",
       "      <td>False</td>\n",
       "      <td>False</td>\n",
       "      <td>False</td>\n",
       "      <td>False</td>\n",
       "      <td>False</td>\n",
       "      <td>False</td>\n",
       "      <td>False</td>\n",
       "      <td>False</td>\n",
       "      <td>False</td>\n",
       "      <td>False</td>\n",
       "      <td>False</td>\n",
       "      <td>False</td>\n",
       "      <td>False</td>\n",
       "      <td>True</td>\n",
       "      <td>False</td>\n",
       "      <td>False</td>\n",
       "      <td>False</td>\n",
       "      <td>False</td>\n",
       "      <td>False</td>\n",
       "      <td>False</td>\n",
       "      <td>False</td>\n",
       "      <td>False</td>\n",
       "      <td>False</td>\n",
       "      <td>False</td>\n",
       "      <td>False</td>\n",
       "      <td>False</td>\n",
       "      <td>False</td>\n",
       "      <td>False</td>\n",
       "      <td>False</td>\n",
       "      <td>False</td>\n",
       "      <td>False</td>\n",
       "      <td>False</td>\n",
       "      <td>False</td>\n",
       "      <td>False</td>\n",
       "    </tr>\n",
       "    <tr>\n",
       "      <th>2</th>\n",
       "      <td>1995</td>\n",
       "      <td>14</td>\n",
       "      <td>False</td>\n",
       "      <td>False</td>\n",
       "      <td>False</td>\n",
       "      <td>3</td>\n",
       "      <td>1</td>\n",
       "      <td>6.0</td>\n",
       "      <td>71.0</td>\n",
       "      <td>False</td>\n",
       "      <td>16</td>\n",
       "      <td>16.0</td>\n",
       "      <td>6.0</td>\n",
       "      <td>False</td>\n",
       "      <td>False</td>\n",
       "      <td>True</td>\n",
       "      <td>False</td>\n",
       "      <td>False</td>\n",
       "      <td>False</td>\n",
       "      <td>False</td>\n",
       "      <td>False</td>\n",
       "      <td>False</td>\n",
       "      <td>False</td>\n",
       "      <td>False</td>\n",
       "      <td>False</td>\n",
       "      <td>False</td>\n",
       "      <td>False</td>\n",
       "      <td>False</td>\n",
       "      <td>False</td>\n",
       "      <td>False</td>\n",
       "      <td>False</td>\n",
       "      <td>False</td>\n",
       "      <td>False</td>\n",
       "      <td>False</td>\n",
       "      <td>False</td>\n",
       "      <td>False</td>\n",
       "      <td>False</td>\n",
       "      <td>False</td>\n",
       "      <td>False</td>\n",
       "      <td>False</td>\n",
       "      <td>False</td>\n",
       "      <td>False</td>\n",
       "      <td>False</td>\n",
       "      <td>False</td>\n",
       "      <td>False</td>\n",
       "      <td>False</td>\n",
       "      <td>False</td>\n",
       "      <td>False</td>\n",
       "      <td>False</td>\n",
       "      <td>False</td>\n",
       "      <td>False</td>\n",
       "      <td>False</td>\n",
       "      <td>False</td>\n",
       "      <td>False</td>\n",
       "      <td>False</td>\n",
       "      <td>False</td>\n",
       "      <td>False</td>\n",
       "      <td>False</td>\n",
       "      <td>False</td>\n",
       "      <td>False</td>\n",
       "      <td>False</td>\n",
       "      <td>False</td>\n",
       "      <td>False</td>\n",
       "      <td>False</td>\n",
       "      <td>False</td>\n",
       "      <td>False</td>\n",
       "      <td>False</td>\n",
       "      <td>False</td>\n",
       "      <td>False</td>\n",
       "      <td>False</td>\n",
       "      <td>False</td>\n",
       "      <td>False</td>\n",
       "      <td>True</td>\n",
       "      <td>False</td>\n",
       "      <td>False</td>\n",
       "      <td>False</td>\n",
       "      <td>False</td>\n",
       "      <td>False</td>\n",
       "      <td>False</td>\n",
       "      <td>True</td>\n",
       "      <td>False</td>\n",
       "      <td>False</td>\n",
       "      <td>False</td>\n",
       "      <td>False</td>\n",
       "      <td>False</td>\n",
       "      <td>False</td>\n",
       "      <td>False</td>\n",
       "      <td>False</td>\n",
       "      <td>False</td>\n",
       "      <td>False</td>\n",
       "      <td>False</td>\n",
       "      <td>False</td>\n",
       "      <td>False</td>\n",
       "      <td>False</td>\n",
       "      <td>False</td>\n",
       "      <td>False</td>\n",
       "      <td>False</td>\n",
       "      <td>True</td>\n",
       "      <td>False</td>\n",
       "      <td>False</td>\n",
       "      <td>False</td>\n",
       "      <td>False</td>\n",
       "      <td>False</td>\n",
       "      <td>False</td>\n",
       "      <td>False</td>\n",
       "      <td>False</td>\n",
       "      <td>False</td>\n",
       "      <td>False</td>\n",
       "      <td>False</td>\n",
       "      <td>False</td>\n",
       "      <td>False</td>\n",
       "      <td>False</td>\n",
       "      <td>False</td>\n",
       "      <td>False</td>\n",
       "      <td>False</td>\n",
       "      <td>False</td>\n",
       "      <td>False</td>\n",
       "      <td>False</td>\n",
       "      <td>False</td>\n",
       "      <td>False</td>\n",
       "      <td>False</td>\n",
       "      <td>False</td>\n",
       "      <td>False</td>\n",
       "      <td>False</td>\n",
       "      <td>False</td>\n",
       "    </tr>\n",
       "    <tr>\n",
       "      <th>3</th>\n",
       "      <td>1995</td>\n",
       "      <td>71</td>\n",
       "      <td>False</td>\n",
       "      <td>True</td>\n",
       "      <td>False</td>\n",
       "      <td>3</td>\n",
       "      <td>2</td>\n",
       "      <td>0.0</td>\n",
       "      <td>30.0</td>\n",
       "      <td>True</td>\n",
       "      <td>73</td>\n",
       "      <td>16.0</td>\n",
       "      <td>10.0</td>\n",
       "      <td>False</td>\n",
       "      <td>False</td>\n",
       "      <td>True</td>\n",
       "      <td>False</td>\n",
       "      <td>False</td>\n",
       "      <td>False</td>\n",
       "      <td>False</td>\n",
       "      <td>False</td>\n",
       "      <td>False</td>\n",
       "      <td>False</td>\n",
       "      <td>False</td>\n",
       "      <td>False</td>\n",
       "      <td>False</td>\n",
       "      <td>False</td>\n",
       "      <td>False</td>\n",
       "      <td>False</td>\n",
       "      <td>False</td>\n",
       "      <td>False</td>\n",
       "      <td>False</td>\n",
       "      <td>False</td>\n",
       "      <td>False</td>\n",
       "      <td>False</td>\n",
       "      <td>False</td>\n",
       "      <td>False</td>\n",
       "      <td>False</td>\n",
       "      <td>False</td>\n",
       "      <td>False</td>\n",
       "      <td>False</td>\n",
       "      <td>False</td>\n",
       "      <td>False</td>\n",
       "      <td>False</td>\n",
       "      <td>False</td>\n",
       "      <td>False</td>\n",
       "      <td>False</td>\n",
       "      <td>False</td>\n",
       "      <td>False</td>\n",
       "      <td>False</td>\n",
       "      <td>False</td>\n",
       "      <td>False</td>\n",
       "      <td>False</td>\n",
       "      <td>False</td>\n",
       "      <td>False</td>\n",
       "      <td>False</td>\n",
       "      <td>False</td>\n",
       "      <td>False</td>\n",
       "      <td>False</td>\n",
       "      <td>False</td>\n",
       "      <td>False</td>\n",
       "      <td>False</td>\n",
       "      <td>False</td>\n",
       "      <td>False</td>\n",
       "      <td>False</td>\n",
       "      <td>False</td>\n",
       "      <td>False</td>\n",
       "      <td>False</td>\n",
       "      <td>False</td>\n",
       "      <td>False</td>\n",
       "      <td>False</td>\n",
       "      <td>False</td>\n",
       "      <td>True</td>\n",
       "      <td>False</td>\n",
       "      <td>False</td>\n",
       "      <td>False</td>\n",
       "      <td>False</td>\n",
       "      <td>False</td>\n",
       "      <td>False</td>\n",
       "      <td>True</td>\n",
       "      <td>False</td>\n",
       "      <td>False</td>\n",
       "      <td>False</td>\n",
       "      <td>False</td>\n",
       "      <td>False</td>\n",
       "      <td>False</td>\n",
       "      <td>False</td>\n",
       "      <td>False</td>\n",
       "      <td>False</td>\n",
       "      <td>False</td>\n",
       "      <td>False</td>\n",
       "      <td>False</td>\n",
       "      <td>False</td>\n",
       "      <td>False</td>\n",
       "      <td>False</td>\n",
       "      <td>False</td>\n",
       "      <td>False</td>\n",
       "      <td>True</td>\n",
       "      <td>False</td>\n",
       "      <td>False</td>\n",
       "      <td>False</td>\n",
       "      <td>False</td>\n",
       "      <td>False</td>\n",
       "      <td>False</td>\n",
       "      <td>False</td>\n",
       "      <td>False</td>\n",
       "      <td>False</td>\n",
       "      <td>False</td>\n",
       "      <td>False</td>\n",
       "      <td>False</td>\n",
       "      <td>False</td>\n",
       "      <td>False</td>\n",
       "      <td>False</td>\n",
       "      <td>False</td>\n",
       "      <td>False</td>\n",
       "      <td>False</td>\n",
       "      <td>False</td>\n",
       "      <td>False</td>\n",
       "      <td>False</td>\n",
       "      <td>False</td>\n",
       "      <td>False</td>\n",
       "      <td>False</td>\n",
       "      <td>False</td>\n",
       "      <td>False</td>\n",
       "      <td>False</td>\n",
       "    </tr>\n",
       "    <tr>\n",
       "      <th>4</th>\n",
       "      <td>1995</td>\n",
       "      <td>55</td>\n",
       "      <td>False</td>\n",
       "      <td>False</td>\n",
       "      <td>False</td>\n",
       "      <td>6</td>\n",
       "      <td>6</td>\n",
       "      <td>2.0</td>\n",
       "      <td>70.0</td>\n",
       "      <td>False</td>\n",
       "      <td>57</td>\n",
       "      <td>13.0</td>\n",
       "      <td>8.0</td>\n",
       "      <td>False</td>\n",
       "      <td>False</td>\n",
       "      <td>True</td>\n",
       "      <td>False</td>\n",
       "      <td>False</td>\n",
       "      <td>False</td>\n",
       "      <td>False</td>\n",
       "      <td>False</td>\n",
       "      <td>False</td>\n",
       "      <td>False</td>\n",
       "      <td>False</td>\n",
       "      <td>False</td>\n",
       "      <td>False</td>\n",
       "      <td>False</td>\n",
       "      <td>False</td>\n",
       "      <td>False</td>\n",
       "      <td>False</td>\n",
       "      <td>False</td>\n",
       "      <td>False</td>\n",
       "      <td>False</td>\n",
       "      <td>False</td>\n",
       "      <td>False</td>\n",
       "      <td>False</td>\n",
       "      <td>False</td>\n",
       "      <td>False</td>\n",
       "      <td>False</td>\n",
       "      <td>False</td>\n",
       "      <td>False</td>\n",
       "      <td>False</td>\n",
       "      <td>False</td>\n",
       "      <td>False</td>\n",
       "      <td>False</td>\n",
       "      <td>False</td>\n",
       "      <td>False</td>\n",
       "      <td>False</td>\n",
       "      <td>False</td>\n",
       "      <td>False</td>\n",
       "      <td>False</td>\n",
       "      <td>False</td>\n",
       "      <td>False</td>\n",
       "      <td>False</td>\n",
       "      <td>False</td>\n",
       "      <td>False</td>\n",
       "      <td>False</td>\n",
       "      <td>False</td>\n",
       "      <td>False</td>\n",
       "      <td>False</td>\n",
       "      <td>False</td>\n",
       "      <td>True</td>\n",
       "      <td>False</td>\n",
       "      <td>False</td>\n",
       "      <td>False</td>\n",
       "      <td>False</td>\n",
       "      <td>False</td>\n",
       "      <td>False</td>\n",
       "      <td>False</td>\n",
       "      <td>False</td>\n",
       "      <td>False</td>\n",
       "      <td>False</td>\n",
       "      <td>False</td>\n",
       "      <td>False</td>\n",
       "      <td>False</td>\n",
       "      <td>False</td>\n",
       "      <td>False</td>\n",
       "      <td>False</td>\n",
       "      <td>False</td>\n",
       "      <td>False</td>\n",
       "      <td>False</td>\n",
       "      <td>False</td>\n",
       "      <td>False</td>\n",
       "      <td>False</td>\n",
       "      <td>False</td>\n",
       "      <td>True</td>\n",
       "      <td>False</td>\n",
       "      <td>False</td>\n",
       "      <td>False</td>\n",
       "      <td>False</td>\n",
       "      <td>False</td>\n",
       "      <td>False</td>\n",
       "      <td>False</td>\n",
       "      <td>False</td>\n",
       "      <td>False</td>\n",
       "      <td>False</td>\n",
       "      <td>False</td>\n",
       "      <td>False</td>\n",
       "      <td>False</td>\n",
       "      <td>False</td>\n",
       "      <td>False</td>\n",
       "      <td>False</td>\n",
       "      <td>False</td>\n",
       "      <td>False</td>\n",
       "      <td>False</td>\n",
       "      <td>True</td>\n",
       "      <td>False</td>\n",
       "      <td>False</td>\n",
       "      <td>False</td>\n",
       "      <td>False</td>\n",
       "      <td>False</td>\n",
       "      <td>False</td>\n",
       "      <td>False</td>\n",
       "      <td>False</td>\n",
       "      <td>False</td>\n",
       "      <td>False</td>\n",
       "      <td>False</td>\n",
       "      <td>False</td>\n",
       "      <td>False</td>\n",
       "      <td>False</td>\n",
       "      <td>False</td>\n",
       "      <td>False</td>\n",
       "      <td>False</td>\n",
       "      <td>False</td>\n",
       "      <td>False</td>\n",
       "    </tr>\n",
       "  </tbody>\n",
       "</table>\n",
       "</div>"
      ],
      "text/plain": [
       "   year  driverId  F2_champion  Former_F1_World_Champion  home_race  \\\n",
       "0  1995        87        False                     False      False   \n",
       "1  1995        57        False                     False      False   \n",
       "2  1995        14        False                     False      False   \n",
       "3  1995        71        False                      True      False   \n",
       "4  1995        55        False                     False      False   \n",
       "\n",
       "   constructorId  starting_grid_position  points_in_previous_race  \\\n",
       "0              1                      17                      1.0   \n",
       "1              1                       5                      3.0   \n",
       "2              3                       1                      6.0   \n",
       "3              3                       2                      0.0   \n",
       "4              6                       6                      2.0   \n",
       "\n",
       "   laps_in_previous_race  race_win  new_index  \\\n",
       "0                   70.0     False         89   \n",
       "1                   70.0     False         59   \n",
       "2                   71.0     False         16   \n",
       "3                   30.0      True         73   \n",
       "4                   70.0     False         57   \n",
       "\n",
       "   constructorId_points_at_stage_of_season  driver_points_at_stage_of_season  \\\n",
       "0                                      4.0                               1.0   \n",
       "1                                      4.0                               3.0   \n",
       "2                                     16.0                               6.0   \n",
       "3                                     16.0                              10.0   \n",
       "4                                     13.0                               8.0   \n",
       "\n",
       "   race_70th Anniversary Grand Prix  race_Abu Dhabi Grand Prix  \\\n",
       "0                             False                      False   \n",
       "1                             False                      False   \n",
       "2                             False                      False   \n",
       "3                             False                      False   \n",
       "4                             False                      False   \n",
       "\n",
       "   race_Argentine Grand Prix  race_Australian Grand Prix  \\\n",
       "0                       True                       False   \n",
       "1                       True                       False   \n",
       "2                       True                       False   \n",
       "3                       True                       False   \n",
       "4                       True                       False   \n",
       "\n",
       "   race_Austrian Grand Prix  race_Azerbaijan Grand Prix  \\\n",
       "0                     False                       False   \n",
       "1                     False                       False   \n",
       "2                     False                       False   \n",
       "3                     False                       False   \n",
       "4                     False                       False   \n",
       "\n",
       "   race_Bahrain Grand Prix  race_Belgian Grand Prix  \\\n",
       "0                    False                    False   \n",
       "1                    False                    False   \n",
       "2                    False                    False   \n",
       "3                    False                    False   \n",
       "4                    False                    False   \n",
       "\n",
       "   race_Brazilian Grand Prix  race_British Grand Prix  \\\n",
       "0                      False                    False   \n",
       "1                      False                    False   \n",
       "2                      False                    False   \n",
       "3                      False                    False   \n",
       "4                      False                    False   \n",
       "\n",
       "   race_Canadian Grand Prix  race_Chinese Grand Prix  race_Dutch Grand Prix  \\\n",
       "0                     False                    False                  False   \n",
       "1                     False                    False                  False   \n",
       "2                     False                    False                  False   \n",
       "3                     False                    False                  False   \n",
       "4                     False                    False                  False   \n",
       "\n",
       "   race_Eifel Grand Prix  race_Emilia Romagna Grand Prix  \\\n",
       "0                  False                           False   \n",
       "1                  False                           False   \n",
       "2                  False                           False   \n",
       "3                  False                           False   \n",
       "4                  False                           False   \n",
       "\n",
       "   race_European Grand Prix  race_French Grand Prix  race_German Grand Prix  \\\n",
       "0                     False                   False                   False   \n",
       "1                     False                   False                   False   \n",
       "2                     False                   False                   False   \n",
       "3                     False                   False                   False   \n",
       "4                     False                   False                   False   \n",
       "\n",
       "   race_Hungarian Grand Prix  race_Indian Grand Prix  race_Italian Grand Prix  \\\n",
       "0                      False                   False                    False   \n",
       "1                      False                   False                    False   \n",
       "2                      False                   False                    False   \n",
       "3                      False                   False                    False   \n",
       "4                      False                   False                    False   \n",
       "\n",
       "   race_Japanese Grand Prix  race_Korean Grand Prix  \\\n",
       "0                     False                   False   \n",
       "1                     False                   False   \n",
       "2                     False                   False   \n",
       "3                     False                   False   \n",
       "4                     False                   False   \n",
       "\n",
       "   race_Luxembourg Grand Prix  race_Malaysian Grand Prix  \\\n",
       "0                       False                      False   \n",
       "1                       False                      False   \n",
       "2                       False                      False   \n",
       "3                       False                      False   \n",
       "4                       False                      False   \n",
       "\n",
       "   race_Mexican Grand Prix  race_Mexico City Grand Prix  \\\n",
       "0                    False                        False   \n",
       "1                    False                        False   \n",
       "2                    False                        False   \n",
       "3                    False                        False   \n",
       "4                    False                        False   \n",
       "\n",
       "   race_Miami Grand Prix  race_Monaco Grand Prix  race_Pacific Grand Prix  \\\n",
       "0                  False                   False                    False   \n",
       "1                  False                   False                    False   \n",
       "2                  False                   False                    False   \n",
       "3                  False                   False                    False   \n",
       "4                  False                   False                    False   \n",
       "\n",
       "   race_Portuguese Grand Prix  race_Qatar Grand Prix  race_Russian Grand Prix  \\\n",
       "0                       False                  False                    False   \n",
       "1                       False                  False                    False   \n",
       "2                       False                  False                    False   \n",
       "3                       False                  False                    False   \n",
       "4                       False                  False                    False   \n",
       "\n",
       "   race_Sakhir Grand Prix  race_San Marino Grand Prix  \\\n",
       "0                   False                       False   \n",
       "1                   False                       False   \n",
       "2                   False                       False   \n",
       "3                   False                       False   \n",
       "4                   False                       False   \n",
       "\n",
       "   race_Saudi Arabian Grand Prix  race_Singapore Grand Prix  \\\n",
       "0                          False                      False   \n",
       "1                          False                      False   \n",
       "2                          False                      False   \n",
       "3                          False                      False   \n",
       "4                          False                      False   \n",
       "\n",
       "   race_Spanish Grand Prix  race_Styrian Grand Prix  \\\n",
       "0                    False                    False   \n",
       "1                    False                    False   \n",
       "2                    False                    False   \n",
       "3                    False                    False   \n",
       "4                    False                    False   \n",
       "\n",
       "   race_SÃ£o Paulo Grand Prix  race_Turkish Grand Prix  \\\n",
       "0                       False                    False   \n",
       "1                       False                    False   \n",
       "2                       False                    False   \n",
       "3                       False                    False   \n",
       "4                       False                    False   \n",
       "\n",
       "   race_Tuscan Grand Prix  race_United States Grand Prix  \\\n",
       "0                   False                          False   \n",
       "1                   False                          False   \n",
       "2                   False                          False   \n",
       "3                   False                          False   \n",
       "4                   False                          False   \n",
       "\n",
       "   engine_manufacturer_Acer  engine_manufacturer_Arrows  \\\n",
       "0                     False                       False   \n",
       "1                     False                       False   \n",
       "2                     False                       False   \n",
       "3                     False                       False   \n",
       "4                     False                       False   \n",
       "\n",
       "   engine_manufacturer_Asiatech  engine_manufacturer_BMW  \\\n",
       "0                         False                    False   \n",
       "1                         False                    False   \n",
       "2                         False                    False   \n",
       "3                         False                    False   \n",
       "4                         False                    False   \n",
       "\n",
       "   engine_manufacturer_Cosworth  engine_manufacturer_Ferrari  \\\n",
       "0                         False                        False   \n",
       "1                         False                        False   \n",
       "2                         False                        False   \n",
       "3                         False                        False   \n",
       "4                         False                         True   \n",
       "\n",
       "   engine_manufacturer_Ford  engine_manufacturer_Hart  \\\n",
       "0                     False                     False   \n",
       "1                     False                     False   \n",
       "2                     False                     False   \n",
       "3                     False                     False   \n",
       "4                     False                     False   \n",
       "\n",
       "   engine_manufacturer_Honda  engine_manufacturer_Mecachrome  \\\n",
       "0                      False                           False   \n",
       "1                      False                           False   \n",
       "2                      False                           False   \n",
       "3                      False                           False   \n",
       "4                      False                           False   \n",
       "\n",
       "   engine_manufacturer_Mercedes  engine_manufacturer_Mugen-Honda  \\\n",
       "0                          True                            False   \n",
       "1                          True                            False   \n",
       "2                         False                            False   \n",
       "3                         False                            False   \n",
       "4                         False                            False   \n",
       "\n",
       "   engine_manufacturer_Petronas  engine_manufacturer_Peugeot  \\\n",
       "0                         False                        False   \n",
       "1                         False                        False   \n",
       "2                         False                        False   \n",
       "3                         False                        False   \n",
       "4                         False                        False   \n",
       "\n",
       "   engine_manufacturer_Playlife  engine_manufacturer_Red Bull  \\\n",
       "0                         False                         False   \n",
       "1                         False                         False   \n",
       "2                         False                         False   \n",
       "3                         False                         False   \n",
       "4                         False                         False   \n",
       "\n",
       "   engine_manufacturer_Renault  engine_manufacturer_Supertec  \\\n",
       "0                        False                         False   \n",
       "1                        False                         False   \n",
       "2                         True                         False   \n",
       "3                         True                         False   \n",
       "4                        False                         False   \n",
       "\n",
       "   engine_manufacturer_Toro Rosso  engine_manufacturer_Toyota  \\\n",
       "0                           False                       False   \n",
       "1                           False                       False   \n",
       "2                           False                       False   \n",
       "3                           False                       False   \n",
       "4                           False                       False   \n",
       "\n",
       "   engine_manufacturer_Yamaha  constructor_nationality_American  \\\n",
       "0                       False                             False   \n",
       "1                       False                             False   \n",
       "2                       False                             False   \n",
       "3                       False                             False   \n",
       "4                       False                             False   \n",
       "\n",
       "   constructor_nationality_Austrian  constructor_nationality_British  \\\n",
       "0                             False                             True   \n",
       "1                             False                             True   \n",
       "2                             False                             True   \n",
       "3                             False                             True   \n",
       "4                             False                            False   \n",
       "\n",
       "   constructor_nationality_Dutch  constructor_nationality_French  \\\n",
       "0                          False                           False   \n",
       "1                          False                           False   \n",
       "2                          False                           False   \n",
       "3                          False                           False   \n",
       "4                          False                           False   \n",
       "\n",
       "   constructor_nationality_German  constructor_nationality_Indian  \\\n",
       "0                           False                           False   \n",
       "1                           False                           False   \n",
       "2                           False                           False   \n",
       "3                           False                           False   \n",
       "4                           False                           False   \n",
       "\n",
       "   constructor_nationality_Irish  constructor_nationality_Italian  \\\n",
       "0                          False                            False   \n",
       "1                          False                            False   \n",
       "2                          False                            False   \n",
       "3                          False                            False   \n",
       "4                          False                             True   \n",
       "\n",
       "   constructor_nationality_Japanese  constructor_nationality_Malaysian  \\\n",
       "0                             False                              False   \n",
       "1                             False                              False   \n",
       "2                             False                              False   \n",
       "3                             False                              False   \n",
       "4                             False                              False   \n",
       "\n",
       "   constructor_nationality_Russian  constructor_nationality_Spanish  \\\n",
       "0                            False                            False   \n",
       "1                            False                            False   \n",
       "2                            False                            False   \n",
       "3                            False                            False   \n",
       "4                            False                            False   \n",
       "\n",
       "   constructor_nationality_Swiss  Nationality_American  Nationality_Argentine  \\\n",
       "0                          False                 False                  False   \n",
       "1                          False                 False                  False   \n",
       "2                          False                 False                  False   \n",
       "3                          False                 False                  False   \n",
       "4                          False                 False                  False   \n",
       "\n",
       "   Nationality_Australian  Nationality_Austrian  Nationality_Belgian  \\\n",
       "0                   False                 False                False   \n",
       "1                   False                 False                False   \n",
       "2                   False                 False                False   \n",
       "3                   False                 False                False   \n",
       "4                   False                 False                False   \n",
       "\n",
       "   Nationality_Brazilian  Nationality_British  Nationality_Canadian  \\\n",
       "0                  False                 True                 False   \n",
       "1                  False                False                 False   \n",
       "2                  False                 True                 False   \n",
       "3                  False                 True                 False   \n",
       "4                  False                False                 False   \n",
       "\n",
       "   Nationality_Chinese  Nationality_Colombian  Nationality_Czech  \\\n",
       "0                False                  False              False   \n",
       "1                False                  False              False   \n",
       "2                False                  False              False   \n",
       "3                False                  False              False   \n",
       "4                False                  False              False   \n",
       "\n",
       "   Nationality_Danish  Nationality_Dutch  Nationality_Finnish  \\\n",
       "0               False              False                False   \n",
       "1               False              False                 True   \n",
       "2               False              False                False   \n",
       "3               False              False                False   \n",
       "4               False              False                False   \n",
       "\n",
       "   Nationality_French  Nationality_German  Nationality_Hungarian  \\\n",
       "0               False               False                  False   \n",
       "1               False               False                  False   \n",
       "2               False               False                  False   \n",
       "3               False               False                  False   \n",
       "4                True               False                  False   \n",
       "\n",
       "   Nationality_Indian  Nationality_Indonesian  Nationality_Irish  \\\n",
       "0               False                   False              False   \n",
       "1               False                   False              False   \n",
       "2               False                   False              False   \n",
       "3               False                   False              False   \n",
       "4               False                   False              False   \n",
       "\n",
       "   Nationality_Italian  Nationality_Japanese  Nationality_Malaysian  \\\n",
       "0                False                 False                  False   \n",
       "1                False                 False                  False   \n",
       "2                False                 False                  False   \n",
       "3                False                 False                  False   \n",
       "4                False                 False                  False   \n",
       "\n",
       "   Nationality_Mexican  Nationality_Monegasque  Nationality_New Zealander  \\\n",
       "0                False                   False                      False   \n",
       "1                False                   False                      False   \n",
       "2                False                   False                      False   \n",
       "3                False                   False                      False   \n",
       "4                False                   False                      False   \n",
       "\n",
       "   Nationality_Polish  Nationality_Portuguese  Nationality_Russian  \\\n",
       "0               False                   False                False   \n",
       "1               False                   False                False   \n",
       "2               False                   False                False   \n",
       "3               False                   False                False   \n",
       "4               False                   False                False   \n",
       "\n",
       "   Nationality_Spanish  Nationality_Swedish  Nationality_Swiss  \\\n",
       "0                False                False              False   \n",
       "1                False                False              False   \n",
       "2                False                False              False   \n",
       "3                False                False              False   \n",
       "4                False                False              False   \n",
       "\n",
       "   Nationality_Thai  Nationality_Venezuelan  \n",
       "0             False                   False  \n",
       "1             False                   False  \n",
       "2             False                   False  \n",
       "3             False                   False  \n",
       "4             False                   False  "
      ]
     },
     "execution_count": 19,
     "metadata": {},
     "output_type": "execute_result"
    }
   ],
   "source": [
    "df.head()"
   ]
  },
  {
   "cell_type": "markdown",
   "metadata": {},
   "source": [
    "Now we can move on with the modelling."
   ]
  },
  {
   "cell_type": "markdown",
   "metadata": {},
   "source": [
    "# 3. Train-Test-Split the Model & Class Balance Review"
   ]
  },
  {
   "cell_type": "markdown",
   "metadata": {},
   "source": [
    "In our data science project, we employ a train-test split to ensure the robustness and generalizability of our predictive model. By dividing our dataset into a training set for model development and a testing set for validation, we simulate real-world scenarios where the model must make accurate predictions on unseen data. This method helps us evaluate the model's performance objectively, ensuring it can reliably predict future race outcomes based on patterns learned from historical data, rather than memorizing specific outcomes."
   ]
  },
  {
   "cell_type": "code",
   "execution_count": 20,
   "metadata": {},
   "outputs": [],
   "source": [
    "# Perform train-test split\n",
    "train_data, test_data = train_test_split(df, test_size=0.2, random_state=42)  # You can adjust the test_size as needed\n",
    "\n",
    "# Save training and testing data to separate CSV files\n",
    "train_data.to_csv('train_data.csv', index=False)\n",
    "test_data.to_csv('test_data.csv', index=False)"
   ]
  },
  {
   "cell_type": "markdown",
   "metadata": {},
   "source": [
    "**Class Balance Review**: In our quest to predict Formula 1 race winners, we want examine the class balance within the \"race_win\" column, where '1' indicates a win and '0' denotes not winning. Analyzing class imbalance is crucial because it can significantly influence the model's learning process and its subsequent predictions. If one class vastly outnumbers the other, the model might become biased, favoring the majority class and potentially overlooking patterns specific to the minority class. This examination ensures our model learns to recognize the subtle nuances between winning and not winning, striving for accurate and fair predictions across all races.\n",
    "\n",
    "It's also worth nothing that a naive prediction model, will predict 0 (non-win) for a particular driver and be correct 95% of the time (as there are currently 20 drivers in F1 and only 1 winner). This will serve as a benchmark for accuracy, but we want to predict the winner (rather than the non-winners) so we will also need to look at Precision and Recall. "
   ]
  },
  {
   "cell_type": "code",
   "execution_count": 7,
   "metadata": {},
   "outputs": [
    {
     "data": {
      "image/png": "[encoded data removed]",
      "text/plain": [
       "<Figure size 640x480 with 1 Axes>"
      ]
     },
     "metadata": {},
     "output_type": "display_data"
    }
   ],
   "source": [
    "# Get the normalized value counts for the 'race_win' column and multiply by 100 to get percentages\n",
    "value_counts = train_data['race_win'].value_counts(normalize=True) * 100\n",
    "\n",
    "# Create the bar chart\n",
    "plt.figure()\n",
    "plt.bar(value_counts.index.astype(str), value_counts.values)\n",
    "plt.xlabel('Race Win or Not')\n",
    "plt.ylabel('Percentage of Total Training Set (%)')\n",
    "plt.xticks([0, 1], ['Did not Win', 'Did Win'])\n",
    "plt.title('Distribution of \"Win\" rows in dataset')\n",
    "plt.show()"
   ]
  },
  {
   "cell_type": "markdown",
   "metadata": {},
   "source": [
    "This bar chart displays the class distribution for the training dataset concerning Formula 1 race outcomes, specifically showing the proportion of instances where a driver did not win compared to when they did. The stark contrast suggests a significant class imbalance, with the \"Did not Win\" category heavily outweighing the \"Did Win\" one. As mentioned above, this imbalance poses a challenge because models might become biased towards predicting the majority class, \"Did not Win.\" As a result, the model might perform poorly in correctly predicting the less frequent, but more interesting (for this study), \"Did Win\" instances. \n",
    "\n",
    "To address this, later in the study we will explore techniques such as resampling, or specialized ML algorithms that are more robust at dealing with class imbalance (e.g. Random Forest)."
   ]
  },
  {
   "cell_type": "markdown",
   "metadata": {},
   "source": [
    "# 4. **Logistics Regression**"
   ]
  },
  {
   "cell_type": "markdown",
   "metadata": {},
   "source": [
    "We're kicking off with a logistic regression as our initial modeling approach. We will start with a logistic regression because it's a straightforward, interpretable model that excels in binary classification problems, like ours, with 'win' or 'not win' outcomes. This model will serve as a benchmark, providing a clear baseline for performance that we can compare against more complex models later on. Its simplicity allows us to quickly gauge the predictive power of our features and understand the underlying patterns in the data, setting a solid foundation for refining our predictive capabilities as the project progresses."
   ]
  },
  {
   "cell_type": "code",
   "execution_count": 8,
   "metadata": {},
   "outputs": [],
   "source": [
    "# Define X and Y for the training model\n",
    "X_train = train_data.drop('race_win', axis=1)\n",
    "y_train = train_data['race_win']"
   ]
  },
  {
   "cell_type": "markdown",
   "metadata": {},
   "source": [
    "When applying logistic regression, we are going to take the step of scaling our data. This process normalizes the features in our training data, ensuring that each one contributes equally to the model's predictions, without letting larger-scale features dominate. This step is useful because logistic regression, like many machine learning algorithms, can perform better and converge faster on scaled data, leading to more reliable and interpretable results. This standardization ensures that our model evaluates the importance of each feature based on its contribution to predicting race outcomes, rather than being skewed by the varying scales of the data. \n",
    "\n",
    "We are going to use the StandardScaler, as generally people use the Standard scaler rather than the MinMax scaler. While the ,MinMax scaler scales the data such that it lies between 0 and 1, the standard scaler scales the data such that it is centered at 0, and has a variance (as well as standard deviation) of 1.0."
   ]
  },
  {
   "cell_type": "code",
   "execution_count": 9,
   "metadata": {},
   "outputs": [],
   "source": [
    "# Scale the data\n",
    "scaler = StandardScaler()\n",
    "X_train_scaled = scaler.fit_transform(X_train)"
   ]
  },
  {
   "cell_type": "code",
   "execution_count": 11,
   "metadata": {},
   "outputs": [],
   "source": [
    "# Create the logistic regression model\n",
    "model = LogisticRegression()"
   ]
  },
  {
   "cell_type": "code",
   "execution_count": 12,
   "metadata": {},
   "outputs": [
    {
     "name": "stderr",
     "output_type": "stream",
     "text": [
      "c:\\Users\\Alex\\anaconda3\\envs\\capstone\\lib\\site-packages\\sklearn\\linear_model\\_logistic.py:460: ConvergenceWarning: lbfgs failed to converge (status=1):\n",
      "STOP: TOTAL NO. of ITERATIONS REACHED LIMIT.\n",
      "\n",
      "Increase the number of iterations (max_iter) or scale the data as shown in:\n",
      "    https://scikit-learn.org/stable/modules/preprocessing.html\n",
      "Please also refer to the documentation for alternative solver options:\n",
      "    https://scikit-learn.org/stable/modules/linear_model.html#logistic-regression\n",
      "  n_iter_i = _check_optimize_result(\n"
     ]
    },
    {
     "data": {
      "text/html": [
       "<style>#sk-container-id-1 {color: black;}#sk-container-id-1 pre{padding: 0;}#sk-container-id-1 div.sk-toggleable {background-color: white;}#sk-container-id-1 label.sk-toggleable__label {cursor: pointer;display: block;width: 100%;margin-bottom: 0;padding: 0.3em;box-sizing: border-box;text-align: center;}#sk-container-id-1 label.sk-toggleable__label-arrow:before {content: \"▸\";float: left;margin-right: 0.25em;color: #696969;}#sk-container-id-1 label.sk-toggleable__label-arrow:hover:before {color: black;}#sk-container-id-1 div.sk-estimator:hover label.sk-toggleable__label-arrow:before {color: black;}#sk-container-id-1 div.sk-toggleable__content {max-height: 0;max-width: 0;overflow: hidden;text-align: left;background-color: #f0f8ff;}#sk-container-id-1 div.sk-toggleable__content pre {margin: 0.2em;color: black;border-radius: 0.25em;background-color: #f0f8ff;}#sk-container-id-1 input.sk-toggleable__control:checked~div.sk-toggleable__content {max-height: 200px;max-width: 100%;overflow: auto;}#sk-container-id-1 input.sk-toggleable__control:checked~label.sk-toggleable__label-arrow:before {content: \"▾\";}#sk-container-id-1 div.sk-estimator input.sk-toggleable__control:checked~label.sk-toggleable__label {background-color: #d4ebff;}#sk-container-id-1 div.sk-label input.sk-toggleable__control:checked~label.sk-toggleable__label {background-color: #d4ebff;}#sk-container-id-1 input.sk-hidden--visually {border: 0;clip: rect(1px 1px 1px 1px);clip: rect(1px, 1px, 1px, 1px);height: 1px;margin: -1px;overflow: hidden;padding: 0;position: absolute;width: 1px;}#sk-container-id-1 div.sk-estimator {font-family: monospace;background-color: #f0f8ff;border: 1px dotted black;border-radius: 0.25em;box-sizing: border-box;margin-bottom: 0.5em;}#sk-container-id-1 div.sk-estimator:hover {background-color: #d4ebff;}#sk-container-id-1 div.sk-parallel-item::after {content: \"\";width: 100%;border-bottom: 1px solid gray;flex-grow: 1;}#sk-container-id-1 div.sk-label:hover label.sk-toggleable__label {background-color: #d4ebff;}#sk-container-id-1 div.sk-serial::before {content: \"\";position: absolute;border-left: 1px solid gray;box-sizing: border-box;top: 0;bottom: 0;left: 50%;z-index: 0;}#sk-container-id-1 div.sk-serial {display: flex;flex-direction: column;align-items: center;background-color: white;padding-right: 0.2em;padding-left: 0.2em;position: relative;}#sk-container-id-1 div.sk-item {position: relative;z-index: 1;}#sk-container-id-1 div.sk-parallel {display: flex;align-items: stretch;justify-content: center;background-color: white;position: relative;}#sk-container-id-1 div.sk-item::before, #sk-container-id-1 div.sk-parallel-item::before {content: \"\";position: absolute;border-left: 1px solid gray;box-sizing: border-box;top: 0;bottom: 0;left: 50%;z-index: -1;}#sk-container-id-1 div.sk-parallel-item {display: flex;flex-direction: column;z-index: 1;position: relative;background-color: white;}#sk-container-id-1 div.sk-parallel-item:first-child::after {align-self: flex-end;width: 50%;}#sk-container-id-1 div.sk-parallel-item:last-child::after {align-self: flex-start;width: 50%;}#sk-container-id-1 div.sk-parallel-item:only-child::after {width: 0;}#sk-container-id-1 div.sk-dashed-wrapped {border: 1px dashed gray;margin: 0 0.4em 0.5em 0.4em;box-sizing: border-box;padding-bottom: 0.4em;background-color: white;}#sk-container-id-1 div.sk-label label {font-family: monospace;font-weight: bold;display: inline-block;line-height: 1.2em;}#sk-container-id-1 div.sk-label-container {text-align: center;}#sk-container-id-1 div.sk-container {/* jupyter's `normalize.less` sets `[hidden] { display: none; }` but bootstrap.min.css set `[hidden] { display: none !important; }` so we also need the `!important` here to be able to override the default hidden behavior on the sphinx rendered scikit-learn.org. See: https://github.com/scikit-learn/scikit-learn/issues/21755 */display: inline-block !important;position: relative;}#sk-container-id-1 div.sk-text-repr-fallback {display: none;}</style><div id=\"sk-container-id-1\" class=\"sk-top-container\"><div class=\"sk-text-repr-fallback\"><pre>LogisticRegression()</pre><b>In a Jupyter environment, please rerun this cell to show the HTML representation or trust the notebook. <br />On GitHub, the HTML representation is unable to render, please try loading this page with nbviewer.org.</b></div><div class=\"sk-container\" hidden><div class=\"sk-item\"><div class=\"sk-estimator sk-toggleable\"><input class=\"sk-toggleable__control sk-hidden--visually\" id=\"sk-estimator-id-1\" type=\"checkbox\" checked><label for=\"sk-estimator-id-1\" class=\"sk-toggleable__label sk-toggleable__label-arrow\">LogisticRegression</label><div class=\"sk-toggleable__content\"><pre>LogisticRegression()</pre></div></div></div></div></div>"
      ],
      "text/plain": [
       "LogisticRegression()"
      ]
     },
     "execution_count": 12,
     "metadata": {},
     "output_type": "execute_result"
    }
   ],
   "source": [
    "# Train the model\n",
    "model.fit(X_train_scaled, y_train)"
   ]
  },
  {
   "cell_type": "code",
   "execution_count": 13,
   "metadata": {},
   "outputs": [],
   "source": [
    "# Predict on the training data (to see how well the model does on the data it was trained on)\n",
    "y_train_pred = model.predict(X_train_scaled)"
   ]
  },
  {
   "cell_type": "code",
   "execution_count": 14,
   "metadata": {},
   "outputs": [
    {
     "name": "stdout",
     "output_type": "stream",
     "text": [
      "[[8255   64]\n",
      " [ 309  108]]\n",
      "              precision    recall  f1-score   support\n",
      "\n",
      "       False       0.96      0.99      0.98      8319\n",
      "        True       0.63      0.26      0.37       417\n",
      "\n",
      "    accuracy                           0.96      8736\n",
      "   macro avg       0.80      0.63      0.67      8736\n",
      "weighted avg       0.95      0.96      0.95      8736\n",
      "\n"
     ]
    }
   ],
   "source": [
    "# Evaluate the model\n",
    "print(confusion_matrix(y_train, y_train_pred))\n",
    "print(classification_report(y_train, y_train_pred))"
   ]
  },
  {
   "cell_type": "markdown",
   "metadata": {},
   "source": [
    "The confusion matrix and classification report reveal key insights into our model's predictive prowess regarding F1 race outcomes. The model successfully predicted 'Did not Win' (False) with high precision, evident in 8255 correct predictions. However, it erroneously classified 'Did Win' (True) as 'Did not Win' in 309 instances. Conversely, it correctly predicted 'Did Win' only 108 times while mistakenly predicting 64 instances as 'Did not Win'.\n",
    "\n",
    "The classification report further demystifies these results. The model exhibits a strong precision of 96% for 'Did not Win' cases, but its recall for 'Did Win' cases is notably low at 26%, indicating a considerable number of missed actual wins. This culminates in an f1-score of 0.37 for 'Did Win' predictions, which is not optimal and reflects the imbalance in class distribution. In essence, the model's adeptness at spotting non-winners does not translate equally to detecting winners, which are the focal point of our predictive endeavor.\n",
    "\n"
   ]
  },
  {
   "cell_type": "markdown",
   "metadata": {},
   "source": [
    "**Next Steps**\n",
    "\n",
    "1. I will experiment with different algorithms that are more robust to imbalanced datasets, such as ensemble methods. Fine-tuning the model's hyperparameters could also enhance predictive performance.\n",
    "\n",
    "2. Additionally, to improve the model's ability to predict F1 race winners, I will consider addressing the class imbalance by employing techniques such as oversampling the minority class (I can't really undersample the majority class as there are too few minority class). \n",
    "\n",
    "3. Another option is incorporating more discriminative features or engineered features that capture the dynamics of race-winning factors"
   ]
  },
  {
   "cell_type": "markdown",
   "metadata": {},
   "source": [
    "# 5. **Optimizing LogReg Using Pipeline and Grid Search**"
   ]
  },
  {
   "cell_type": "markdown",
   "metadata": {},
   "source": [
    "To get the most out of our Logistic Regression model for predicting F1 winners, we're building a pipeline to streamline the process and using grid search to find the best hyperparameter settings. This will ensure we're efficiently testing different options and hopefully zoom in on the most accurate model for picking race winners"
   ]
  },
  {
   "cell_type": "code",
   "execution_count": 15,
   "metadata": {},
   "outputs": [],
   "source": [
    "# Set up a directory to cache the pipeline results\n",
    "cachedir = mkdtemp()\n",
    "\n",
    "# Set up a pipeline\n",
    "# The steps here act as placeholders and will be changed when we pass the pipeline\n",
    "\n",
    "my_pipeline = Pipeline([('scaler', StandardScaler()),\n",
    "('dim_reducer', PCA()),\n",
    "('model', LogisticRegression())], memory=cachedir)"
   ]
  },
  {
   "cell_type": "markdown",
   "metadata": {},
   "source": [
    "We're fine-tuning our Logistic Regression model by trying out different configurations using a grid search. This code tests a range of hyperparameter values:\n",
    "\n",
    "1. **C-value (regularization strength)**: We're trying various C-values to find the sweet spot between underfitting and overfitting. Higher C emphasizes simpler models, potentially reducing overfitting, while lower C allows for more complex models that could capture intricate patterns.\n",
    "\n",
    "2. **Scalers**: We're including different scalers (StandardScaler, MinMaxScaler, RobustScaler) to see if transforming the data improves model performance. Scaling can address issues like features having different scales, potentially leading to better predictions.\n",
    "\n",
    "3. **Dimensionality Reduction (PCA)**: We're testing PCA (Principal Component Analysis) with and without scaling to see if reducing feature dimensions helps. This can simplify the model and potentially improve generalizability, especially if there's redundancy in the data (e.g. some features repeat information).\n",
    "\n",
    "4. **Penalty (L1 vs. L2)**: We're comparing L1 (LASSO) and L2 (Ridge) penalties. L1 shrinks some coefficients to zero, potentially leading to feature selection, while L2 shrinks all coefficients, encouraging simpler models. We're unsure which might work best for our data, so we're testing both.\n",
    "\n",
    "By systematically testing these combinations, we're hoping to identify the best configuration of hyperparameters, scalers, and dimensionality reduction for our Logistic Regression model, ultimately leading to more accurate F1 race winner predictions."
   ]
  },
  {
   "cell_type": "code",
   "execution_count": 19,
   "metadata": {},
   "outputs": [],
   "source": [
    "from sklearn.preprocessing import StandardScaler, MinMaxScaler, RobustScaler\n",
    "\n",
    "# Let's try the same range of C values from earlier\n",
    "c_values = [.00001, .0001, .001, .1, 1, 10, 100, 1000, 10000]\n",
    "\n",
    "# Parameter grid\n",
    "logreg_param_grid = [\n",
    "    # L1 without PCA\n",
    "    {'scaler': [None, StandardScaler(), MinMaxScaler()],\n",
    "     'dim_reducer': [None],\n",
    "     'model': [LogisticRegression(penalty='l1', solver='liblinear', random_state=1, n_jobs=-1, max_iter=100)],\n",
    "     'model__C': c_values},\n",
    "\n",
    "    # L1 with PCA\n",
    "    {'scaler': [StandardScaler(), MinMaxScaler()],\n",
    "     'dim_reducer': [PCA()],\n",
    "     'dim_reducer__n_components': [0.95, 0.9, 0.85, 0.8],\n",
    "     'model': [LogisticRegression(penalty='l1', solver='liblinear', random_state=1, n_jobs=-1, max_iter=100)],\n",
    "     'model__C': c_values},\n",
    "\n",
    "    # L2 (default) without PCA\n",
    "    {'scaler': [None, StandardScaler(), MinMaxScaler()],\n",
    "     'dim_reducer': [None],\n",
    "     'model': [LogisticRegression(penalty='l2', solver='lbfgs', random_state=1, n_jobs=-1, max_iter=100)],\n",
    "     'model__C': c_values},\n",
    "\n",
    "    # L2 (default) with PCA\n",
    "    {'scaler': [StandardScaler(), MinMaxScaler()],\n",
    "     'dim_reducer': [PCA()],\n",
    "     'dim_reducer__n_components': [0.95, 0.9, 0.85, 0.8],\n",
    "     'model': [LogisticRegression(penalty='l2', solver='lbfgs', random_state=1, n_jobs=-1, max_iter=100)],\n",
    "     'model__C': c_values}\n",
    "]\n",
    "\n",
    "# The parameter dim_reducer__n_components specifies the number of components to keep after reducing dimensions. \n",
    "# For solver : \"LogisticRegression (default solver: lbfgs): Offers various solver options (including liblinear, lbfgs, newton-cg, sag) are available, but I went with the default"
   ]
  },
  {
   "cell_type": "code",
   "execution_count": 20,
   "metadata": {},
   "outputs": [
    {
     "name": "stderr",
     "output_type": "stream",
     "text": [
      "c:\\Users\\Alex\\anaconda3\\envs\\capstone\\lib\\site-packages\\sklearn\\linear_model\\_logistic.py:1223: UserWarning: 'n_jobs' > 1 does not have any effect when 'solver' is set to 'liblinear'. Got 'n_jobs' = 12.\n",
      "  warnings.warn(\n"
     ]
    }
   ],
   "source": [
    "# Instantiate the log reg grid search\n",
    "logreg_gs = GridSearchCV(my_pipeline, param_grid=logreg_param_grid, cv=5, n_jobs=-1)\n",
    "\n",
    "# Fit the log reg grid search\n",
    "fitted_logreg_gs = logreg_gs.fit(X_train, y_train)"
   ]
  },
  {
   "cell_type": "code",
   "execution_count": 21,
   "metadata": {},
   "outputs": [
    {
     "name": "stdout",
     "output_type": "stream",
     "text": [
      "Best parameters set found on development set:\n",
      "{'dim_reducer': PCA(), 'dim_reducer__n_components': 0.95, 'model': LogisticRegression(n_jobs=-1, penalty='l1', random_state=1, solver='liblinear'), 'model__C': 100, 'scaler': MinMaxScaler()}\n",
      "Best score: 0.954784599686419\n"
     ]
    }
   ],
   "source": [
    "# Reviewing the results\n",
    "print(\"Best parameters set found on development set:\")\n",
    "print(logreg_gs.best_params_)\n",
    "print(\"Best score:\", logreg_gs.best_score_)"
   ]
  },
  {
   "cell_type": "markdown",
   "metadata": {},
   "source": [
    "The results above show the best parameters for predicting the F1 race winner, were found using a logistic regression model with a very high regularization strength (`C=10000`) and no dimensionality reduction (`'dim_reducer': None`). The best score, which is the accuracy of the model on the validation set, is approximately 95.58%.\n",
    "\n",
    "It's also important to note that the penalty is not explicitly mentioned, which means that the logistic regression is using its default `l2` penalty, also known as ridge regression. The `l2` penalty is used to prevent overfitting by adding a regularization term to the loss function, which penalizes large coefficients. The high value of `C` implies that the model is giving less importance to this regularization term, relying more on the data itself for prediction. "
   ]
  },
  {
   "cell_type": "markdown",
   "metadata": {},
   "source": [
    "#### Testing the model on the \"test set\""
   ]
  },
  {
   "cell_type": "code",
   "execution_count": 22,
   "metadata": {},
   "outputs": [],
   "source": [
    "# Define X and Y for the training model\n",
    "X_test = test_data.drop('race_win', axis=1)\n",
    "y_test = test_data['race_win']"
   ]
  },
  {
   "cell_type": "code",
   "execution_count": 23,
   "metadata": {},
   "outputs": [],
   "source": [
    "# Making predictions using the best estimator\n",
    "y_pred = logreg_gs.predict(X_test)\n",
    "\n",
    "# logreg_gs.score(x_test,y_test)"
   ]
  },
  {
   "cell_type": "code",
   "execution_count": 24,
   "metadata": {},
   "outputs": [
    {
     "name": "stdout",
     "output_type": "stream",
     "text": [
      "Confusion Matrix:\n",
      "[[2039   38]\n",
      " [  75   33]]\n",
      "Classification Report:\n",
      "              precision    recall  f1-score   support\n",
      "\n",
      "       False       0.96      0.98      0.97      2077\n",
      "        True       0.46      0.31      0.37       108\n",
      "\n",
      "    accuracy                           0.95      2185\n",
      "   macro avg       0.71      0.64      0.67      2185\n",
      "weighted avg       0.94      0.95      0.94      2185\n",
      "\n",
      "Accuracy: 0.9482837528604119\n"
     ]
    }
   ],
   "source": [
    "# Evaluating the model\n",
    "print(\"Confusion Matrix:\")\n",
    "print(confusion_matrix(y_test, y_pred))\n",
    "print(\"Classification Report:\")\n",
    "print(classification_report(y_test, y_pred))\n",
    "print(\"Accuracy:\", accuracy_score(y_test, y_pred))"
   ]
  },
  {
   "cell_type": "markdown",
   "metadata": {},
   "source": [
    "From the new confusion matrix, we can see that the model predicted the majority class (0,  the 'non-winner') quite accurately, with 2057 true negatives and only 20 false positives. However, it struggled more with the minority class (1, the 'winner'), with a higher proportion of false negatives (73) relative to true positives (35). \n",
    "\n",
    "The classification report provides additional insight. The precision for class 1 is 0.64, meaning that when the model predicts a race winner, it is correct 64% of the time. The recall for class 1 is 0.32, indicating that the model only identifies 32% of the actual race winners. This is reflected in the lower F1-score for class 1 (0.43), which is a harmonic mean of precision and recall, showing that the model is less adept at predicting winners than non-winners.\n",
    "\n",
    "Overall, the model is quite accurate (95.74%) when considering both classes together, but this high accuracy is largely due to its performance on the majority class. The relatively low F1-score for predicting winners suggests that there is room for improvement, particularly in how the model identifies the comparatively rare event of a race win."
   ]
  },
  {
   "cell_type": "markdown",
   "metadata": {},
   "source": [
    "#### **Comparison of the models**"
   ]
  },
  {
   "cell_type": "markdown",
   "metadata": {},
   "source": [
    "Comparing the two models for our F1 race winner prediction project, the two models have similar accuracy scores, but the second \"tuned\" model is more effective at predicting the positive class (label 1), which is our class of interest (the actual race winners). The second \"tuned\" model had a better balance between sensitivity and precision for the positive class, with a recall of 0.32 versus 0.23 in the first model, suggesting it was better at identifying actual winners. This trade-off is important in our project context where the correct prediction of race winners (a likely rare event) is more valuable than the overall accuracy rate."
   ]
  },
  {
   "cell_type": "markdown",
   "metadata": {},
   "source": [
    "# 6. **Decision Tree**"
   ]
  },
  {
   "cell_type": "markdown",
   "metadata": {},
   "source": [
    "After exploring the predictive capabilities of logistic regression in our project to forecast F1 race winners, we're turning our attention to the Decision Tree model as our next candidate. Decision Trees can capture non-linear relationships between features and the target variable, which might be prevalent in complex scenarios like F1 racing where interactions between conditions and driver capabilities can influence the outcome. Additionally, they offer excellent interpretability; we can easily understand and visualize the decision-making process of the model."
   ]
  },
  {
   "cell_type": "code",
   "execution_count": 25,
   "metadata": {},
   "outputs": [],
   "source": [
    "pipe_dt = Pipeline([('scl', StandardScaler()),\n",
    "                    ('DT',DecisionTreeClassifier(random_state=42))])"
   ]
  },
  {
   "cell_type": "markdown",
   "metadata": {},
   "source": [
    "When tuning models for predicting outcomes like an F1 race winner, hyperparameters like  'DT_criterion', 'DT_min_samples_leaf', 'DT_max_depth', and 'DT_min_samples_split' for decision trees help to define how the tree makes decisions, which impacts the model's complexity and ability to generalize."
   ]
  },
  {
   "cell_type": "code",
   "execution_count": 26,
   "metadata": {},
   "outputs": [],
   "source": [
    "# create parameter grid for model\n",
    "dt_param_grid = [{'DT__criterion': ['gini', 'entropy'],\n",
    "                   'DT__min_samples_leaf': [1, 2, 3, 4, 5, 6],\n",
    "                   'DT__max_depth': [1, 2, 3, 4, 5, 6],\n",
    "                   'DT__min_samples_split': [2, 3, 4, 5, 6]}]"
   ]
  },
  {
   "cell_type": "markdown",
   "metadata": {},
   "source": [
    "**DT_criterion**:\n",
    "1. '**gini**': Uses the Gini impurity as the criterion for splitting. It measures how often a randomly chosen element from the set would be incorrectly labeled. The 'gini' value gives you a number that represents this mix-up; the closer to zero, the less mixed (or impure) the group is, meaning your split did a good job. If the 'gini' value is higher, your groups are mixed, and the split could probably be better.\n",
    "2. '**entropy**': Uses the information gain (entropy) for splitting. It measures the reduction in entropy or surprise from transforming a dataset in some way.\n",
    "\n",
    "**DT_min_samples_leaf**:\n",
    "Specifies the minimum number of samples required to be at a leaf node. A split point at any depth will only be considered if it leaves at least this number of training samples in each of the left and right branches. This helps to control over-fitting by smoothing the model.\n",
    "\n",
    "**DT_max_depth**:\n",
    "Indicates the maximum depth of the tree. It is used to control over-fitting as higher depth will allow the model to learn relations very specific to the particular sample.\n",
    "\n",
    "**DT_min_samples_split**:\n",
    "Represents the minimum number of samples required to split an internal node. This provides a way to control over-fitting by requiring a larger sample size for a split to be considered."
   ]
  },
  {
   "cell_type": "code",
   "execution_count": 27,
   "metadata": {},
   "outputs": [],
   "source": [
    "# finally, create a gridsearchcv object with the param grid\n",
    "dt_grid_search = GridSearchCV(estimator=pipe_dt,\n",
    "        param_grid=dt_param_grid,\n",
    "        scoring='accuracy',\n",
    "        cv=5)"
   ]
  },
  {
   "cell_type": "code",
   "execution_count": 28,
   "metadata": {},
   "outputs": [],
   "source": [
    "# putting it all together\n",
    "grids = [dt_grid_search]\n",
    "for pipe in grids:\n",
    "    pipe.fit(X_train,y_train)"
   ]
  },
  {
   "cell_type": "code",
   "execution_count": 29,
   "metadata": {},
   "outputs": [
    {
     "name": "stdout",
     "output_type": "stream",
     "text": [
      "Decision Trees Test Accuracy: 0.9446224256292907\n",
      "Decision Trees Best Params: {'DT__criterion': 'gini', 'DT__max_depth': 3, 'DT__min_samples_leaf': 4, 'DT__min_samples_split': 2}\n"
     ]
    }
   ],
   "source": [
    "# find out performance of each model and best params\n",
    "grid_dict = {0: 'Decision Trees'}\n",
    "for i, model in enumerate(grids):\n",
    "    print('{} Test Accuracy: {}'.format(grid_dict[i],model.score(X_test,y_test)))\n",
    "    print('{} Best Params: {}'.format(grid_dict[i],model.best_params_))"
   ]
  },
  {
   "cell_type": "markdown",
   "metadata": {},
   "source": [
    "The output above indicates the performance of a Decision Tree model in predicting Formula 1 race winners. With a test accuracy of approximately 94.46%, the model demonstrates a high level of precision in making predictions on the test data. The best parameters, found using grid search, suggest the optimal configuration for the Decision Tree: a `gini` criterion for measuring the quality of splits, a maximum tree depth of 3, a minimum of 4 samples required to form a leaf node, and a minimum of 2 samples required to split an internal node. These parameters help avoid overfitting and ensure the model is generalized enough to make robust predictions on unseen data."
   ]
  },
  {
   "cell_type": "markdown",
   "metadata": {},
   "source": [
    "#### **Analyse the results**"
   ]
  },
  {
   "cell_type": "code",
   "execution_count": 30,
   "metadata": {},
   "outputs": [],
   "source": [
    "# Obtain predictions from the best decision tree model\n",
    "y_pred_dt = dt_grid_search.best_estimator_.predict(X_test)"
   ]
  },
  {
   "cell_type": "code",
   "execution_count": 31,
   "metadata": {},
   "outputs": [
    {
     "name": "stdout",
     "output_type": "stream",
     "text": [
      "Decision Tree Classification Report:\n",
      "              precision    recall  f1-score   support\n",
      "\n",
      "       False       0.97      0.98      0.97      2077\n",
      "        True       0.42      0.33      0.37       108\n",
      "\n",
      "    accuracy                           0.94      2185\n",
      "   macro avg       0.69      0.65      0.67      2185\n",
      "weighted avg       0.94      0.94      0.94      2185\n",
      "\n",
      "Decision Tree Confusion Matrix:\n",
      "[[2028   49]\n",
      " [  72   36]]\n"
     ]
    }
   ],
   "source": [
    "print(\"Decision Tree Classification Report:\")\n",
    "print(classification_report(y_test, y_pred_dt))\n",
    "\n",
    "print(\"Decision Tree Confusion Matrix:\")\n",
    "print(confusion_matrix(y_test, y_pred_dt))"
   ]
  },
  {
   "cell_type": "markdown",
   "metadata": {},
   "source": [
    "The classification reports and confusion matrices for our F1 race winner prediction project reveal key insights into model performance. The Logistic Regression model has high precision and recall for the majority class (label 0), but it struggles with the minority class (label 1 - the actual race winners), with significantly lower recall. This means it often misses identifying the true race winners. \n",
    "\n",
    "The Decision Tree model shows a slightly more balanced performance between the classes, though overall it has lower precision and recall, which might lead to more false positives and false negatives overall. \n",
    "\n",
    "The confusion matrices further highlight these points: Logistic Regression correctly identifies non-winners most of the time but fails to identify winners reliably, while the Decision Tree sacrifices some accuracy on the majority class for a tiny improvement in identifying winners.\n",
    "\n",
    "Either way, the results still aren't great at predicting the race winner, so we will need to work on other ideas to improve our model"
   ]
  },
  {
   "cell_type": "markdown",
   "metadata": {},
   "source": [
    "# 7.  Random Forest"
   ]
  },
  {
   "cell_type": "code",
   "execution_count": 32,
   "metadata": {},
   "outputs": [
    {
     "data": {
      "text/html": [
       "<style>#sk-container-id-2 {color: black;}#sk-container-id-2 pre{padding: 0;}#sk-container-id-2 div.sk-toggleable {background-color: white;}#sk-container-id-2 label.sk-toggleable__label {cursor: pointer;display: block;width: 100%;margin-bottom: 0;padding: 0.3em;box-sizing: border-box;text-align: center;}#sk-container-id-2 label.sk-toggleable__label-arrow:before {content: \"▸\";float: left;margin-right: 0.25em;color: #696969;}#sk-container-id-2 label.sk-toggleable__label-arrow:hover:before {color: black;}#sk-container-id-2 div.sk-estimator:hover label.sk-toggleable__label-arrow:before {color: black;}#sk-container-id-2 div.sk-toggleable__content {max-height: 0;max-width: 0;overflow: hidden;text-align: left;background-color: #f0f8ff;}#sk-container-id-2 div.sk-toggleable__content pre {margin: 0.2em;color: black;border-radius: 0.25em;background-color: #f0f8ff;}#sk-container-id-2 input.sk-toggleable__control:checked~div.sk-toggleable__content {max-height: 200px;max-width: 100%;overflow: auto;}#sk-container-id-2 input.sk-toggleable__control:checked~label.sk-toggleable__label-arrow:before {content: \"▾\";}#sk-container-id-2 div.sk-estimator input.sk-toggleable__control:checked~label.sk-toggleable__label {background-color: #d4ebff;}#sk-container-id-2 div.sk-label input.sk-toggleable__control:checked~label.sk-toggleable__label {background-color: #d4ebff;}#sk-container-id-2 input.sk-hidden--visually {border: 0;clip: rect(1px 1px 1px 1px);clip: rect(1px, 1px, 1px, 1px);height: 1px;margin: -1px;overflow: hidden;padding: 0;position: absolute;width: 1px;}#sk-container-id-2 div.sk-estimator {font-family: monospace;background-color: #f0f8ff;border: 1px dotted black;border-radius: 0.25em;box-sizing: border-box;margin-bottom: 0.5em;}#sk-container-id-2 div.sk-estimator:hover {background-color: #d4ebff;}#sk-container-id-2 div.sk-parallel-item::after {content: \"\";width: 100%;border-bottom: 1px solid gray;flex-grow: 1;}#sk-container-id-2 div.sk-label:hover label.sk-toggleable__label {background-color: #d4ebff;}#sk-container-id-2 div.sk-serial::before {content: \"\";position: absolute;border-left: 1px solid gray;box-sizing: border-box;top: 0;bottom: 0;left: 50%;z-index: 0;}#sk-container-id-2 div.sk-serial {display: flex;flex-direction: column;align-items: center;background-color: white;padding-right: 0.2em;padding-left: 0.2em;position: relative;}#sk-container-id-2 div.sk-item {position: relative;z-index: 1;}#sk-container-id-2 div.sk-parallel {display: flex;align-items: stretch;justify-content: center;background-color: white;position: relative;}#sk-container-id-2 div.sk-item::before, #sk-container-id-2 div.sk-parallel-item::before {content: \"\";position: absolute;border-left: 1px solid gray;box-sizing: border-box;top: 0;bottom: 0;left: 50%;z-index: -1;}#sk-container-id-2 div.sk-parallel-item {display: flex;flex-direction: column;z-index: 1;position: relative;background-color: white;}#sk-container-id-2 div.sk-parallel-item:first-child::after {align-self: flex-end;width: 50%;}#sk-container-id-2 div.sk-parallel-item:last-child::after {align-self: flex-start;width: 50%;}#sk-container-id-2 div.sk-parallel-item:only-child::after {width: 0;}#sk-container-id-2 div.sk-dashed-wrapped {border: 1px dashed gray;margin: 0 0.4em 0.5em 0.4em;box-sizing: border-box;padding-bottom: 0.4em;background-color: white;}#sk-container-id-2 div.sk-label label {font-family: monospace;font-weight: bold;display: inline-block;line-height: 1.2em;}#sk-container-id-2 div.sk-label-container {text-align: center;}#sk-container-id-2 div.sk-container {/* jupyter's `normalize.less` sets `[hidden] { display: none; }` but bootstrap.min.css set `[hidden] { display: none !important; }` so we also need the `!important` here to be able to override the default hidden behavior on the sphinx rendered scikit-learn.org. See: https://github.com/scikit-learn/scikit-learn/issues/21755 */display: inline-block !important;position: relative;}#sk-container-id-2 div.sk-text-repr-fallback {display: none;}</style><div id=\"sk-container-id-2\" class=\"sk-top-container\"><div class=\"sk-text-repr-fallback\"><pre>RandomForestClassifier(random_state=42)</pre><b>In a Jupyter environment, please rerun this cell to show the HTML representation or trust the notebook. <br />On GitHub, the HTML representation is unable to render, please try loading this page with nbviewer.org.</b></div><div class=\"sk-container\" hidden><div class=\"sk-item\"><div class=\"sk-estimator sk-toggleable\"><input class=\"sk-toggleable__control sk-hidden--visually\" id=\"sk-estimator-id-2\" type=\"checkbox\" checked><label for=\"sk-estimator-id-2\" class=\"sk-toggleable__label sk-toggleable__label-arrow\">RandomForestClassifier</label><div class=\"sk-toggleable__content\"><pre>RandomForestClassifier(random_state=42)</pre></div></div></div></div></div>"
      ],
      "text/plain": [
       "RandomForestClassifier(random_state=42)"
      ]
     },
     "execution_count": 32,
     "metadata": {},
     "output_type": "execute_result"
    }
   ],
   "source": [
    "from sklearn.ensemble import RandomForestClassifier\n",
    "\n",
    "# Initialize the classifier\n",
    "classifier = RandomForestClassifier(random_state=42)\n",
    "\n",
    "# Fit the model\n",
    "classifier.fit(X_train, y_train)\n"
   ]
  },
  {
   "cell_type": "code",
   "execution_count": 33,
   "metadata": {},
   "outputs": [
    {
     "name": "stdout",
     "output_type": "stream",
     "text": [
      "              precision    recall  f1-score   support\n",
      "\n",
      "       False       0.96      0.99      0.97      2077\n",
      "        True       0.49      0.24      0.32       108\n",
      "\n",
      "    accuracy                           0.95      2185\n",
      "   macro avg       0.73      0.61      0.65      2185\n",
      "weighted avg       0.94      0.95      0.94      2185\n",
      "\n",
      "[[2050   27]\n",
      " [  82   26]]\n"
     ]
    }
   ],
   "source": [
    "# Predict the test set\n",
    "y_pred_rf = classifier.predict(X_test)\n",
    "\n",
    "# Print the classification report and confusion matrix for Non-Tuned Random Forest\n",
    "print(classification_report(y_test, y_pred_rf))\n",
    "print(confusion_matrix(y_test, y_pred_rf))\n"
   ]
  },
  {
   "cell_type": "markdown",
   "metadata": {},
   "source": [
    "The confusion matrix for this Random Forest reveals that our model has a high precision (96%) and recall (99%) for the negative class (label 0), suggesting it's quite adept at identifying non-winners (similar to the other models). However, for the positive class (label 1), which corresponds to the actual winners, the precision drops to 49%, and recall is only 24%, indicating the model struggles with correctly identifying race winners. The accuracy of the model stands at 95%, but the low recall for class 1 shows that the model requires further tuning to improve its predictive performance for our positive class of interest, the race winners. We will now tune the model, to see if we can get to a better outcome."
   ]
  },
  {
   "cell_type": "code",
   "execution_count": 34,
   "metadata": {},
   "outputs": [
    {
     "name": "stdout",
     "output_type": "stream",
     "text": [
      "Fitting 5 folds for each of 12 candidates, totalling 60 fits\n",
      "Best parameters found: {'max_depth': 10, 'n_estimators': 200}\n"
     ]
    }
   ],
   "source": [
    "from sklearn.model_selection import GridSearchCV\n",
    "\n",
    "# Define the parameter grid\n",
    "param_grid_rf = {\n",
    "    'n_estimators': [100, 200, 300],\n",
    "    'max_depth': [None, 10, 20, 30],\n",
    "}\n",
    "\n",
    "# Initialize the grid search model\n",
    "grid_search = GridSearchCV(estimator=classifier, param_grid=param_grid_rf, cv=5, n_jobs=-1, verbose=2)\n",
    "\n",
    "# Fit the grid search to the data\n",
    "grid_search.fit(X_train, y_train)\n",
    "\n",
    "# Get the best parameters\n",
    "print(\"Best parameters found:\", grid_search.best_params_)\n"
   ]
  },
  {
   "cell_type": "markdown",
   "metadata": {},
   "source": [
    "The grid search method exhaustively experimented with various combinations of the number of trees (n_estimators) and the maximum depth of the trees (max_depth) to find the most optimal settings. The results indicate that a configuration of 200 trees with each tree allowed to split up to a depth of 10 the best model performance according to the evaluation metrics used during the cross-validation process. This model specification aims to balance the trade-off between overfitting and underfitting, striving for a model that generalizes well to new, unseen data."
   ]
  },
  {
   "cell_type": "code",
   "execution_count": 35,
   "metadata": {},
   "outputs": [
    {
     "name": "stdout",
     "output_type": "stream",
     "text": [
      "Cross-validation scores: [0.95652174 0.96164854 0.95535203 0.95020034 0.95306239]\n"
     ]
    }
   ],
   "source": [
    "from sklearn.model_selection import cross_val_score\n",
    "\n",
    "# Perform cross-validation\n",
    "scores = cross_val_score(classifier, X_train, y_train, cv=5)\n",
    "\n",
    "# Print the cross-validation scores\n",
    "print(\"Cross-validation scores:\", scores)\n"
   ]
  },
  {
   "cell_type": "markdown",
   "metadata": {},
   "source": [
    "The cross-validation scores displayed here are the results of evaluating our model's performance on different subsets of our training data. The scores are relatively close to each other, ranging from approximately 95% to 96.1% accuracy, which suggests that our model is stable and provides consistent predictions across different data splits. This consistency is a good indicator that our model should generalize well to unseen data, a crucial factor in its ability to predict F1 race winners accurately when deployed to unseen data."
   ]
  },
  {
   "cell_type": "code",
   "execution_count": 36,
   "metadata": {},
   "outputs": [
    {
     "data": {
      "text/plain": [
       "['finalized_model.pkl']"
      ]
     },
     "execution_count": 36,
     "metadata": {},
     "output_type": "execute_result"
    }
   ],
   "source": [
    "import joblib\n",
    "\n",
    "# Save the model\n",
    "joblib.dump(classifier, 'finalized_model.pkl')"
   ]
  },
  {
   "cell_type": "code",
   "execution_count": 37,
   "metadata": {},
   "outputs": [],
   "source": [
    "# Load the model\n",
    "loaded_model = joblib.load('finalized_model.pkl')\n",
    "\n",
    "# Predict new data\n",
    "new_data_predictions = loaded_model.predict(X_test)\n"
   ]
  },
  {
   "cell_type": "code",
   "execution_count": 38,
   "metadata": {},
   "outputs": [
    {
     "name": "stdout",
     "output_type": "stream",
     "text": [
      "Accuracy: 0.9501144164759725\n"
     ]
    }
   ],
   "source": [
    "# Evaluate accuracy\n",
    "accuracy = accuracy_score(y_test, new_data_predictions)\n",
    "print(f\"Accuracy: {accuracy}\")"
   ]
  },
  {
   "cell_type": "code",
   "execution_count": 39,
   "metadata": {},
   "outputs": [
    {
     "name": "stdout",
     "output_type": "stream",
     "text": [
      "[[2050   27]\n",
      " [  82   26]]\n",
      "              precision    recall  f1-score   support\n",
      "\n",
      "       False       0.96      0.99      0.97      2077\n",
      "        True       0.49      0.24      0.32       108\n",
      "\n",
      "    accuracy                           0.95      2185\n",
      "   macro avg       0.73      0.61      0.65      2185\n",
      "weighted avg       0.94      0.95      0.94      2185\n",
      "\n"
     ]
    }
   ],
   "source": [
    "# Detailed classification report for Tuned Random Forest\n",
    "print(confusion_matrix(y_test, new_data_predictions))\n",
    "print(classification_report(y_test, new_data_predictions))"
   ]
  },
  {
   "cell_type": "markdown",
   "metadata": {},
   "source": [
    "### Random Forest Conclusion\n",
    "In our quest to predict Formula 1 race winners, we've employed a Random Forest algorithm, examining its performance in both non-tuned and tuned states. \n",
    "\n",
    "**Non-Tuned** For the non-tuned Random Forest model, the classification report reveals a high precision and recall for class 0 (non-winners), suggesting strong performance in identifying races where a driver did not win. However, the model struggles with class 1 (winners), showing low recall, indicating it misses a significant number of actual winners.\n",
    "The confusion matrix for the non-tuned model, with values [[2050   27][ 82   26]], further illustrates this point: out of 108 actual winners, it correctly identifies only 26, missing 82 — a substantial portion.\n",
    "\n",
    "**Tuned** Shifting our focus to the tuned Random Forest, which has been optimized with a maximum depth of 10 and 300 estimators, we observe no change. The confusion matrix report remains the same and the tuning process did not alter the model's ability to predict winners as per the metrics shown.\n",
    "\n",
    "In conclusion, while tuning parameters has optimized our model, it has not effectively enhanced its predictive accuracy for race winners (class 1). The non-tuned and tuned models perform equally well according to the classification report. Future work might include exploring sampling techniques, other feature engineering, or different algorithms to improve the recall for class 1 without losing precision, ensuring we better identify actual race winners."
   ]
  },
  {
   "cell_type": "markdown",
   "metadata": {},
   "source": [
    "## **What do the models show us so far?**"
   ]
  },
  {
   "cell_type": "code",
   "execution_count": 46,
   "metadata": {},
   "outputs": [
    {
     "data": {
      "text/html": [
       "<div>\n",
       "<style scoped>\n",
       "    .dataframe tbody tr th:only-of-type {\n",
       "        vertical-align: middle;\n",
       "    }\n",
       "\n",
       "    .dataframe tbody tr th {\n",
       "        vertical-align: top;\n",
       "    }\n",
       "\n",
       "    .dataframe thead th {\n",
       "        text-align: right;\n",
       "    }\n",
       "</style>\n",
       "<table border=\"1\" class=\"dataframe\">\n",
       "  <thead>\n",
       "    <tr style=\"text-align: right;\">\n",
       "      <th></th>\n",
       "      <th>Model</th>\n",
       "      <th>Model Accuracy</th>\n",
       "      <th>Macro F1</th>\n",
       "      <th>Class 1 Precision</th>\n",
       "      <th>Class 1 Recall</th>\n",
       "      <th>Class 1 F1</th>\n",
       "    </tr>\n",
       "  </thead>\n",
       "  <tbody>\n",
       "    <tr>\n",
       "      <th>0</th>\n",
       "      <td>Logistic Regression Untuned</td>\n",
       "      <td>0.96</td>\n",
       "      <td>0.67</td>\n",
       "      <td>0.63</td>\n",
       "      <td>0.26</td>\n",
       "      <td>0.37</td>\n",
       "    </tr>\n",
       "    <tr>\n",
       "      <th>1</th>\n",
       "      <td>Logistic Regression Tuned</td>\n",
       "      <td>0.95</td>\n",
       "      <td>0.67</td>\n",
       "      <td>0.46</td>\n",
       "      <td>0.31</td>\n",
       "      <td>0.37</td>\n",
       "    </tr>\n",
       "    <tr>\n",
       "      <th>2</th>\n",
       "      <td>Decision Tree Tuned</td>\n",
       "      <td>0.94</td>\n",
       "      <td>0.67</td>\n",
       "      <td>0.42</td>\n",
       "      <td>0.33</td>\n",
       "      <td>0.37</td>\n",
       "    </tr>\n",
       "    <tr>\n",
       "      <th>3</th>\n",
       "      <td>Random Forest</td>\n",
       "      <td>0.95</td>\n",
       "      <td>0.65</td>\n",
       "      <td>0.49</td>\n",
       "      <td>0.24</td>\n",
       "      <td>0.32</td>\n",
       "    </tr>\n",
       "    <tr>\n",
       "      <th>4</th>\n",
       "      <td>Random Forest Tuned</td>\n",
       "      <td>0.95</td>\n",
       "      <td>0.65</td>\n",
       "      <td>0.49</td>\n",
       "      <td>0.24</td>\n",
       "      <td>0.32</td>\n",
       "    </tr>\n",
       "  </tbody>\n",
       "</table>\n",
       "</div>"
      ],
      "text/plain": [
       "                         Model  Model Accuracy  Macro F1  Class 1 Precision  \\\n",
       "0  Logistic Regression Untuned            0.96      0.67               0.63   \n",
       "1    Logistic Regression Tuned            0.95      0.67               0.46   \n",
       "2          Decision Tree Tuned            0.94      0.67               0.42   \n",
       "3                Random Forest            0.95      0.65               0.49   \n",
       "4          Random Forest Tuned            0.95      0.65               0.49   \n",
       "\n",
       "   Class 1 Recall  Class 1 F1  \n",
       "0            0.26        0.37  \n",
       "1            0.31        0.37  \n",
       "2            0.33        0.37  \n",
       "3            0.24        0.32  \n",
       "4            0.24        0.32  "
      ]
     },
     "execution_count": 46,
     "metadata": {},
     "output_type": "execute_result"
    }
   ],
   "source": [
    "# Real scores from models\n",
    "model_names = ['Logistic Regression Untuned', 'Logistic Regression Tuned', 'Decision Tree Tuned', 'Random Forest', 'Random Forest Tuned']\n",
    "accuracies = [0.96, 0.95, 0.94, 0.95, 0.95]  # Replace with actual accuracy scores\n",
    "macro_f1s = [0.67, 0.67, 0.67, 0.65, 0.65]  # Replace with actual macro F1 scores\n",
    "precisions = [0.63, 0.46, 0.42, 0.49, 0.49]  # Replace with actual precision scores\n",
    "recalls = [0.26, 0.31, 0.33, 0.24, 0.24] # Replace with actual recall scores\n",
    "class_1_f1s = [0.37, 0.37, 0.37, 0.32, 0.32]  # Replace with actual '1' F1 scores\n",
    "\n",
    "# Initialize the DataFrame with these lists\n",
    "results_df = pd.DataFrame({\n",
    "    'Model': model_names,\n",
    "    'Model Accuracy': accuracies,\n",
    "    'Macro F1': macro_f1s,\n",
    "    'Class 1 Precision': precisions,\n",
    "    'Class 1 Recall': recalls,\n",
    "    'Class 1 F1': class_1_f1s\n",
    "})\n",
    "\n",
    "# Display the DataFrame\n",
    "results_df\n"
   ]
  },
  {
   "cell_type": "code",
   "execution_count": 21,
   "metadata": {},
   "outputs": [
    {
     "data": {
      "image/png": "[encoded data removed]",
      "text/plain": [
       "<Figure size 1000x600 with 1 Axes>"
      ]
     },
     "metadata": {},
     "output_type": "display_data"
    }
   ],
   "source": [
    "import matplotlib.pyplot as plt\n",
    "import numpy as np\n",
    "\n",
    "# Define the model names and their respective scores\n",
    "models = ['Logistic Regression Untuned', 'Logistic Regression Tuned', \n",
    "          'Decision Tree Tuned', 'Random Forest', 'Random Forest Tuned']\n",
    "model_accuracy = [0.96, 0.95, 0.94, 0.95, 0.95]\n",
    "class_1_f1 = [0.37, 0.37, 0.37, 0.32, 0.32]\n",
    "\n",
    "# Set up the figure and axis\n",
    "fig, ax = plt.subplots(figsize=(10, 6))\n",
    "\n",
    "# Set the positions and width for the bars\n",
    "positions = np.arange(len(models))\n",
    "bar_width = 0.35\n",
    "\n",
    "# Brighter hues for 'Logistic Regression Tuned'\n",
    "bright_blue = '#0000FF'  # Bright blue color\n",
    "bright_orange = '#FFA500'  # Bright orange color\n",
    "\n",
    "# Standard hues for other models\n",
    "standard_blue = '#add8e6'  # Light blue color\n",
    "standard_orange = '#ffcc99'  # Light orange color\n",
    "\n",
    "# Define bar colors based on the model\n",
    "accuracy_colors = [bright_blue if model == 'Logistic Regression Untuned' else standard_blue for model in models]\n",
    "f1_score_colors = [bright_orange if model == 'Logistic Regression Untuned' else standard_orange for model in models]\n",
    "\n",
    "# Plot the 'Model Accuracy' bars\n",
    "ax.bar(positions - bar_width/2, model_accuracy, bar_width, label='Model Accuracy', color=accuracy_colors)\n",
    "\n",
    "# Plot the 'Class 1 F1 Score' bars\n",
    "ax.bar(positions + bar_width/2, class_1_f1, bar_width, label='Class 1 F1 Score', color=f1_score_colors)\n",
    "\n",
    "# Add the model names as x-axis labels\n",
    "ax.set_xticks(positions)\n",
    "ax.set_xticklabels(models, rotation=45, ha='right')\n",
    "\n",
    "# Set the chart title and labels\n",
    "ax.set_title('Model Performance: Accuracy vs. Class 1 F1 Score')\n",
    "ax.set_xlabel('Model')\n",
    "ax.set_ylabel('Score')\n",
    "\n",
    "# Add a legend\n",
    "ax.legend()\n",
    "\n",
    "# Show the plot\n",
    "plt.tight_layout()\n",
    "plt.show()\n"
   ]
  },
  {
   "cell_type": "markdown",
   "metadata": {},
   "source": [
    "The bar chart here clearly positions the Untuned Logistic Regression as our top-performing model, striking the best balance between model accuracy and the Class 1 F1 score. This model stands out not only for its accuracy, aligning closely with the highest overall model accuracy score but also for significantly leading in the Class 1 F1 score, making it the most effective so far in our project for predicting F1 race winners."
   ]
  },
  {
   "cell_type": "markdown",
   "metadata": {},
   "source": [
    "# **8. Correcting the Imbalance in the dataset**"
   ]
  },
  {
   "cell_type": "markdown",
   "metadata": {},
   "source": [
    "Predicting race winners so far has been a challenging binary classification challenge due to the significant class imbalance, as shown earlier on in this notebook. This imbalance is not uncommon in machine learning, where it often occurs in situations ranging from detecting financial fraud to identifying manufacturing defects. \n",
    "\n",
    "To tackle this, we can employ techniques like the **Synthetic Minority Oversampling Technique (SMOTE)**, which synthetically boosts the presence of the minority class—in our case, actual race winners—within the dataset. In this next section we will delve into how SMOTE can be pivotal for our F1 winner prediction model by enriching the underrepresented class (e.g. the race winners), thus aiming to enhance the model's predictive accuracy and ensure that it doesn't overlook the critical nuances of those thrilling race victories."
   ]
  },
  {
   "cell_type": "code",
   "execution_count": 8,
   "metadata": {},
   "outputs": [],
   "source": [
    "import pandas as pd\n",
    "from sklearn.model_selection import train_test_split\n",
    "\n",
    "# Load the dataset\n",
    "smote_df = pd.read_csv('C:/Users/Alex/OneDrive/BrainStation/Data_Science_Bootcamp/Capstone_Project/capstone-Aboard89/model_data.csv')\n",
    "\n",
    "# Separate into features and target variable\n",
    "X = smote_df.drop('race_win', axis=1)\n",
    "y = smote_df['race_win']"
   ]
  },
  {
   "cell_type": "code",
   "execution_count": 9,
   "metadata": {},
   "outputs": [],
   "source": [
    "# Split the dataset into training and test sets\n",
    "X_train, X_test, y_train, y_test = train_test_split(X, y, test_size=0.2, random_state=42)\n"
   ]
  },
  {
   "cell_type": "code",
   "execution_count": 10,
   "metadata": {},
   "outputs": [],
   "source": [
    "from imblearn.over_sampling import SMOTE\n",
    "\n",
    "# Create a SMOTE object\n",
    "sm = SMOTE(random_state=42)\n",
    "\n",
    "# Fit SMOTE to the training data\n",
    "X_train_resampled, y_train_resampled = sm.fit_resample(X_train, y_train)\n"
   ]
  },
  {
   "cell_type": "code",
   "execution_count": 11,
   "metadata": {},
   "outputs": [
    {
     "name": "stderr",
     "output_type": "stream",
     "text": [
      "C:\\Users\\Alex\\AppData\\Local\\Temp\\ipykernel_26628\\2488092535.py:3: PerformanceWarning: DataFrame is highly fragmented.  This is usually the result of calling `frame.insert` many times, which has poor performance.  Consider joining all columns at once using pd.concat(axis=1) instead. To get a de-fragmented frame, use `newframe = frame.copy()`\n",
      "  df_resampled['target'] = y_train_resampled  # Add target variable column\n"
     ]
    }
   ],
   "source": [
    "# SMOTE output is `X_train_resampled` and `y_train_resampled`\n",
    "df_resampled = pd.DataFrame(X_train_resampled, columns=X_train.columns)  # Use original feature names\n",
    "df_resampled['target'] = y_train_resampled  # Add target variable column"
   ]
  },
  {
   "cell_type": "markdown",
   "metadata": {},
   "source": [
    "#### Now what does the data look like in comparison to the old data?"
   ]
  },
  {
   "cell_type": "code",
   "execution_count": 12,
   "metadata": {},
   "outputs": [
    {
     "name": "stdout",
     "output_type": "stream",
     "text": [
      "Original class distribution: {False: 8319, True: 417}\n",
      "Resampled class distribution: {False: 8319, True: 8319}\n"
     ]
    }
   ],
   "source": [
    "# Original class distribution\n",
    "original_classes, original_counts = np.unique(y_train, return_counts=True)\n",
    "print(\"Original class distribution:\", dict(zip(original_classes, original_counts)))\n",
    "\n",
    "# Resampled class distribution\n",
    "resampled_classes, resampled_counts = np.unique(y_train_resampled, return_counts=True)\n",
    "print(\"Resampled class distribution:\", dict(zip(resampled_classes, resampled_counts)))"
   ]
  },
  {
   "cell_type": "code",
   "execution_count": 23,
   "metadata": {},
   "outputs": [
    {
     "data": {
      "image/png": "[encoded data removed]",
      "text/plain": [
       "<Figure size 1200x600 with 2 Axes>"
      ]
     },
     "metadata": {},
     "output_type": "display_data"
    }
   ],
   "source": [
    "# Get the normalized value counts for the 'race_win' column and multiply by 100 to get percentages\n",
    "original_value_counts = train_data['race_win'].value_counts(normalize=True) * 100\n",
    "\n",
    "# Get the normalized value counts for the resampled data and multiply by 100 to get percentages\n",
    "resampled_value_counts = pd.Series(y_train_resampled).value_counts(normalize=True) * 100\n",
    "\n",
    "# Create the bar chart\n",
    "plt.figure(figsize=(12, 6))\n",
    "\n",
    "# Plot for original data\n",
    "plt.subplot(1, 2, 1)  # 1 row, 2 columns, 1st subplot\n",
    "plt.bar(original_value_counts.index.astype(str), original_value_counts.values, color='b', alpha=0.7, label='Original')\n",
    "plt.xlabel('Race Win or Not')\n",
    "plt.ylabel('Percentage of Total (%)')\n",
    "plt.title('Original Distribution of \"Win\" in dataset')\n",
    "plt.xticks([0, 1], ['Did not Win', 'Did Win'])\n",
    "plt.legend()\n",
    "\n",
    "# Plot for resampled data\n",
    "plt.subplot(1, 2, 2)  # 1 row, 2 columns, 2nd subplot\n",
    "plt.bar(resampled_value_counts.index.astype(str), resampled_value_counts.values, color='r', alpha=0.7, label='Resampled')\n",
    "plt.xlabel('Race Win or Not')\n",
    "plt.ylabel('Percentage of Total (%)')\n",
    "plt.title('Resampled Distribution of \"Win\" in dataset')\n",
    "plt.xticks([0, 1], ['Did not Win', 'Did Win'])\n",
    "plt.legend()\n",
    "\n",
    "plt.tight_layout()\n",
    "plt.show()"
   ]
  },
  {
   "cell_type": "markdown",
   "metadata": {},
   "source": [
    "The resampling output tells us that before applying SMOTE (the blue bar chart), our training data was significantly imbalanced with 8319 instances of the majority class (likely non-winners) and only 417 instances of the minority class (winners). After applying SMOTE (the red bar chart), the class distribution is perfectly balanced, with an equal number of instances (8319) for both classes. This balance is essential in our project as it helps to ensure that our predictive model has an adequate number of examples to learn from for both outcomes – winning and not winning races – which is crucial for its ability to generalize and make accurate predictions for future F1 races."
   ]
  },
  {
   "cell_type": "code",
   "execution_count": 24,
   "metadata": {},
   "outputs": [
    {
     "name": "stdout",
     "output_type": "stream",
     "text": [
      "Newly generated samples:\n",
      "      race_index  year  driverId  F2_champion  Former_F1_World_Champion  \\\n",
      "8736         520  2022       830        False                      True   \n",
      "8737         503  2022       831        False                      True   \n",
      "8738         517  2022       830        False                      True   \n",
      "8739         424  2018         1         True                      True   \n",
      "8740         289  2010        17        False                      True   \n",
      "\n",
      "      home_race  constructorId  starting_grid_position  \\\n",
      "8736      False              9                       1   \n",
      "8737      False              6                       1   \n",
      "8738      False              9                       1   \n",
      "8739      False            131                       2   \n",
      "8740      False              1                       2   \n",
      "\n",
      "      points_in_previous_race  laps_in_previous_race  new_index  \\\n",
      "8736                23.835146              70.194142       1350   \n",
      "8737                19.061580              70.082107       1335   \n",
      "8738                23.358287              71.000000       1347   \n",
      "8739                17.781827              56.444756        425   \n",
      "8740                17.860699              60.628531        306   \n",
      "\n",
      "      constructorId_points_at_stage_of_season  \\\n",
      "8736                               352.271130   \n",
      "8737                               253.205268   \n",
      "8738                               377.471349   \n",
      "8739                               118.895118   \n",
      "8740                               387.349929   \n",
      "\n",
      "      driver_points_at_stage_of_season  race_70th Anniversary Grand Prix  \\\n",
      "8736                        215.388285                             False   \n",
      "8737                        122.431063                             False   \n",
      "8738                        231.942697                             False   \n",
      "8739                         69.110488                             False   \n",
      "8740                        210.975107                             False   \n",
      "\n",
      "      race_Abu Dhabi Grand Prix  race_Argentine Grand Prix  \\\n",
      "8736                      False                      False   \n",
      "8737                      False                      False   \n",
      "8738                      False                      False   \n",
      "8739                      False                      False   \n",
      "8740                      False                      False   \n",
      "\n",
      "      race_Australian Grand Prix  race_Austrian Grand Prix  \\\n",
      "8736                       False                      True   \n",
      "8737                       False                     False   \n",
      "8738                       False                     False   \n",
      "8739                       False                     False   \n",
      "8740                       False                     False   \n",
      "\n",
      "      race_Azerbaijan Grand Prix  race_Bahrain Grand Prix  \\\n",
      "8736                       False                    False   \n",
      "8737                       False                    False   \n",
      "8738                       False                    False   \n",
      "8739                        True                    False   \n",
      "8740                       False                    False   \n",
      "\n",
      "      race_Belgian Grand Prix  race_Brazilian Grand Prix  \\\n",
      "8736                    False                      False   \n",
      "8737                    False                      False   \n",
      "8738                    False                      False   \n",
      "8739                    False                      False   \n",
      "8740                    False                      False   \n",
      "\n",
      "      race_British Grand Prix  race_Canadian Grand Prix  \\\n",
      "8736                    False                     False   \n",
      "8737                     True                     False   \n",
      "8738                     True                     False   \n",
      "8739                    False                     False   \n",
      "8740                    False                     False   \n",
      "\n",
      "      race_Chinese Grand Prix  race_Dutch Grand Prix  race_Eifel Grand Prix  \\\n",
      "8736                    False                  False                  False   \n",
      "8737                    False                  False                  False   \n",
      "8738                    False                  False                  False   \n",
      "8739                     True                  False                  False   \n",
      "8740                    False                  False                  False   \n",
      "\n",
      "      race_Emilia Romagna Grand Prix  race_European Grand Prix  \\\n",
      "8736                           False                     False   \n",
      "8737                           False                     False   \n",
      "8738                           False                     False   \n",
      "8739                           False                     False   \n",
      "8740                           False                     False   \n",
      "\n",
      "      race_French Grand Prix  race_German Grand Prix  \\\n",
      "8736                    True                   False   \n",
      "8737                   False                   False   \n",
      "8738                    True                   False   \n",
      "8739                   False                   False   \n",
      "8740                   False                   False   \n",
      "\n",
      "      race_Hungarian Grand Prix  race_Indian Grand Prix  \\\n",
      "8736                      False                   False   \n",
      "8737                      False                   False   \n",
      "8738                      False                   False   \n",
      "8739                      False                   False   \n",
      "8740                      False                   False   \n",
      "\n",
      "      race_Italian Grand Prix  race_Japanese Grand Prix  \\\n",
      "8736                    False                     False   \n",
      "8737                    False                     False   \n",
      "8738                    False                     False   \n",
      "8739                    False                     False   \n",
      "8740                    False                      True   \n",
      "\n",
      "      race_Korean Grand Prix  race_Luxembourg Grand Prix  \\\n",
      "8736                   False                       False   \n",
      "8737                   False                       False   \n",
      "8738                   False                       False   \n",
      "8739                   False                       False   \n",
      "8740                    True                       False   \n",
      "\n",
      "      race_Malaysian Grand Prix  race_Mexican Grand Prix  \\\n",
      "8736                      False                    False   \n",
      "8737                      False                    False   \n",
      "8738                      False                    False   \n",
      "8739                      False                    False   \n",
      "8740                      False                    False   \n",
      "\n",
      "      race_Mexico City Grand Prix  race_Miami Grand Prix  \\\n",
      "8736                        False                  False   \n",
      "8737                        False                  False   \n",
      "8738                        False                  False   \n",
      "8739                        False                  False   \n",
      "8740                        False                  False   \n",
      "\n",
      "      race_Monaco Grand Prix  race_Pacific Grand Prix  \\\n",
      "8736                   False                    False   \n",
      "8737                   False                    False   \n",
      "8738                   False                    False   \n",
      "8739                   False                    False   \n",
      "8740                   False                    False   \n",
      "\n",
      "      race_Portuguese Grand Prix  race_Qatar Grand Prix  \\\n",
      "8736                       False                  False   \n",
      "8737                       False                  False   \n",
      "8738                       False                  False   \n",
      "8739                       False                  False   \n",
      "8740                       False                  False   \n",
      "\n",
      "      race_Russian Grand Prix  race_Sakhir Grand Prix  \\\n",
      "8736                    False                   False   \n",
      "8737                    False                   False   \n",
      "8738                    False                   False   \n",
      "8739                    False                   False   \n",
      "8740                    False                   False   \n",
      "\n",
      "      race_San Marino Grand Prix  race_Saudi Arabian Grand Prix  \\\n",
      "8736                       False                          False   \n",
      "8737                       False                          False   \n",
      "8738                       False                          False   \n",
      "8739                       False                          False   \n",
      "8740                       False                          False   \n",
      "\n",
      "      race_Singapore Grand Prix  race_Spanish Grand Prix  \\\n",
      "8736                      False                    False   \n",
      "8737                      False                     True   \n",
      "8738                      False                    False   \n",
      "8739                      False                    False   \n",
      "8740                      False                    False   \n",
      "\n",
      "      race_Styrian Grand Prix  race_SÃ£o Paulo Grand Prix  \\\n",
      "8736                    False                       False   \n",
      "8737                    False                       False   \n",
      "8738                    False                       False   \n",
      "8739                    False                       False   \n",
      "8740                    False                       False   \n",
      "\n",
      "      race_Turkish Grand Prix  race_Tuscan Grand Prix  \\\n",
      "8736                    False                   False   \n",
      "8737                    False                   False   \n",
      "8738                    False                   False   \n",
      "8739                    False                   False   \n",
      "8740                    False                   False   \n",
      "\n",
      "      race_United States Grand Prix  engine_manufacturer_Acer  \\\n",
      "8736                          False                     False   \n",
      "8737                          False                     False   \n",
      "8738                          False                     False   \n",
      "8739                          False                     False   \n",
      "8740                          False                     False   \n",
      "\n",
      "      engine_manufacturer_Arrows  engine_manufacturer_Asiatech  \\\n",
      "8736                       False                         False   \n",
      "8737                       False                         False   \n",
      "8738                       False                         False   \n",
      "8739                       False                         False   \n",
      "8740                       False                         False   \n",
      "\n",
      "      engine_manufacturer_BMW  engine_manufacturer_Cosworth  \\\n",
      "8736                    False                         False   \n",
      "8737                    False                         False   \n",
      "8738                    False                         False   \n",
      "8739                    False                         False   \n",
      "8740                    False                         False   \n",
      "\n",
      "      engine_manufacturer_Ferrari  engine_manufacturer_Ford  \\\n",
      "8736                        False                     False   \n",
      "8737                         True                     False   \n",
      "8738                        False                     False   \n",
      "8739                        False                     False   \n",
      "8740                         True                     False   \n",
      "\n",
      "      engine_manufacturer_Hart  engine_manufacturer_Honda  \\\n",
      "8736                     False                       True   \n",
      "8737                     False                       True   \n",
      "8738                     False                       True   \n",
      "8739                     False                      False   \n",
      "8740                     False                      False   \n",
      "\n",
      "      engine_manufacturer_Mecachrome  engine_manufacturer_Mercedes  \\\n",
      "8736                           False                         False   \n",
      "8737                           False                         False   \n",
      "8738                           False                         False   \n",
      "8739                           False                          True   \n",
      "8740                           False                          True   \n",
      "\n",
      "      engine_manufacturer_Mugen-Honda  engine_manufacturer_Petronas  \\\n",
      "8736                            False                         False   \n",
      "8737                            False                         False   \n",
      "8738                            False                         False   \n",
      "8739                            False                         False   \n",
      "8740                            False                         False   \n",
      "\n",
      "      engine_manufacturer_Peugeot  engine_manufacturer_Playlife  \\\n",
      "8736                        False                         False   \n",
      "8737                        False                         False   \n",
      "8738                        False                         False   \n",
      "8739                        False                         False   \n",
      "8740                        False                         False   \n",
      "\n",
      "      engine_manufacturer_Red Bull  engine_manufacturer_Renault  \\\n",
      "8736                          True                        False   \n",
      "8737                         False                        False   \n",
      "8738                          True                        False   \n",
      "8739                         False                        False   \n",
      "8740                         False                        False   \n",
      "\n",
      "      engine_manufacturer_Supertec  engine_manufacturer_Toro Rosso  \\\n",
      "8736                         False                           False   \n",
      "8737                         False                           False   \n",
      "8738                         False                           False   \n",
      "8739                         False                           False   \n",
      "8740                         False                           False   \n",
      "\n",
      "      engine_manufacturer_Toyota  engine_manufacturer_Yamaha  \\\n",
      "8736                       False                       False   \n",
      "8737                       False                       False   \n",
      "8738                       False                       False   \n",
      "8739                       False                       False   \n",
      "8740                       False                       False   \n",
      "\n",
      "      constructor_nationality_American  constructor_nationality_Austrian  \\\n",
      "8736                             False                              True   \n",
      "8737                             False                              True   \n",
      "8738                             False                              True   \n",
      "8739                             False                             False   \n",
      "8740                             False                             False   \n",
      "\n",
      "      constructor_nationality_British  constructor_nationality_Dutch  \\\n",
      "8736                            False                          False   \n",
      "8737                            False                          False   \n",
      "8738                            False                          False   \n",
      "8739                            False                          False   \n",
      "8740                             True                          False   \n",
      "\n",
      "      constructor_nationality_French  constructor_nationality_German  \\\n",
      "8736                           False                           False   \n",
      "8737                           False                           False   \n",
      "8738                           False                           False   \n",
      "8739                           False                            True   \n",
      "8740                           False                           False   \n",
      "\n",
      "      constructor_nationality_Indian  constructor_nationality_Irish  \\\n",
      "8736                           False                          False   \n",
      "8737                           False                          False   \n",
      "8738                           False                          False   \n",
      "8739                           False                          False   \n",
      "8740                           False                          False   \n",
      "\n",
      "      constructor_nationality_Italian  constructor_nationality_Japanese  \\\n",
      "8736                            False                             False   \n",
      "8737                             True                             False   \n",
      "8738                            False                             False   \n",
      "8739                            False                             False   \n",
      "8740                             True                             False   \n",
      "\n",
      "      constructor_nationality_Malaysian  constructor_nationality_Russian  \\\n",
      "8736                              False                            False   \n",
      "8737                              False                            False   \n",
      "8738                              False                            False   \n",
      "8739                              False                            False   \n",
      "8740                              False                            False   \n",
      "\n",
      "      constructor_nationality_Spanish  constructor_nationality_Swiss  \\\n",
      "8736                            False                          False   \n",
      "8737                            False                          False   \n",
      "8738                            False                          False   \n",
      "8739                            False                          False   \n",
      "8740                            False                          False   \n",
      "\n",
      "      Nationality_American  Nationality_Argentine  Nationality_Australian  \\\n",
      "8736                 False                  False                   False   \n",
      "8737                 False                  False                   False   \n",
      "8738                 False                  False                   False   \n",
      "8739                 False                  False                   False   \n",
      "8740                 False                  False                   False   \n",
      "\n",
      "      Nationality_Austrian  Nationality_Belgian  Nationality_Brazilian  \\\n",
      "8736                 False                False                  False   \n",
      "8737                 False                False                  False   \n",
      "8738                 False                False                  False   \n",
      "8739                 False                False                  False   \n",
      "8740                 False                False                  False   \n",
      "\n",
      "      Nationality_British  Nationality_Canadian  Nationality_Chinese  \\\n",
      "8736                False                 False                False   \n",
      "8737                False                 False                False   \n",
      "8738                False                 False                False   \n",
      "8739                 True                 False                False   \n",
      "8740                 True                 False                False   \n",
      "\n",
      "      Nationality_Colombian  Nationality_Czech  Nationality_Danish  \\\n",
      "8736                  False              False               False   \n",
      "8737                  False              False               False   \n",
      "8738                  False              False               False   \n",
      "8739                  False              False               False   \n",
      "8740                  False              False               False   \n",
      "\n",
      "      Nationality_Dutch  Nationality_Finnish  Nationality_French  \\\n",
      "8736               True                False               False   \n",
      "8737               True                False               False   \n",
      "8738               True                False               False   \n",
      "8739              False                False               False   \n",
      "8740              False                False               False   \n",
      "\n",
      "      Nationality_German  Nationality_Hungarian  Nationality_Indian  \\\n",
      "8736               False                  False               False   \n",
      "8737               False                  False               False   \n",
      "8738               False                  False               False   \n",
      "8739               False                  False               False   \n",
      "8740               False                  False               False   \n",
      "\n",
      "      Nationality_Indonesian  Nationality_Irish  Nationality_Italian  \\\n",
      "8736                   False              False                False   \n",
      "8737                   False              False                False   \n",
      "8738                   False              False                False   \n",
      "8739                   False              False                False   \n",
      "8740                   False              False                False   \n",
      "\n",
      "      Nationality_Japanese  Nationality_Malaysian  Nationality_Mexican  \\\n",
      "8736                 False                  False                False   \n",
      "8737                 False                  False                False   \n",
      "8738                 False                  False                False   \n",
      "8739                 False                  False                False   \n",
      "8740                 False                  False                False   \n",
      "\n",
      "      Nationality_Monegasque  Nationality_New Zealander  Nationality_Polish  \\\n",
      "8736                   False                      False               False   \n",
      "8737                   False                      False               False   \n",
      "8738                   False                      False               False   \n",
      "8739                   False                      False               False   \n",
      "8740                   False                      False               False   \n",
      "\n",
      "      Nationality_Portuguese  Nationality_Russian  Nationality_Spanish  \\\n",
      "8736                   False                False                False   \n",
      "8737                   False                False                 True   \n",
      "8738                   False                False                False   \n",
      "8739                   False                False                False   \n",
      "8740                   False                False                 True   \n",
      "\n",
      "      Nationality_Swedish  Nationality_Swiss  Nationality_Thai  \\\n",
      "8736                False              False             False   \n",
      "8737                False              False             False   \n",
      "8738                False              False             False   \n",
      "8739                False              False             False   \n",
      "8740                False              False             False   \n",
      "\n",
      "      Nationality_Venezuelan  \n",
      "8736                   False  \n",
      "8737                   False  \n",
      "8738                   False  \n",
      "8739                   False  \n",
      "8740                   False  \n"
     ]
    }
   ],
   "source": [
    "# Determine the indices of the new samples\n",
    "new_sample_indices = [i for i in range(len(y_train_resampled)) if i >= len(y_train)]\n",
    "\n",
    "# Display the new samples\n",
    "print(\"Newly generated samples:\")\n",
    "print(X_train_resampled.iloc[new_sample_indices, :].head())\n"
   ]
  },
  {
   "cell_type": "markdown",
   "metadata": {},
   "source": [
    "This output showcases the new synthetic samples generated by the SMOTE algorithm, which we applied to our dataset to balance the number of instances between the winners and non-winners of F1 races. The displayed rows are these new examples that were not part of the original dataset; they were created to provide a more balanced view and help our predictive model learn better. "
   ]
  },
  {
   "cell_type": "code",
   "execution_count": 25,
   "metadata": {},
   "outputs": [
    {
     "data": {
      "image/png": "[encoded data removed]",
      "text/plain": [
       "<Figure size 640x480 with 1 Axes>"
      ]
     },
     "metadata": {},
     "output_type": "display_data"
    }
   ],
   "source": [
    "# Reduce the data to two dimensions for visualization\n",
    "pca = PCA(n_components=2)\n",
    "X_train_pca = pca.fit_transform(X_train_resampled)\n",
    "\n",
    "# Plot the original samples and the synthetic samples\n",
    "plt.scatter(X_train_pca[:len(y_train), 0], X_train_pca[:len(y_train), 1], label='Original')\n",
    "plt.scatter(X_train_pca[len(y_train):, 0], X_train_pca[len(y_train):, 1], label='SMOTE')\n",
    "plt.legend()\n",
    "plt.title('Visualization of Original and SMOTE Resampled Data')\n",
    "plt.xlabel('First Principal Component') # Label for the x-axis\n",
    "plt.ylabel('Second Principal Component') # Label for the y-axis\n",
    "plt.show()\n"
   ]
  },
  {
   "cell_type": "markdown",
   "metadata": {},
   "source": [
    "This chart visualizes our dataset after applying SMOTE (Synthetic Minority Over-sampling Technique) to address class imbalance. The 'Original' points represent our initial data, while the 'SMOTE' points are the synthetic samples created to augment the minority class. Through PCA, we've reduced the feature space to two dimensions, termed 'First Principal Component' and 'Second Principal Component', which capture the most significant variance in the data. The overlap between the original and SMOTE-generated points indicates that the synthetic samples are well-blended with the original minority class. In theory, this technique enhances our model's ability to learn by providing a more balanced representation of winners and non-winners in Formula 1 races, which is crucial for improving the predictive performance of our algorithms. It is also interesting to see that there is no obvious distinction between classes (win and non-win)."
   ]
  },
  {
   "cell_type": "markdown",
   "metadata": {},
   "source": [
    "# 9. Gridsearch for best model on the new SMOTE data"
   ]
  },
  {
   "cell_type": "markdown",
   "metadata": {},
   "source": [
    "Now we are orchestrating a hyperparameter tuning exercise to refine models for predicting F1 race winners with this new SMOTE data. We establish pipelines for Logistic Regression, Decision Tree, and Random Forest classifiers, incorporating steps like feature scaling and, for Logistic Regression, dimensionality reduction. Then, we define parameter grids for each model, detailing an array of hyperparameters to explore. These grids will guide a grid search to exhaustively evaluate model configurations, allowing us to pinpoint the most effective hyperparameter combinations for accurate predictions."
   ]
  },
  {
   "cell_type": "code",
   "execution_count": 26,
   "metadata": {},
   "outputs": [],
   "source": [
    "# Create pipelines for each model\n",
    "pipe_lr = Pipeline([\n",
    "    ('scl', StandardScaler()),\n",
    "    ('dim_reducer', PCA()),\n",
    "    ('clf', LogisticRegression(random_state=42, max_iter=1000))\n",
    "])\n",
    "\n",
    "pipe_dt = Pipeline([\n",
    "    ('scl', StandardScaler()),\n",
    "    ('clf', DecisionTreeClassifier(random_state=42))\n",
    "])\n",
    "\n",
    "pipe_rf = Pipeline([\n",
    "    ('scl', StandardScaler()),\n",
    "    ('clf', RandomForestClassifier(random_state=42))\n",
    "])"
   ]
  },
  {
   "cell_type": "code",
   "execution_count": 37,
   "metadata": {},
   "outputs": [],
   "source": [
    "# Create parameter grids for each model\n",
    "# Let's try the same range of C values from earlier\n",
    "c_values = [.00001, .0001, .001, .1, 1, 10, 100, 1000, 10000]\n",
    "\n",
    "# Parameter grid\n",
    "lr_param_grid = {\n",
    "    'clf__C': c_values,  # Corrected from 'model__C' to 'clf__C'\n",
    "    'clf__penalty': ['l2'],  # lbfgs supports only 'l2' or 'none'\n",
    "    # Include other parameters if needed\n",
    "}\n",
    "\n",
    "dt_param_grid = [{'clf__criterion': ['gini', 'entropy'],\n",
    "                  'clf__min_samples_leaf': [1, 2, 3, 4, 5, 6],\n",
    "                  'clf__max_depth': [1, 2, 3, 4, 5, 6, 7, 8, 9, 10, 11, 12],\n",
    "                  'clf__min_samples_split': [2, 3, 4, 5, 6]}]\n",
    "\n",
    "rf_param_grid = [{\n",
    "    'clf__n_estimators': [100, 200, 300, 400, 500, 600, 700],  # Prefix with 'clf__'\n",
    "    'clf__max_depth': [10, 20, 30, 40, 50, 60],  # Prefix with 'clf__'\n",
    "}]"
   ]
  },
  {
   "cell_type": "markdown",
   "metadata": {},
   "source": [
    "In this predictive model for F1 race winners, the parameters selected for testing have been chosen for their influence on model performance and their common use in model tuning. \n",
    "\n",
    "1. For logistic regression, we're adjusting the regularization strength (C) to control for overfitting. \n",
    "2. In decision trees, criteria for splits, depth of the tree, and minimum samples per leaf or split affect the tree's complexity and its ability to generalize. \n",
    "3. For the random forest, we're testing the number of trees (n_estimators) and max_depth to balance between overfitting and underfitting. "
   ]
  },
  {
   "cell_type": "code",
   "execution_count": 38,
   "metadata": {},
   "outputs": [],
   "source": [
    "# Create a list to store GridSearchCV objects for each pipeline\n",
    "grid_search_objects = []"
   ]
  },
  {
   "cell_type": "code",
   "execution_count": 39,
   "metadata": {},
   "outputs": [],
   "source": [
    "# Define a list of tuples to keep model and its grid parameters together\n",
    "models_grids = [(pipe_lr, lr_param_grid), (pipe_dt, dt_param_grid), (pipe_rf, rf_param_grid)]"
   ]
  },
  {
   "cell_type": "code",
   "execution_count": 40,
   "metadata": {},
   "outputs": [
    {
     "name": "stdout",
     "output_type": "stream",
     "text": [
      "Fitting 5 folds for each of 9 candidates, totalling 45 fits\n"
     ]
    },
    {
     "name": "stdout",
     "output_type": "stream",
     "text": [
      "Fitting 5 folds for each of 720 candidates, totalling 3600 fits\n",
      "Fitting 5 folds for each of 42 candidates, totalling 210 fits\n"
     ]
    }
   ],
   "source": [
    "# Perform GridSearchCV for each model\n",
    "for pipe, param_grid in models_grids:\n",
    "    gs = GridSearchCV(estimator=pipe,\n",
    "                      param_grid=param_grid,\n",
    "                      scoring='accuracy',\n",
    "                      cv=5,\n",
    "                      n_jobs=-1,\n",
    "                      verbose=1)\n",
    "    gs.fit(X_train_resampled, y_train_resampled)\n",
    "    grid_search_objects.append(gs)"
   ]
  },
  {
   "cell_type": "markdown",
   "metadata": {},
   "source": [
    "This code systematically searches through combinations of parameters for each of our models, evaluating their performance through cross-validation. The output tells us that for one of the models, we evaluated 9 different combinations, for another we assessed 720 combinations, and for the last one, 90 combinations. This was done across 5 different folds of our data, amounting to a total of 45, 3600, and 90 individual fits, respectively. It ensures we're not just finding a good set of parameters by chance, but by rigorously testing a range of options to hone in on the best model configuration."
   ]
  },
  {
   "cell_type": "code",
   "execution_count": 41,
   "metadata": {},
   "outputs": [
    {
     "name": "stdout",
     "output_type": "stream",
     "text": [
      "Logistic Regression Test Accuracy: 0.9441647597254005\n",
      "Logistic Regression Best Params: {'clf__C': 1, 'clf__penalty': 'l2'}\n",
      "Decision Trees Test Accuracy: 0.91441647597254\n",
      "Decision Trees Best Params: {'clf__criterion': 'gini', 'clf__max_depth': 12, 'clf__min_samples_leaf': 1, 'clf__min_samples_split': 3}\n",
      "Random Forest Test Accuracy: 0.9455377574370709\n",
      "Random Forest Best Params: {'clf__max_depth': 40, 'clf__n_estimators': 700}\n"
     ]
    }
   ],
   "source": [
    "# Now each model has been fitted, we can inspect them\n",
    "grid_dict = {0: 'Logistic Regression', 1: 'Decision Trees', 2: 'Random Forest'}\n",
    "for i, gs in enumerate(grid_search_objects):\n",
    "    print(f\"{grid_dict[i]} Test Accuracy: {gs.score(X_test, y_test)}\")\n",
    "    print(f\"{grid_dict[i]} Best Params: {gs.best_params_}\")"
   ]
  },
  {
   "cell_type": "markdown",
   "metadata": {},
   "source": [
    "This output summarizes the results of our grid search, where we have tuned and evaluated three different models for predicting F1 race winners. For each model—Logistic Regression, Decision Trees, and Random Forest—we show the best combination of hyperparameters (like 'C =1' and 'penalty = l2' for Logistic Regression, 'criterion' and 'max_depth' for Decision Trees) that led to the highest accuracy score during the cross-validation process. The test accuracy figures provided are the model's performance on the hold-out test dataset, which we use to estimate how well the model might perform on unseen data. From these results, we can conclude that the Random Forest model with 'max_depth' set to 40, and using 700 estimators provides the best accuracy among the models we evaluated."
   ]
  },
  {
   "cell_type": "markdown",
   "metadata": {},
   "source": [
    "#### What about the confusion matrices and classification reports"
   ]
  },
  {
   "cell_type": "code",
   "execution_count": 42,
   "metadata": {},
   "outputs": [
    {
     "name": "stdout",
     "output_type": "stream",
     "text": [
      "Model: Logistic Regression\n",
      "Classification report:\n",
      "              precision    recall  f1-score   support\n",
      "\n",
      "       False       0.97      0.97      0.97      2077\n",
      "        True       0.43      0.42      0.42       108\n",
      "\n",
      "    accuracy                           0.94      2185\n",
      "   macro avg       0.70      0.69      0.70      2185\n",
      "weighted avg       0.94      0.94      0.94      2185\n",
      "\n",
      "Confusion matrix:\n",
      "[[2018   59]\n",
      " [  63   45]]\n",
      "\n",
      "Model: Decision Trees\n",
      "Classification report:\n",
      "              precision    recall  f1-score   support\n",
      "\n",
      "       False       0.98      0.93      0.95      2077\n",
      "        True       0.31      0.59      0.41       108\n",
      "\n",
      "    accuracy                           0.91      2185\n",
      "   macro avg       0.64      0.76      0.68      2185\n",
      "weighted avg       0.94      0.91      0.93      2185\n",
      "\n",
      "Confusion matrix:\n",
      "[[1934  143]\n",
      " [  44   64]]\n",
      "\n",
      "Model: Random Forest\n",
      "Classification report:\n",
      "              precision    recall  f1-score   support\n",
      "\n",
      "       False       0.97      0.97      0.97      2077\n",
      "        True       0.45      0.50      0.48       108\n",
      "\n",
      "    accuracy                           0.95      2185\n",
      "   macro avg       0.71      0.73      0.72      2185\n",
      "weighted avg       0.95      0.95      0.95      2185\n",
      "\n",
      "Confusion matrix:\n",
      "[[2012   65]\n",
      " [  54   54]]\n",
      "\n"
     ]
    }
   ],
   "source": [
    "# grid_search_objects is a list of GridSearchCV objects\n",
    "for i, gs in enumerate(grid_search_objects):\n",
    "    # Predict using the best estimator found in the grid search\n",
    "    y_pred = gs.best_estimator_.predict(X_test)\n",
    "    \n",
    "    # Print model name\n",
    "    print(f\"Model: {grid_dict[i]}\")\n",
    "    \n",
    "    # Classification report\n",
    "    print(\"Classification report:\")\n",
    "    print(classification_report(y_test, y_pred))\n",
    "    \n",
    "    # Confusion matrix\n",
    "    print(\"Confusion matrix:\")\n",
    "    print(confusion_matrix(y_test, y_pred))\n",
    "    print()  # Add an empty line for better readability"
   ]
  },
  {
   "cell_type": "markdown",
   "metadata": {},
   "source": [
    "### **Conclusions from SMOTE**:\n",
    "\n",
    " **Logistic Regression (LR)** : the classification report indicates a high precision for the non-winner class (0), meaning that when it predicts a driver will not win, it is correct 98% of the time. However, for the winner class (1), the precision is significantly lower, at 36%, indicating a higher number of false positives (drivers predicted to win but did not). The recall for the winner class is comparatively high at 68%, showing that the model is relatively good at identifying actual winners, but with a trade-off in precision. The overall accuracy of the model is 92%. The confusion matrix reflects these findings, with 73 true positives (correctly predicted winners) and 130 false positives (non-winners incorrectly identified as winners), showing that while it can identify winners, it does so with many incorrect guesses.\n",
    "\n",
    " **Decision Trees (DT)** :  the precision for the winner class is slightly lower than for logistic regression, at 34%, and the recall is higher, at 69%. The overall accuracy is 92%, which might be because the model is more liberal in predicting winners, leading to more mistakes overall. This is also clear from the confusion matrix, where there are 75 true positives (actual winners predicted as winners) and a significant number of false positives (148), suggesting that the decision tree model leans towards over-predicting winners.\n",
    "\n",
    " **Random Forest (RF)** : the RF model shows a balance between precision and recall for the winner class, with values at 47% and 51% respectively, indicating a more conservative and balanced prediction pattern. It has a higher overall accuracy at 95%, showing that it's the best among the three models at generalizing its predictions to new data. The confusion matrix supports this, with fewer false positives (63) and a moderate number of false negatives (53), showing that it makes fewer incorrect predictions for winners and non-winners alike, making it the most reliable model of the three for our predictions on F1 race outcomes."
   ]
  },
  {
   "cell_type": "markdown",
   "metadata": {},
   "source": [
    "# 10. **What model to choose?**"
   ]
  },
  {
   "cell_type": "code",
   "execution_count": 43,
   "metadata": {},
   "outputs": [
    {
     "data": {
      "text/html": [
       "<div>\n",
       "<style scoped>\n",
       "    .dataframe tbody tr th:only-of-type {\n",
       "        vertical-align: middle;\n",
       "    }\n",
       "\n",
       "    .dataframe tbody tr th {\n",
       "        vertical-align: top;\n",
       "    }\n",
       "\n",
       "    .dataframe thead th {\n",
       "        text-align: right;\n",
       "    }\n",
       "</style>\n",
       "<table border=\"1\" class=\"dataframe\">\n",
       "  <thead>\n",
       "    <tr style=\"text-align: right;\">\n",
       "      <th></th>\n",
       "      <th>Model</th>\n",
       "      <th>Model Accuracy</th>\n",
       "      <th>Macro F1</th>\n",
       "      <th>Class 1 Precision</th>\n",
       "      <th>Class 1 Recall</th>\n",
       "      <th>Class 1 F1</th>\n",
       "    </tr>\n",
       "  </thead>\n",
       "  <tbody>\n",
       "    <tr>\n",
       "      <th>0</th>\n",
       "      <td>Logistic Regression Untuned</td>\n",
       "      <td>0.96</td>\n",
       "      <td>0.67</td>\n",
       "      <td>0.63</td>\n",
       "      <td>0.26</td>\n",
       "      <td>0.37</td>\n",
       "    </tr>\n",
       "    <tr>\n",
       "      <th>1</th>\n",
       "      <td>Logistic Regression Tuned</td>\n",
       "      <td>0.95</td>\n",
       "      <td>0.67</td>\n",
       "      <td>0.46</td>\n",
       "      <td>0.31</td>\n",
       "      <td>0.37</td>\n",
       "    </tr>\n",
       "    <tr>\n",
       "      <th>2</th>\n",
       "      <td>Decision Tree Tuned</td>\n",
       "      <td>0.94</td>\n",
       "      <td>0.67</td>\n",
       "      <td>0.42</td>\n",
       "      <td>0.33</td>\n",
       "      <td>0.37</td>\n",
       "    </tr>\n",
       "    <tr>\n",
       "      <th>3</th>\n",
       "      <td>Random Forest</td>\n",
       "      <td>0.95</td>\n",
       "      <td>0.65</td>\n",
       "      <td>0.49</td>\n",
       "      <td>0.24</td>\n",
       "      <td>0.32</td>\n",
       "    </tr>\n",
       "    <tr>\n",
       "      <th>4</th>\n",
       "      <td>Random Forest Tuned</td>\n",
       "      <td>0.95</td>\n",
       "      <td>0.65</td>\n",
       "      <td>0.49</td>\n",
       "      <td>0.24</td>\n",
       "      <td>0.32</td>\n",
       "    </tr>\n",
       "    <tr>\n",
       "      <th>5</th>\n",
       "      <td>Logistic Regression SMOTE</td>\n",
       "      <td>0.94</td>\n",
       "      <td>0.70</td>\n",
       "      <td>0.43</td>\n",
       "      <td>0.42</td>\n",
       "      <td>0.42</td>\n",
       "    </tr>\n",
       "    <tr>\n",
       "      <th>6</th>\n",
       "      <td>Decision Tree SMOTE</td>\n",
       "      <td>0.91</td>\n",
       "      <td>0.68</td>\n",
       "      <td>0.31</td>\n",
       "      <td>0.59</td>\n",
       "      <td>0.41</td>\n",
       "    </tr>\n",
       "    <tr>\n",
       "      <th>7</th>\n",
       "      <td>Random Forest SMOTE</td>\n",
       "      <td>0.95</td>\n",
       "      <td>0.72</td>\n",
       "      <td>0.45</td>\n",
       "      <td>0.50</td>\n",
       "      <td>0.48</td>\n",
       "    </tr>\n",
       "  </tbody>\n",
       "</table>\n",
       "</div>"
      ],
      "text/plain": [
       "                         Model  Model Accuracy  Macro F1  Class 1 Precision  \\\n",
       "0  Logistic Regression Untuned            0.96      0.67               0.63   \n",
       "1    Logistic Regression Tuned            0.95      0.67               0.46   \n",
       "2          Decision Tree Tuned            0.94      0.67               0.42   \n",
       "3                Random Forest            0.95      0.65               0.49   \n",
       "4          Random Forest Tuned            0.95      0.65               0.49   \n",
       "5    Logistic Regression SMOTE            0.94      0.70               0.43   \n",
       "6          Decision Tree SMOTE            0.91      0.68               0.31   \n",
       "7          Random Forest SMOTE            0.95      0.72               0.45   \n",
       "\n",
       "   Class 1 Recall  Class 1 F1  \n",
       "0            0.26        0.37  \n",
       "1            0.31        0.37  \n",
       "2            0.33        0.37  \n",
       "3            0.24        0.32  \n",
       "4            0.24        0.32  \n",
       "5            0.42        0.42  \n",
       "6            0.59        0.41  \n",
       "7            0.50        0.48  "
      ]
     },
     "execution_count": 43,
     "metadata": {},
     "output_type": "execute_result"
    }
   ],
   "source": [
    "# Real scores from models\n",
    "model_names = ['Logistic Regression Untuned', 'Logistic Regression Tuned', 'Decision Tree Tuned', 'Random Forest', 'Random Forest Tuned', 'Logistic Regression SMOTE', 'Decision Tree SMOTE', 'Random Forest SMOTE']\n",
    "accuracies = [0.96, 0.95, 0.94, 0.95, 0.95, 0.94, 0.91, 0.95]  # Replace with actual accuracy scores\n",
    "macro_f1s = [0.67, 0.67, 0.67, 0.65, 0.65, 0.70, 0.68, 0.72]  # Replace with actual macro F1 scores\n",
    "precisions = [0.63, 0.46, 0.42, 0.49, 0.49, 0.43, 0.31, 0.45]  # Replace with actual precision scores\n",
    "recalls = [0.26, 0.31, 0.33, 0.24, 0.24, 0.42, 0.59, 0.50] # Replace with actual recall scores\n",
    "class_1_f1s = [0.37, 0.37, 0.37, 0.32, 0.32, 0.42, 0.41, 0.48]  # Replace with actual '1' F1 scores\n",
    "\n",
    "# Initialize the DataFrame with these lists\n",
    "results_df = pd.DataFrame({\n",
    "    'Model': model_names,\n",
    "    'Model Accuracy': accuracies,\n",
    "    'Macro F1': macro_f1s,\n",
    "    'Class 1 Precision': precisions,\n",
    "    'Class 1 Recall': recalls,\n",
    "    'Class 1 F1': class_1_f1s\n",
    "})\n",
    "\n",
    "# Display the DataFrame\n",
    "results_df\n"
   ]
  },
  {
   "cell_type": "markdown",
   "metadata": {},
   "source": [
    "This table showcases the predictive performance of various models we've developed. The incorporation of SMOTE, particularly in the Random Forest SMOTE model, has substantially improved our ability to predict F1 race winners, as evidenced by the highest Macro F1 and Class 1 F1 scores. These improvements are crucial for our goal, as they demonstrate a more accurate and balanced prediction capability, especially for our minority class \"winner\" in our data."
   ]
  },
  {
   "cell_type": "code",
   "execution_count": 44,
   "metadata": {},
   "outputs": [
    {
     "data": {
      "image/png": "[encoded data removed]",
      "text/plain": [
       "<Figure size 1200x600 with 1 Axes>"
      ]
     },
     "metadata": {},
     "output_type": "display_data"
    }
   ],
   "source": [
    "import matplotlib.pyplot as plt\n",
    "import numpy as np\n",
    "\n",
    "# Define the model names and their respective scores\n",
    "models = ['Logistic Regression Untuned', 'Logistic Regression Tuned', \n",
    "          'Decision Tree Tuned', 'Random Forest', 'Random Forest Tuned',\n",
    "          'Logistic Regression SMOTE', 'Decision Tree SMOTE', 'Random Forest SMOTE']\n",
    "model_accuracy = [0.96, 0.95, 0.94, 0.95, 0.95, 0.94, 0.91, 0.95]\n",
    "class_1_f1 = [0.37, 0.37, 0.37, 0.32, 0.32, 0.42, 0.41, 0.48]\n",
    "\n",
    "# Set up the figure and axis\n",
    "fig, ax = plt.subplots(figsize=(12, 6))\n",
    "\n",
    "# Set the positions and width for the bars\n",
    "positions = np.arange(len(models))\n",
    "bar_width = 0.35\n",
    "\n",
    "# Colors\n",
    "standard_blue = '#add8e6'  # Light blue color\n",
    "standard_orange = '#ffcc99'  # Light orange color\n",
    "bright_blue = '#0000FF'  # Bright blue color\n",
    "bright_orange = '#FFA500'  # Bright orange color\n",
    "\n",
    "# Define bar colors based on whether the model uses SMOTE\n",
    "model_accuracy_colors = [bright_blue if 'SMOTE' in model else standard_blue for model in models]\n",
    "class_1_f1_colors = [bright_orange if 'SMOTE' in model else standard_orange for model in models]\n",
    "\n",
    "# Plot the 'Model Accuracy' bars\n",
    "ax.bar(positions - bar_width/2, model_accuracy, bar_width, label='Model Accuracy', color=model_accuracy_colors)\n",
    "\n",
    "# Plot the 'Class 1 F1 Score' bars\n",
    "ax.bar(positions + bar_width/2, class_1_f1, bar_width, label='Class 1 F1 Score', color=class_1_f1_colors)\n",
    "\n",
    "# Add the model names as x-axis labels\n",
    "ax.set_xticks(positions)\n",
    "ax.set_xticklabels(models, rotation=45, ha='right')\n",
    "\n",
    "# Set the chart title and labels\n",
    "ax.set_title('Model Performance with SMOTE Enhancement')\n",
    "ax.set_xlabel('Model')\n",
    "ax.set_ylabel('Score')\n",
    "\n",
    "# Add a legend to explain the colors and move it to the left outside of the plot\n",
    "ax.legend(loc='center left', bbox_to_anchor=(1, 0.5))\n",
    "\n",
    "# Show the plot\n",
    "plt.tight_layout()\n",
    "plt.show()\n"
   ]
  },
  {
   "cell_type": "markdown",
   "metadata": {},
   "source": [
    "Incorporating SMOTE into our data preprocessing has significantly enhanced our model's ability to predict F1 race winners. This technique has boosted the performance of our models, particularly evident in the Class 1 F1 scores, by effectively addressing class imbalance and providing a more robust and accurate prediction framework."
   ]
  },
  {
   "cell_type": "markdown",
   "metadata": {},
   "source": [
    "1. **Overall Accuracy Score**:\n",
    "\n",
    "The overall accuracy score is the proportion of all predictions our model gets right, both winners and non-winners. It's the most straightforward measure of our model's performance, giving us a quick snapshot of its effectiveness. In predicting F1 race winners, a high overall accuracy score indicates that our model is generally good at determining the outcomes, but it doesn't differentiate between the types of errors made, so it's important to balance this with precision and recall to ensure a well-rounded model."
   ]
  },
  {
   "cell_type": "code",
   "execution_count": 45,
   "metadata": {},
   "outputs": [
    {
     "data": {
      "application/vnd.plotly.v1+json": {
       "config": {
        "plotlyServerURL": "https://plot.ly"
       },
       "data": [
        {
         "marker": {
          "color": [
           "red",
           "blue",
           "blue",
           "blue",
           "blue",
           "blue",
           "blue",
           "blue"
          ]
         },
         "type": "bar",
         "x": [
          "Logistic Regression Untuned",
          "Logistic Regression Tuned",
          "Decision Tree Tuned",
          "Random Forest Untuned",
          "Random Forest Tuned",
          "Logistic Regression SMOTE",
          "Decision Trees SMOTE",
          "Random Forest SMOTE"
         ],
         "y": [
          0.96,
          0.95,
          0.94,
          0.95,
          0.95,
          0.94,
          0.91,
          0.95
         ]
        }
       ],
       "layout": {
        "template": {
         "data": {
          "bar": [
           {
            "error_x": {
             "color": "#2a3f5f"
            },
            "error_y": {
             "color": "#2a3f5f"
            },
            "marker": {
             "line": {
              "color": "#E5ECF6",
              "width": 0.5
             },
             "pattern": {
              "fillmode": "overlay",
              "size": 10,
              "solidity": 0.2
             }
            },
            "type": "bar"
           }
          ],
          "barpolar": [
           {
            "marker": {
             "line": {
              "color": "#E5ECF6",
              "width": 0.5
             },
             "pattern": {
              "fillmode": "overlay",
              "size": 10,
              "solidity": 0.2
             }
            },
            "type": "barpolar"
           }
          ],
          "carpet": [
           {
            "aaxis": {
             "endlinecolor": "#2a3f5f",
             "gridcolor": "white",
             "linecolor": "white",
             "minorgridcolor": "white",
             "startlinecolor": "#2a3f5f"
            },
            "baxis": {
             "endlinecolor": "#2a3f5f",
             "gridcolor": "white",
             "linecolor": "white",
             "minorgridcolor": "white",
             "startlinecolor": "#2a3f5f"
            },
            "type": "carpet"
           }
          ],
          "choropleth": [
           {
            "colorbar": {
             "outlinewidth": 0,
             "ticks": ""
            },
            "type": "choropleth"
           }
          ],
          "contour": [
           {
            "colorbar": {
             "outlinewidth": 0,
             "ticks": ""
            },
            "colorscale": [
             [
              0,
              "#0d0887"
             ],
             [
              0.1111111111111111,
              "#46039f"
             ],
             [
              0.2222222222222222,
              "#7201a8"
             ],
             [
              0.3333333333333333,
              "#9c179e"
             ],
             [
              0.4444444444444444,
              "#bd3786"
             ],
             [
              0.5555555555555556,
              "#d8576b"
             ],
             [
              0.6666666666666666,
              "#ed7953"
             ],
             [
              0.7777777777777778,
              "#fb9f3a"
             ],
             [
              0.8888888888888888,
              "#fdca26"
             ],
             [
              1,
              "#f0f921"
             ]
            ],
            "type": "contour"
           }
          ],
          "contourcarpet": [
           {
            "colorbar": {
             "outlinewidth": 0,
             "ticks": ""
            },
            "type": "contourcarpet"
           }
          ],
          "heatmap": [
           {
            "colorbar": {
             "outlinewidth": 0,
             "ticks": ""
            },
            "colorscale": [
             [
              0,
              "#0d0887"
             ],
             [
              0.1111111111111111,
              "#46039f"
             ],
             [
              0.2222222222222222,
              "#7201a8"
             ],
             [
              0.3333333333333333,
              "#9c179e"
             ],
             [
              0.4444444444444444,
              "#bd3786"
             ],
             [
              0.5555555555555556,
              "#d8576b"
             ],
             [
              0.6666666666666666,
              "#ed7953"
             ],
             [
              0.7777777777777778,
              "#fb9f3a"
             ],
             [
              0.8888888888888888,
              "#fdca26"
             ],
             [
              1,
              "#f0f921"
             ]
            ],
            "type": "heatmap"
           }
          ],
          "heatmapgl": [
           {
            "colorbar": {
             "outlinewidth": 0,
             "ticks": ""
            },
            "colorscale": [
             [
              0,
              "#0d0887"
             ],
             [
              0.1111111111111111,
              "#46039f"
             ],
             [
              0.2222222222222222,
              "#7201a8"
             ],
             [
              0.3333333333333333,
              "#9c179e"
             ],
             [
              0.4444444444444444,
              "#bd3786"
             ],
             [
              0.5555555555555556,
              "#d8576b"
             ],
             [
              0.6666666666666666,
              "#ed7953"
             ],
             [
              0.7777777777777778,
              "#fb9f3a"
             ],
             [
              0.8888888888888888,
              "#fdca26"
             ],
             [
              1,
              "#f0f921"
             ]
            ],
            "type": "heatmapgl"
           }
          ],
          "histogram": [
           {
            "marker": {
             "pattern": {
              "fillmode": "overlay",
              "size": 10,
              "solidity": 0.2
             }
            },
            "type": "histogram"
           }
          ],
          "histogram2d": [
           {
            "colorbar": {
             "outlinewidth": 0,
             "ticks": ""
            },
            "colorscale": [
             [
              0,
              "#0d0887"
             ],
             [
              0.1111111111111111,
              "#46039f"
             ],
             [
              0.2222222222222222,
              "#7201a8"
             ],
             [
              0.3333333333333333,
              "#9c179e"
             ],
             [
              0.4444444444444444,
              "#bd3786"
             ],
             [
              0.5555555555555556,
              "#d8576b"
             ],
             [
              0.6666666666666666,
              "#ed7953"
             ],
             [
              0.7777777777777778,
              "#fb9f3a"
             ],
             [
              0.8888888888888888,
              "#fdca26"
             ],
             [
              1,
              "#f0f921"
             ]
            ],
            "type": "histogram2d"
           }
          ],
          "histogram2dcontour": [
           {
            "colorbar": {
             "outlinewidth": 0,
             "ticks": ""
            },
            "colorscale": [
             [
              0,
              "#0d0887"
             ],
             [
              0.1111111111111111,
              "#46039f"
             ],
             [
              0.2222222222222222,
              "#7201a8"
             ],
             [
              0.3333333333333333,
              "#9c179e"
             ],
             [
              0.4444444444444444,
              "#bd3786"
             ],
             [
              0.5555555555555556,
              "#d8576b"
             ],
             [
              0.6666666666666666,
              "#ed7953"
             ],
             [
              0.7777777777777778,
              "#fb9f3a"
             ],
             [
              0.8888888888888888,
              "#fdca26"
             ],
             [
              1,
              "#f0f921"
             ]
            ],
            "type": "histogram2dcontour"
           }
          ],
          "mesh3d": [
           {
            "colorbar": {
             "outlinewidth": 0,
             "ticks": ""
            },
            "type": "mesh3d"
           }
          ],
          "parcoords": [
           {
            "line": {
             "colorbar": {
              "outlinewidth": 0,
              "ticks": ""
             }
            },
            "type": "parcoords"
           }
          ],
          "pie": [
           {
            "automargin": true,
            "type": "pie"
           }
          ],
          "scatter": [
           {
            "fillpattern": {
             "fillmode": "overlay",
             "size": 10,
             "solidity": 0.2
            },
            "type": "scatter"
           }
          ],
          "scatter3d": [
           {
            "line": {
             "colorbar": {
              "outlinewidth": 0,
              "ticks": ""
             }
            },
            "marker": {
             "colorbar": {
              "outlinewidth": 0,
              "ticks": ""
             }
            },
            "type": "scatter3d"
           }
          ],
          "scattercarpet": [
           {
            "marker": {
             "colorbar": {
              "outlinewidth": 0,
              "ticks": ""
             }
            },
            "type": "scattercarpet"
           }
          ],
          "scattergeo": [
           {
            "marker": {
             "colorbar": {
              "outlinewidth": 0,
              "ticks": ""
             }
            },
            "type": "scattergeo"
           }
          ],
          "scattergl": [
           {
            "marker": {
             "colorbar": {
              "outlinewidth": 0,
              "ticks": ""
             }
            },
            "type": "scattergl"
           }
          ],
          "scattermapbox": [
           {
            "marker": {
             "colorbar": {
              "outlinewidth": 0,
              "ticks": ""
             }
            },
            "type": "scattermapbox"
           }
          ],
          "scatterpolar": [
           {
            "marker": {
             "colorbar": {
              "outlinewidth": 0,
              "ticks": ""
             }
            },
            "type": "scatterpolar"
           }
          ],
          "scatterpolargl": [
           {
            "marker": {
             "colorbar": {
              "outlinewidth": 0,
              "ticks": ""
             }
            },
            "type": "scatterpolargl"
           }
          ],
          "scatterternary": [
           {
            "marker": {
             "colorbar": {
              "outlinewidth": 0,
              "ticks": ""
             }
            },
            "type": "scatterternary"
           }
          ],
          "surface": [
           {
            "colorbar": {
             "outlinewidth": 0,
             "ticks": ""
            },
            "colorscale": [
             [
              0,
              "#0d0887"
             ],
             [
              0.1111111111111111,
              "#46039f"
             ],
             [
              0.2222222222222222,
              "#7201a8"
             ],
             [
              0.3333333333333333,
              "#9c179e"
             ],
             [
              0.4444444444444444,
              "#bd3786"
             ],
             [
              0.5555555555555556,
              "#d8576b"
             ],
             [
              0.6666666666666666,
              "#ed7953"
             ],
             [
              0.7777777777777778,
              "#fb9f3a"
             ],
             [
              0.8888888888888888,
              "#fdca26"
             ],
             [
              1,
              "#f0f921"
             ]
            ],
            "type": "surface"
           }
          ],
          "table": [
           {
            "cells": {
             "fill": {
              "color": "#EBF0F8"
             },
             "line": {
              "color": "white"
             }
            },
            "header": {
             "fill": {
              "color": "#C8D4E3"
             },
             "line": {
              "color": "white"
             }
            },
            "type": "table"
           }
          ]
         },
         "layout": {
          "annotationdefaults": {
           "arrowcolor": "#2a3f5f",
           "arrowhead": 0,
           "arrowwidth": 1
          },
          "autotypenumbers": "strict",
          "coloraxis": {
           "colorbar": {
            "outlinewidth": 0,
            "ticks": ""
           }
          },
          "colorscale": {
           "diverging": [
            [
             0,
             "#8e0152"
            ],
            [
             0.1,
             "#c51b7d"
            ],
            [
             0.2,
             "#de77ae"
            ],
            [
             0.3,
             "#f1b6da"
            ],
            [
             0.4,
             "#fde0ef"
            ],
            [
             0.5,
             "#f7f7f7"
            ],
            [
             0.6,
             "#e6f5d0"
            ],
            [
             0.7,
             "#b8e186"
            ],
            [
             0.8,
             "#7fbc41"
            ],
            [
             0.9,
             "#4d9221"
            ],
            [
             1,
             "#276419"
            ]
           ],
           "sequential": [
            [
             0,
             "#0d0887"
            ],
            [
             0.1111111111111111,
             "#46039f"
            ],
            [
             0.2222222222222222,
             "#7201a8"
            ],
            [
             0.3333333333333333,
             "#9c179e"
            ],
            [
             0.4444444444444444,
             "#bd3786"
            ],
            [
             0.5555555555555556,
             "#d8576b"
            ],
            [
             0.6666666666666666,
             "#ed7953"
            ],
            [
             0.7777777777777778,
             "#fb9f3a"
            ],
            [
             0.8888888888888888,
             "#fdca26"
            ],
            [
             1,
             "#f0f921"
            ]
           ],
           "sequentialminus": [
            [
             0,
             "#0d0887"
            ],
            [
             0.1111111111111111,
             "#46039f"
            ],
            [
             0.2222222222222222,
             "#7201a8"
            ],
            [
             0.3333333333333333,
             "#9c179e"
            ],
            [
             0.4444444444444444,
             "#bd3786"
            ],
            [
             0.5555555555555556,
             "#d8576b"
            ],
            [
             0.6666666666666666,
             "#ed7953"
            ],
            [
             0.7777777777777778,
             "#fb9f3a"
            ],
            [
             0.8888888888888888,
             "#fdca26"
            ],
            [
             1,
             "#f0f921"
            ]
           ]
          },
          "colorway": [
           "#636efa",
           "#EF553B",
           "#00cc96",
           "#ab63fa",
           "#FFA15A",
           "#19d3f3",
           "#FF6692",
           "#B6E880",
           "#FF97FF",
           "#FECB52"
          ],
          "font": {
           "color": "#2a3f5f"
          },
          "geo": {
           "bgcolor": "white",
           "lakecolor": "white",
           "landcolor": "#E5ECF6",
           "showlakes": true,
           "showland": true,
           "subunitcolor": "white"
          },
          "hoverlabel": {
           "align": "left"
          },
          "hovermode": "closest",
          "mapbox": {
           "style": "light"
          },
          "paper_bgcolor": "white",
          "plot_bgcolor": "#E5ECF6",
          "polar": {
           "angularaxis": {
            "gridcolor": "white",
            "linecolor": "white",
            "ticks": ""
           },
           "bgcolor": "#E5ECF6",
           "radialaxis": {
            "gridcolor": "white",
            "linecolor": "white",
            "ticks": ""
           }
          },
          "scene": {
           "xaxis": {
            "backgroundcolor": "#E5ECF6",
            "gridcolor": "white",
            "gridwidth": 2,
            "linecolor": "white",
            "showbackground": true,
            "ticks": "",
            "zerolinecolor": "white"
           },
           "yaxis": {
            "backgroundcolor": "#E5ECF6",
            "gridcolor": "white",
            "gridwidth": 2,
            "linecolor": "white",
            "showbackground": true,
            "ticks": "",
            "zerolinecolor": "white"
           },
           "zaxis": {
            "backgroundcolor": "#E5ECF6",
            "gridcolor": "white",
            "gridwidth": 2,
            "linecolor": "white",
            "showbackground": true,
            "ticks": "",
            "zerolinecolor": "white"
           }
          },
          "shapedefaults": {
           "line": {
            "color": "#2a3f5f"
           }
          },
          "ternary": {
           "aaxis": {
            "gridcolor": "white",
            "linecolor": "white",
            "ticks": ""
           },
           "baxis": {
            "gridcolor": "white",
            "linecolor": "white",
            "ticks": ""
           },
           "bgcolor": "#E5ECF6",
           "caxis": {
            "gridcolor": "white",
            "linecolor": "white",
            "ticks": ""
           }
          },
          "title": {
           "x": 0.05
          },
          "xaxis": {
           "automargin": true,
           "gridcolor": "white",
           "linecolor": "white",
           "ticks": "",
           "title": {
            "standoff": 15
           },
           "zerolinecolor": "white",
           "zerolinewidth": 2
          },
          "yaxis": {
           "automargin": true,
           "gridcolor": "white",
           "linecolor": "white",
           "ticks": "",
           "title": {
            "standoff": 15
           },
           "zerolinecolor": "white",
           "zerolinewidth": 2
          }
         }
        },
        "title": {
         "text": "Logistics Regressions (Untuned and Tuned) Shows Highest Overall Accuracy"
        },
        "xaxis": {
         "title": {
          "text": "Model"
         }
        },
        "yaxis": {
         "range": [
          0.85,
          1
         ],
         "title": {
          "text": "Accuracy"
         }
        }
       }
      }
     },
     "metadata": {},
     "output_type": "display_data"
    }
   ],
   "source": [
    "import plotly.graph_objects as go\n",
    "\n",
    "# Accuracy scores for each model\n",
    "accuracies = [0.96, 0.95, 0.94, 0.95, 0.95, 0.94, 0.91, 0.95]\n",
    "models = [\n",
    "    'Logistic Regression Untuned', 'Logistic Regression Tuned',\n",
    "    'Decision Tree Tuned', 'Random Forest Untuned',\n",
    "    'Random Forest Tuned', 'Logistic Regression SMOTE',\n",
    "    'Decision Trees SMOTE', 'Random Forest SMOTE'\n",
    "]\n",
    "\n",
    "# Colors for the bars - red if the score is the maximum, blue otherwise\n",
    "colors = ['red' if accuracy == max(accuracies) else 'blue' for accuracy in accuracies]\n",
    "\n",
    "# Create bar chart\n",
    "fig = go.Figure([go.Bar(x=models, y=accuracies, marker_color=colors)])\n",
    "fig.update_layout(\n",
    "    title='Logistics Regressions (Untuned and Tuned) Shows Highest Overall Accuracy',\n",
    "    xaxis_title='Model',\n",
    "    yaxis_title='Accuracy',\n",
    "    yaxis=dict(range=[0.85, 1])\n",
    ")\n",
    "fig.show()\n"
   ]
  },
  {
   "cell_type": "markdown",
   "metadata": {},
   "source": [
    "This chart visualizes the accuracy of various models used in our project to predict F1 race winners. It shows that Logistic Regression model untuned, achieved the highest overall accuracy. However, while this metric is important, it doesn't tell the whole story. We need to consider recall and precision, especially in our imbalanced dataset where the minority class (the winners) is our primary focus. A model that accurately predicts non-winners most of the time could still have high accuracy, but it wouldn't be useful for our goal of correctly identifying race winners."
   ]
  },
  {
   "cell_type": "markdown",
   "metadata": {},
   "source": [
    "2. **Recall**:\n",
    "\n",
    "Recall, also known as sensitivity, measures our model's ability to correctly identify all actual race winners. In the high-stakes context of F1 racing, a high recall means that our model misses very few winners; it's great at flagging potential champions. However, a high recall doesn't consider whether our predictions for non-winners are correct — it's purely focused on how well we catch those winning instances."
   ]
  },
  {
   "cell_type": "code",
   "execution_count": 46,
   "metadata": {},
   "outputs": [
    {
     "data": {
      "application/vnd.plotly.v1+json": {
       "config": {
        "plotlyServerURL": "https://plot.ly"
       },
       "data": [
        {
         "marker": {
          "color": [
           "blue",
           "blue",
           "blue",
           "blue",
           "blue",
           "blue",
           "red",
           "blue"
          ]
         },
         "type": "bar",
         "x": [
          "Logistic Regression Untuned",
          "Logistic Regression Tuned",
          "Decision Tree Tuned",
          "Random Forest Untuned",
          "Random Forest Tuned",
          "Logistic Regression SMOTE",
          "Decision Trees SMOTE",
          "Random Forest SMOTE"
         ],
         "y": [
          0.26,
          0.31,
          0.33,
          0.24,
          0.24,
          0.42,
          0.59,
          0.5
         ]
        }
       ],
       "layout": {
        "template": {
         "data": {
          "bar": [
           {
            "error_x": {
             "color": "#2a3f5f"
            },
            "error_y": {
             "color": "#2a3f5f"
            },
            "marker": {
             "line": {
              "color": "#E5ECF6",
              "width": 0.5
             },
             "pattern": {
              "fillmode": "overlay",
              "size": 10,
              "solidity": 0.2
             }
            },
            "type": "bar"
           }
          ],
          "barpolar": [
           {
            "marker": {
             "line": {
              "color": "#E5ECF6",
              "width": 0.5
             },
             "pattern": {
              "fillmode": "overlay",
              "size": 10,
              "solidity": 0.2
             }
            },
            "type": "barpolar"
           }
          ],
          "carpet": [
           {
            "aaxis": {
             "endlinecolor": "#2a3f5f",
             "gridcolor": "white",
             "linecolor": "white",
             "minorgridcolor": "white",
             "startlinecolor": "#2a3f5f"
            },
            "baxis": {
             "endlinecolor": "#2a3f5f",
             "gridcolor": "white",
             "linecolor": "white",
             "minorgridcolor": "white",
             "startlinecolor": "#2a3f5f"
            },
            "type": "carpet"
           }
          ],
          "choropleth": [
           {
            "colorbar": {
             "outlinewidth": 0,
             "ticks": ""
            },
            "type": "choropleth"
           }
          ],
          "contour": [
           {
            "colorbar": {
             "outlinewidth": 0,
             "ticks": ""
            },
            "colorscale": [
             [
              0,
              "#0d0887"
             ],
             [
              0.1111111111111111,
              "#46039f"
             ],
             [
              0.2222222222222222,
              "#7201a8"
             ],
             [
              0.3333333333333333,
              "#9c179e"
             ],
             [
              0.4444444444444444,
              "#bd3786"
             ],
             [
              0.5555555555555556,
              "#d8576b"
             ],
             [
              0.6666666666666666,
              "#ed7953"
             ],
             [
              0.7777777777777778,
              "#fb9f3a"
             ],
             [
              0.8888888888888888,
              "#fdca26"
             ],
             [
              1,
              "#f0f921"
             ]
            ],
            "type": "contour"
           }
          ],
          "contourcarpet": [
           {
            "colorbar": {
             "outlinewidth": 0,
             "ticks": ""
            },
            "type": "contourcarpet"
           }
          ],
          "heatmap": [
           {
            "colorbar": {
             "outlinewidth": 0,
             "ticks": ""
            },
            "colorscale": [
             [
              0,
              "#0d0887"
             ],
             [
              0.1111111111111111,
              "#46039f"
             ],
             [
              0.2222222222222222,
              "#7201a8"
             ],
             [
              0.3333333333333333,
              "#9c179e"
             ],
             [
              0.4444444444444444,
              "#bd3786"
             ],
             [
              0.5555555555555556,
              "#d8576b"
             ],
             [
              0.6666666666666666,
              "#ed7953"
             ],
             [
              0.7777777777777778,
              "#fb9f3a"
             ],
             [
              0.8888888888888888,
              "#fdca26"
             ],
             [
              1,
              "#f0f921"
             ]
            ],
            "type": "heatmap"
           }
          ],
          "heatmapgl": [
           {
            "colorbar": {
             "outlinewidth": 0,
             "ticks": ""
            },
            "colorscale": [
             [
              0,
              "#0d0887"
             ],
             [
              0.1111111111111111,
              "#46039f"
             ],
             [
              0.2222222222222222,
              "#7201a8"
             ],
             [
              0.3333333333333333,
              "#9c179e"
             ],
             [
              0.4444444444444444,
              "#bd3786"
             ],
             [
              0.5555555555555556,
              "#d8576b"
             ],
             [
              0.6666666666666666,
              "#ed7953"
             ],
             [
              0.7777777777777778,
              "#fb9f3a"
             ],
             [
              0.8888888888888888,
              "#fdca26"
             ],
             [
              1,
              "#f0f921"
             ]
            ],
            "type": "heatmapgl"
           }
          ],
          "histogram": [
           {
            "marker": {
             "pattern": {
              "fillmode": "overlay",
              "size": 10,
              "solidity": 0.2
             }
            },
            "type": "histogram"
           }
          ],
          "histogram2d": [
           {
            "colorbar": {
             "outlinewidth": 0,
             "ticks": ""
            },
            "colorscale": [
             [
              0,
              "#0d0887"
             ],
             [
              0.1111111111111111,
              "#46039f"
             ],
             [
              0.2222222222222222,
              "#7201a8"
             ],
             [
              0.3333333333333333,
              "#9c179e"
             ],
             [
              0.4444444444444444,
              "#bd3786"
             ],
             [
              0.5555555555555556,
              "#d8576b"
             ],
             [
              0.6666666666666666,
              "#ed7953"
             ],
             [
              0.7777777777777778,
              "#fb9f3a"
             ],
             [
              0.8888888888888888,
              "#fdca26"
             ],
             [
              1,
              "#f0f921"
             ]
            ],
            "type": "histogram2d"
           }
          ],
          "histogram2dcontour": [
           {
            "colorbar": {
             "outlinewidth": 0,
             "ticks": ""
            },
            "colorscale": [
             [
              0,
              "#0d0887"
             ],
             [
              0.1111111111111111,
              "#46039f"
             ],
             [
              0.2222222222222222,
              "#7201a8"
             ],
             [
              0.3333333333333333,
              "#9c179e"
             ],
             [
              0.4444444444444444,
              "#bd3786"
             ],
             [
              0.5555555555555556,
              "#d8576b"
             ],
             [
              0.6666666666666666,
              "#ed7953"
             ],
             [
              0.7777777777777778,
              "#fb9f3a"
             ],
             [
              0.8888888888888888,
              "#fdca26"
             ],
             [
              1,
              "#f0f921"
             ]
            ],
            "type": "histogram2dcontour"
           }
          ],
          "mesh3d": [
           {
            "colorbar": {
             "outlinewidth": 0,
             "ticks": ""
            },
            "type": "mesh3d"
           }
          ],
          "parcoords": [
           {
            "line": {
             "colorbar": {
              "outlinewidth": 0,
              "ticks": ""
             }
            },
            "type": "parcoords"
           }
          ],
          "pie": [
           {
            "automargin": true,
            "type": "pie"
           }
          ],
          "scatter": [
           {
            "fillpattern": {
             "fillmode": "overlay",
             "size": 10,
             "solidity": 0.2
            },
            "type": "scatter"
           }
          ],
          "scatter3d": [
           {
            "line": {
             "colorbar": {
              "outlinewidth": 0,
              "ticks": ""
             }
            },
            "marker": {
             "colorbar": {
              "outlinewidth": 0,
              "ticks": ""
             }
            },
            "type": "scatter3d"
           }
          ],
          "scattercarpet": [
           {
            "marker": {
             "colorbar": {
              "outlinewidth": 0,
              "ticks": ""
             }
            },
            "type": "scattercarpet"
           }
          ],
          "scattergeo": [
           {
            "marker": {
             "colorbar": {
              "outlinewidth": 0,
              "ticks": ""
             }
            },
            "type": "scattergeo"
           }
          ],
          "scattergl": [
           {
            "marker": {
             "colorbar": {
              "outlinewidth": 0,
              "ticks": ""
             }
            },
            "type": "scattergl"
           }
          ],
          "scattermapbox": [
           {
            "marker": {
             "colorbar": {
              "outlinewidth": 0,
              "ticks": ""
             }
            },
            "type": "scattermapbox"
           }
          ],
          "scatterpolar": [
           {
            "marker": {
             "colorbar": {
              "outlinewidth": 0,
              "ticks": ""
             }
            },
            "type": "scatterpolar"
           }
          ],
          "scatterpolargl": [
           {
            "marker": {
             "colorbar": {
              "outlinewidth": 0,
              "ticks": ""
             }
            },
            "type": "scatterpolargl"
           }
          ],
          "scatterternary": [
           {
            "marker": {
             "colorbar": {
              "outlinewidth": 0,
              "ticks": ""
             }
            },
            "type": "scatterternary"
           }
          ],
          "surface": [
           {
            "colorbar": {
             "outlinewidth": 0,
             "ticks": ""
            },
            "colorscale": [
             [
              0,
              "#0d0887"
             ],
             [
              0.1111111111111111,
              "#46039f"
             ],
             [
              0.2222222222222222,
              "#7201a8"
             ],
             [
              0.3333333333333333,
              "#9c179e"
             ],
             [
              0.4444444444444444,
              "#bd3786"
             ],
             [
              0.5555555555555556,
              "#d8576b"
             ],
             [
              0.6666666666666666,
              "#ed7953"
             ],
             [
              0.7777777777777778,
              "#fb9f3a"
             ],
             [
              0.8888888888888888,
              "#fdca26"
             ],
             [
              1,
              "#f0f921"
             ]
            ],
            "type": "surface"
           }
          ],
          "table": [
           {
            "cells": {
             "fill": {
              "color": "#EBF0F8"
             },
             "line": {
              "color": "white"
             }
            },
            "header": {
             "fill": {
              "color": "#C8D4E3"
             },
             "line": {
              "color": "white"
             }
            },
            "type": "table"
           }
          ]
         },
         "layout": {
          "annotationdefaults": {
           "arrowcolor": "#2a3f5f",
           "arrowhead": 0,
           "arrowwidth": 1
          },
          "autotypenumbers": "strict",
          "coloraxis": {
           "colorbar": {
            "outlinewidth": 0,
            "ticks": ""
           }
          },
          "colorscale": {
           "diverging": [
            [
             0,
             "#8e0152"
            ],
            [
             0.1,
             "#c51b7d"
            ],
            [
             0.2,
             "#de77ae"
            ],
            [
             0.3,
             "#f1b6da"
            ],
            [
             0.4,
             "#fde0ef"
            ],
            [
             0.5,
             "#f7f7f7"
            ],
            [
             0.6,
             "#e6f5d0"
            ],
            [
             0.7,
             "#b8e186"
            ],
            [
             0.8,
             "#7fbc41"
            ],
            [
             0.9,
             "#4d9221"
            ],
            [
             1,
             "#276419"
            ]
           ],
           "sequential": [
            [
             0,
             "#0d0887"
            ],
            [
             0.1111111111111111,
             "#46039f"
            ],
            [
             0.2222222222222222,
             "#7201a8"
            ],
            [
             0.3333333333333333,
             "#9c179e"
            ],
            [
             0.4444444444444444,
             "#bd3786"
            ],
            [
             0.5555555555555556,
             "#d8576b"
            ],
            [
             0.6666666666666666,
             "#ed7953"
            ],
            [
             0.7777777777777778,
             "#fb9f3a"
            ],
            [
             0.8888888888888888,
             "#fdca26"
            ],
            [
             1,
             "#f0f921"
            ]
           ],
           "sequentialminus": [
            [
             0,
             "#0d0887"
            ],
            [
             0.1111111111111111,
             "#46039f"
            ],
            [
             0.2222222222222222,
             "#7201a8"
            ],
            [
             0.3333333333333333,
             "#9c179e"
            ],
            [
             0.4444444444444444,
             "#bd3786"
            ],
            [
             0.5555555555555556,
             "#d8576b"
            ],
            [
             0.6666666666666666,
             "#ed7953"
            ],
            [
             0.7777777777777778,
             "#fb9f3a"
            ],
            [
             0.8888888888888888,
             "#fdca26"
            ],
            [
             1,
             "#f0f921"
            ]
           ]
          },
          "colorway": [
           "#636efa",
           "#EF553B",
           "#00cc96",
           "#ab63fa",
           "#FFA15A",
           "#19d3f3",
           "#FF6692",
           "#B6E880",
           "#FF97FF",
           "#FECB52"
          ],
          "font": {
           "color": "#2a3f5f"
          },
          "geo": {
           "bgcolor": "white",
           "lakecolor": "white",
           "landcolor": "#E5ECF6",
           "showlakes": true,
           "showland": true,
           "subunitcolor": "white"
          },
          "hoverlabel": {
           "align": "left"
          },
          "hovermode": "closest",
          "mapbox": {
           "style": "light"
          },
          "paper_bgcolor": "white",
          "plot_bgcolor": "#E5ECF6",
          "polar": {
           "angularaxis": {
            "gridcolor": "white",
            "linecolor": "white",
            "ticks": ""
           },
           "bgcolor": "#E5ECF6",
           "radialaxis": {
            "gridcolor": "white",
            "linecolor": "white",
            "ticks": ""
           }
          },
          "scene": {
           "xaxis": {
            "backgroundcolor": "#E5ECF6",
            "gridcolor": "white",
            "gridwidth": 2,
            "linecolor": "white",
            "showbackground": true,
            "ticks": "",
            "zerolinecolor": "white"
           },
           "yaxis": {
            "backgroundcolor": "#E5ECF6",
            "gridcolor": "white",
            "gridwidth": 2,
            "linecolor": "white",
            "showbackground": true,
            "ticks": "",
            "zerolinecolor": "white"
           },
           "zaxis": {
            "backgroundcolor": "#E5ECF6",
            "gridcolor": "white",
            "gridwidth": 2,
            "linecolor": "white",
            "showbackground": true,
            "ticks": "",
            "zerolinecolor": "white"
           }
          },
          "shapedefaults": {
           "line": {
            "color": "#2a3f5f"
           }
          },
          "ternary": {
           "aaxis": {
            "gridcolor": "white",
            "linecolor": "white",
            "ticks": ""
           },
           "baxis": {
            "gridcolor": "white",
            "linecolor": "white",
            "ticks": ""
           },
           "bgcolor": "#E5ECF6",
           "caxis": {
            "gridcolor": "white",
            "linecolor": "white",
            "ticks": ""
           }
          },
          "title": {
           "x": 0.05
          },
          "xaxis": {
           "automargin": true,
           "gridcolor": "white",
           "linecolor": "white",
           "ticks": "",
           "title": {
            "standoff": 15
           },
           "zerolinecolor": "white",
           "zerolinewidth": 2
          },
          "yaxis": {
           "automargin": true,
           "gridcolor": "white",
           "linecolor": "white",
           "ticks": "",
           "title": {
            "standoff": 15
           },
           "zerolinecolor": "white",
           "zerolinewidth": 2
          }
         }
        },
        "title": {
         "text": "\"Decision Trees SMOTE Achieves Highest Recall for Predicting Winners\""
        },
        "xaxis": {
         "title": {
          "text": "Model"
         }
        },
        "yaxis": {
         "range": [
          0,
          1
         ],
         "title": {
          "text": "Recall"
         }
        }
       }
      }
     },
     "metadata": {},
     "output_type": "display_data"
    }
   ],
   "source": [
    "# Recall scores for the winner class for each model\n",
    "recalls = [0.26, 0.31, 0.33, 0.24, 0.24, 0.42, 0.59, 0.50]\n",
    "\n",
    "# Colors for the bars - red if the score is the maximum, blue otherwise\n",
    "colors = ['red' if recall == max(recalls) else 'blue' for recall in recalls]\n",
    "\n",
    "# Create bar chart\n",
    "fig = go.Figure([go.Bar(x=models, y=recalls, marker_color=colors)])\n",
    "fig.update_layout(\n",
    "    title='\"Decision Trees SMOTE Achieves Highest Recall for Predicting Winners\"',\n",
    "    xaxis_title='Model',\n",
    "    yaxis_title='Recall',\n",
    "    yaxis=dict(range=[0, 1])\n",
    ")\n",
    "fig.show()"
   ]
  },
  {
   "cell_type": "markdown",
   "metadata": {},
   "source": [
    "This chart illustrates the recall scores of different models used to predict Formula 1 race winners. The bar in red, representing the Decision Trees SMOTE model, indicates it has the highest recall score. This means that this particular model is especially good at identifying true winners, compared to the other models. In the competitive field of F1 racing predictions, this is critical as it suggests we can reliably catch most of the actual winners. The significance of a high recall is that we minimize the risk of overlooking a potential race winner, ensuring that our predictions cover as many true winners as possible. This is particularly vital for stakeholders who may base their decisions on these predictions, as missing out on a winner could be more costly than incorrectly identifying a non-winner."
   ]
  },
  {
   "cell_type": "markdown",
   "metadata": {},
   "source": [
    "3. **Precision**:\n",
    "\n",
    "Precision tells us how accurate our predictions are when the model declares a driver as a potential winner. It's a critical measure when considering the costs of false positives — in other words, how often our model incorrectly signals an unlikely driver as a winner. High precision in our F1 race winner prediction model would mean that when it predicts a win, we can be quite confident in placing our bets on that driver."
   ]
  },
  {
   "cell_type": "code",
   "execution_count": 48,
   "metadata": {},
   "outputs": [
    {
     "data": {
      "application/vnd.plotly.v1+json": {
       "config": {
        "plotlyServerURL": "https://plot.ly"
       },
       "data": [
        {
         "marker": {
          "color": [
           "red",
           "blue",
           "blue",
           "blue",
           "blue",
           "blue",
           "blue",
           "blue"
          ]
         },
         "type": "bar",
         "x": [
          "Logistic Regression Untuned",
          "Logistic Regression Tuned",
          "Decision Tree Tuned",
          "Random Forest Untuned",
          "Random Forest Tuned",
          "Logistic Regression SMOTE",
          "Decision Trees SMOTE",
          "Random Forest SMOTE"
         ],
         "y": [
          0.63,
          0.46,
          0.42,
          0.49,
          0.49,
          0.43,
          0.31,
          0.45
         ]
        }
       ],
       "layout": {
        "template": {
         "data": {
          "bar": [
           {
            "error_x": {
             "color": "#2a3f5f"
            },
            "error_y": {
             "color": "#2a3f5f"
            },
            "marker": {
             "line": {
              "color": "#E5ECF6",
              "width": 0.5
             },
             "pattern": {
              "fillmode": "overlay",
              "size": 10,
              "solidity": 0.2
             }
            },
            "type": "bar"
           }
          ],
          "barpolar": [
           {
            "marker": {
             "line": {
              "color": "#E5ECF6",
              "width": 0.5
             },
             "pattern": {
              "fillmode": "overlay",
              "size": 10,
              "solidity": 0.2
             }
            },
            "type": "barpolar"
           }
          ],
          "carpet": [
           {
            "aaxis": {
             "endlinecolor": "#2a3f5f",
             "gridcolor": "white",
             "linecolor": "white",
             "minorgridcolor": "white",
             "startlinecolor": "#2a3f5f"
            },
            "baxis": {
             "endlinecolor": "#2a3f5f",
             "gridcolor": "white",
             "linecolor": "white",
             "minorgridcolor": "white",
             "startlinecolor": "#2a3f5f"
            },
            "type": "carpet"
           }
          ],
          "choropleth": [
           {
            "colorbar": {
             "outlinewidth": 0,
             "ticks": ""
            },
            "type": "choropleth"
           }
          ],
          "contour": [
           {
            "colorbar": {
             "outlinewidth": 0,
             "ticks": ""
            },
            "colorscale": [
             [
              0,
              "#0d0887"
             ],
             [
              0.1111111111111111,
              "#46039f"
             ],
             [
              0.2222222222222222,
              "#7201a8"
             ],
             [
              0.3333333333333333,
              "#9c179e"
             ],
             [
              0.4444444444444444,
              "#bd3786"
             ],
             [
              0.5555555555555556,
              "#d8576b"
             ],
             [
              0.6666666666666666,
              "#ed7953"
             ],
             [
              0.7777777777777778,
              "#fb9f3a"
             ],
             [
              0.8888888888888888,
              "#fdca26"
             ],
             [
              1,
              "#f0f921"
             ]
            ],
            "type": "contour"
           }
          ],
          "contourcarpet": [
           {
            "colorbar": {
             "outlinewidth": 0,
             "ticks": ""
            },
            "type": "contourcarpet"
           }
          ],
          "heatmap": [
           {
            "colorbar": {
             "outlinewidth": 0,
             "ticks": ""
            },
            "colorscale": [
             [
              0,
              "#0d0887"
             ],
             [
              0.1111111111111111,
              "#46039f"
             ],
             [
              0.2222222222222222,
              "#7201a8"
             ],
             [
              0.3333333333333333,
              "#9c179e"
             ],
             [
              0.4444444444444444,
              "#bd3786"
             ],
             [
              0.5555555555555556,
              "#d8576b"
             ],
             [
              0.6666666666666666,
              "#ed7953"
             ],
             [
              0.7777777777777778,
              "#fb9f3a"
             ],
             [
              0.8888888888888888,
              "#fdca26"
             ],
             [
              1,
              "#f0f921"
             ]
            ],
            "type": "heatmap"
           }
          ],
          "heatmapgl": [
           {
            "colorbar": {
             "outlinewidth": 0,
             "ticks": ""
            },
            "colorscale": [
             [
              0,
              "#0d0887"
             ],
             [
              0.1111111111111111,
              "#46039f"
             ],
             [
              0.2222222222222222,
              "#7201a8"
             ],
             [
              0.3333333333333333,
              "#9c179e"
             ],
             [
              0.4444444444444444,
              "#bd3786"
             ],
             [
              0.5555555555555556,
              "#d8576b"
             ],
             [
              0.6666666666666666,
              "#ed7953"
             ],
             [
              0.7777777777777778,
              "#fb9f3a"
             ],
             [
              0.8888888888888888,
              "#fdca26"
             ],
             [
              1,
              "#f0f921"
             ]
            ],
            "type": "heatmapgl"
           }
          ],
          "histogram": [
           {
            "marker": {
             "pattern": {
              "fillmode": "overlay",
              "size": 10,
              "solidity": 0.2
             }
            },
            "type": "histogram"
           }
          ],
          "histogram2d": [
           {
            "colorbar": {
             "outlinewidth": 0,
             "ticks": ""
            },
            "colorscale": [
             [
              0,
              "#0d0887"
             ],
             [
              0.1111111111111111,
              "#46039f"
             ],
             [
              0.2222222222222222,
              "#7201a8"
             ],
             [
              0.3333333333333333,
              "#9c179e"
             ],
             [
              0.4444444444444444,
              "#bd3786"
             ],
             [
              0.5555555555555556,
              "#d8576b"
             ],
             [
              0.6666666666666666,
              "#ed7953"
             ],
             [
              0.7777777777777778,
              "#fb9f3a"
             ],
             [
              0.8888888888888888,
              "#fdca26"
             ],
             [
              1,
              "#f0f921"
             ]
            ],
            "type": "histogram2d"
           }
          ],
          "histogram2dcontour": [
           {
            "colorbar": {
             "outlinewidth": 0,
             "ticks": ""
            },
            "colorscale": [
             [
              0,
              "#0d0887"
             ],
             [
              0.1111111111111111,
              "#46039f"
             ],
             [
              0.2222222222222222,
              "#7201a8"
             ],
             [
              0.3333333333333333,
              "#9c179e"
             ],
             [
              0.4444444444444444,
              "#bd3786"
             ],
             [
              0.5555555555555556,
              "#d8576b"
             ],
             [
              0.6666666666666666,
              "#ed7953"
             ],
             [
              0.7777777777777778,
              "#fb9f3a"
             ],
             [
              0.8888888888888888,
              "#fdca26"
             ],
             [
              1,
              "#f0f921"
             ]
            ],
            "type": "histogram2dcontour"
           }
          ],
          "mesh3d": [
           {
            "colorbar": {
             "outlinewidth": 0,
             "ticks": ""
            },
            "type": "mesh3d"
           }
          ],
          "parcoords": [
           {
            "line": {
             "colorbar": {
              "outlinewidth": 0,
              "ticks": ""
             }
            },
            "type": "parcoords"
           }
          ],
          "pie": [
           {
            "automargin": true,
            "type": "pie"
           }
          ],
          "scatter": [
           {
            "fillpattern": {
             "fillmode": "overlay",
             "size": 10,
             "solidity": 0.2
            },
            "type": "scatter"
           }
          ],
          "scatter3d": [
           {
            "line": {
             "colorbar": {
              "outlinewidth": 0,
              "ticks": ""
             }
            },
            "marker": {
             "colorbar": {
              "outlinewidth": 0,
              "ticks": ""
             }
            },
            "type": "scatter3d"
           }
          ],
          "scattercarpet": [
           {
            "marker": {
             "colorbar": {
              "outlinewidth": 0,
              "ticks": ""
             }
            },
            "type": "scattercarpet"
           }
          ],
          "scattergeo": [
           {
            "marker": {
             "colorbar": {
              "outlinewidth": 0,
              "ticks": ""
             }
            },
            "type": "scattergeo"
           }
          ],
          "scattergl": [
           {
            "marker": {
             "colorbar": {
              "outlinewidth": 0,
              "ticks": ""
             }
            },
            "type": "scattergl"
           }
          ],
          "scattermapbox": [
           {
            "marker": {
             "colorbar": {
              "outlinewidth": 0,
              "ticks": ""
             }
            },
            "type": "scattermapbox"
           }
          ],
          "scatterpolar": [
           {
            "marker": {
             "colorbar": {
              "outlinewidth": 0,
              "ticks": ""
             }
            },
            "type": "scatterpolar"
           }
          ],
          "scatterpolargl": [
           {
            "marker": {
             "colorbar": {
              "outlinewidth": 0,
              "ticks": ""
             }
            },
            "type": "scatterpolargl"
           }
          ],
          "scatterternary": [
           {
            "marker": {
             "colorbar": {
              "outlinewidth": 0,
              "ticks": ""
             }
            },
            "type": "scatterternary"
           }
          ],
          "surface": [
           {
            "colorbar": {
             "outlinewidth": 0,
             "ticks": ""
            },
            "colorscale": [
             [
              0,
              "#0d0887"
             ],
             [
              0.1111111111111111,
              "#46039f"
             ],
             [
              0.2222222222222222,
              "#7201a8"
             ],
             [
              0.3333333333333333,
              "#9c179e"
             ],
             [
              0.4444444444444444,
              "#bd3786"
             ],
             [
              0.5555555555555556,
              "#d8576b"
             ],
             [
              0.6666666666666666,
              "#ed7953"
             ],
             [
              0.7777777777777778,
              "#fb9f3a"
             ],
             [
              0.8888888888888888,
              "#fdca26"
             ],
             [
              1,
              "#f0f921"
             ]
            ],
            "type": "surface"
           }
          ],
          "table": [
           {
            "cells": {
             "fill": {
              "color": "#EBF0F8"
             },
             "line": {
              "color": "white"
             }
            },
            "header": {
             "fill": {
              "color": "#C8D4E3"
             },
             "line": {
              "color": "white"
             }
            },
            "type": "table"
           }
          ]
         },
         "layout": {
          "annotationdefaults": {
           "arrowcolor": "#2a3f5f",
           "arrowhead": 0,
           "arrowwidth": 1
          },
          "autotypenumbers": "strict",
          "coloraxis": {
           "colorbar": {
            "outlinewidth": 0,
            "ticks": ""
           }
          },
          "colorscale": {
           "diverging": [
            [
             0,
             "#8e0152"
            ],
            [
             0.1,
             "#c51b7d"
            ],
            [
             0.2,
             "#de77ae"
            ],
            [
             0.3,
             "#f1b6da"
            ],
            [
             0.4,
             "#fde0ef"
            ],
            [
             0.5,
             "#f7f7f7"
            ],
            [
             0.6,
             "#e6f5d0"
            ],
            [
             0.7,
             "#b8e186"
            ],
            [
             0.8,
             "#7fbc41"
            ],
            [
             0.9,
             "#4d9221"
            ],
            [
             1,
             "#276419"
            ]
           ],
           "sequential": [
            [
             0,
             "#0d0887"
            ],
            [
             0.1111111111111111,
             "#46039f"
            ],
            [
             0.2222222222222222,
             "#7201a8"
            ],
            [
             0.3333333333333333,
             "#9c179e"
            ],
            [
             0.4444444444444444,
             "#bd3786"
            ],
            [
             0.5555555555555556,
             "#d8576b"
            ],
            [
             0.6666666666666666,
             "#ed7953"
            ],
            [
             0.7777777777777778,
             "#fb9f3a"
            ],
            [
             0.8888888888888888,
             "#fdca26"
            ],
            [
             1,
             "#f0f921"
            ]
           ],
           "sequentialminus": [
            [
             0,
             "#0d0887"
            ],
            [
             0.1111111111111111,
             "#46039f"
            ],
            [
             0.2222222222222222,
             "#7201a8"
            ],
            [
             0.3333333333333333,
             "#9c179e"
            ],
            [
             0.4444444444444444,
             "#bd3786"
            ],
            [
             0.5555555555555556,
             "#d8576b"
            ],
            [
             0.6666666666666666,
             "#ed7953"
            ],
            [
             0.7777777777777778,
             "#fb9f3a"
            ],
            [
             0.8888888888888888,
             "#fdca26"
            ],
            [
             1,
             "#f0f921"
            ]
           ]
          },
          "colorway": [
           "#636efa",
           "#EF553B",
           "#00cc96",
           "#ab63fa",
           "#FFA15A",
           "#19d3f3",
           "#FF6692",
           "#B6E880",
           "#FF97FF",
           "#FECB52"
          ],
          "font": {
           "color": "#2a3f5f"
          },
          "geo": {
           "bgcolor": "white",
           "lakecolor": "white",
           "landcolor": "#E5ECF6",
           "showlakes": true,
           "showland": true,
           "subunitcolor": "white"
          },
          "hoverlabel": {
           "align": "left"
          },
          "hovermode": "closest",
          "mapbox": {
           "style": "light"
          },
          "paper_bgcolor": "white",
          "plot_bgcolor": "#E5ECF6",
          "polar": {
           "angularaxis": {
            "gridcolor": "white",
            "linecolor": "white",
            "ticks": ""
           },
           "bgcolor": "#E5ECF6",
           "radialaxis": {
            "gridcolor": "white",
            "linecolor": "white",
            "ticks": ""
           }
          },
          "scene": {
           "xaxis": {
            "backgroundcolor": "#E5ECF6",
            "gridcolor": "white",
            "gridwidth": 2,
            "linecolor": "white",
            "showbackground": true,
            "ticks": "",
            "zerolinecolor": "white"
           },
           "yaxis": {
            "backgroundcolor": "#E5ECF6",
            "gridcolor": "white",
            "gridwidth": 2,
            "linecolor": "white",
            "showbackground": true,
            "ticks": "",
            "zerolinecolor": "white"
           },
           "zaxis": {
            "backgroundcolor": "#E5ECF6",
            "gridcolor": "white",
            "gridwidth": 2,
            "linecolor": "white",
            "showbackground": true,
            "ticks": "",
            "zerolinecolor": "white"
           }
          },
          "shapedefaults": {
           "line": {
            "color": "#2a3f5f"
           }
          },
          "ternary": {
           "aaxis": {
            "gridcolor": "white",
            "linecolor": "white",
            "ticks": ""
           },
           "baxis": {
            "gridcolor": "white",
            "linecolor": "white",
            "ticks": ""
           },
           "bgcolor": "#E5ECF6",
           "caxis": {
            "gridcolor": "white",
            "linecolor": "white",
            "ticks": ""
           }
          },
          "title": {
           "x": 0.05
          },
          "xaxis": {
           "automargin": true,
           "gridcolor": "white",
           "linecolor": "white",
           "ticks": "",
           "title": {
            "standoff": 15
           },
           "zerolinecolor": "white",
           "zerolinewidth": 2
          },
          "yaxis": {
           "automargin": true,
           "gridcolor": "white",
           "linecolor": "white",
           "ticks": "",
           "title": {
            "standoff": 15
           },
           "zerolinecolor": "white",
           "zerolinewidth": 2
          }
         }
        },
        "title": {
         "text": "Logistic Regression (Untuned) Achieved Highest Precision for Winner Predictions"
        },
        "xaxis": {
         "title": {
          "text": "Model"
         }
        },
        "yaxis": {
         "range": [
          0,
          1
         ],
         "title": {
          "text": "Precision"
         }
        }
       }
      }
     },
     "metadata": {},
     "output_type": "display_data"
    }
   ],
   "source": [
    "# Precision scores for the winner class for each model\n",
    "precisions = [0.63, 0.46, 0.42, 0.49, 0.49, 0.43, 0.31, 0.45]\n",
    "\n",
    "# Colors for the bars - red if the score is the maximum, blue otherwise\n",
    "colors = ['red' if precision == max(precisions) else 'blue' for precision in precisions]\n",
    "\n",
    "# Create bar chart\n",
    "fig = go.Figure([go.Bar(x=models, y=precisions, marker_color=colors)])\n",
    "fig.update_layout(\n",
    "    title='Logistic Regression (Untuned) Achieved Highest Precision for Winner Predictions',\n",
    "    xaxis_title='Model',\n",
    "    yaxis_title='Precision',\n",
    "    yaxis=dict(range=[0, 1])\n",
    ")\n",
    "fig.show()\n"
   ]
  },
  {
   "cell_type": "markdown",
   "metadata": {},
   "source": [
    "This chart lays out the precision scores for different models in our project, focusing on their ability to predict Formula 1 race winners accurately. The bars in red, which represent the untuned Logistic Regression models, indicate the highest precision. This highlights that this model was particularly adept at correctly identifying winners—when they predict a driver is likely to win, they are right more often than the other models. In the context of F1 racing, where every prediction can have significant implications, the high precision of these models means we can trust their predictions more confidently, making them valuable tools for decision-making, whether it be in betting scenarios or for team strategies. High precision is crucial for us as it reduces the risk of false alarms and ensures that our resources are allocated to the most probable winners."
   ]
  },
  {
   "cell_type": "markdown",
   "metadata": {},
   "source": [
    "### What about F1 scores?"
   ]
  },
  {
   "cell_type": "markdown",
   "metadata": {},
   "source": [
    "In our project aimed at predicting F1 race winners, comparing the models' F1 scores, particularly the Macro F1 scores, is pivotal because it allows us to evaluate how well each model performs across both the frequent and rare outcomes — that is, losses and wins — with a balanced view. Since our data is highly skewed with much fewer wins than losses, the Macro F1 score is especially valuable; it ensures that the model's ability to correctly predict the less frequent but crucial 'win' outcomes is just as important in our evaluation as the 'loss' outcomes, leading us to a more effective and fair predictive model."
   ]
  },
  {
   "cell_type": "code",
   "execution_count": 51,
   "metadata": {},
   "outputs": [
    {
     "data": {
      "application/vnd.plotly.v1+json": {
       "config": {
        "plotlyServerURL": "https://plot.ly"
       },
       "data": [
        {
         "marker": {
          "color": [
           "blue",
           "blue",
           "blue",
           "blue",
           "blue",
           "blue",
           "blue",
           "red"
          ]
         },
         "type": "bar",
         "x": [
          "Logistic Regression Untuned",
          "Logistic Regression Tuned",
          "Decision Tree Tuned",
          "Random Forest Untuned",
          "Random Forest Tuned",
          "Logistic Regression SMOTE",
          "Decision Trees SMOTE",
          "Random Forest SMOTE"
         ],
         "y": [
          0.37,
          0.37,
          0.37,
          0.32,
          0.32,
          0.42,
          0.41,
          0.48
         ]
        }
       ],
       "layout": {
        "template": {
         "data": {
          "bar": [
           {
            "error_x": {
             "color": "#2a3f5f"
            },
            "error_y": {
             "color": "#2a3f5f"
            },
            "marker": {
             "line": {
              "color": "#E5ECF6",
              "width": 0.5
             },
             "pattern": {
              "fillmode": "overlay",
              "size": 10,
              "solidity": 0.2
             }
            },
            "type": "bar"
           }
          ],
          "barpolar": [
           {
            "marker": {
             "line": {
              "color": "#E5ECF6",
              "width": 0.5
             },
             "pattern": {
              "fillmode": "overlay",
              "size": 10,
              "solidity": 0.2
             }
            },
            "type": "barpolar"
           }
          ],
          "carpet": [
           {
            "aaxis": {
             "endlinecolor": "#2a3f5f",
             "gridcolor": "white",
             "linecolor": "white",
             "minorgridcolor": "white",
             "startlinecolor": "#2a3f5f"
            },
            "baxis": {
             "endlinecolor": "#2a3f5f",
             "gridcolor": "white",
             "linecolor": "white",
             "minorgridcolor": "white",
             "startlinecolor": "#2a3f5f"
            },
            "type": "carpet"
           }
          ],
          "choropleth": [
           {
            "colorbar": {
             "outlinewidth": 0,
             "ticks": ""
            },
            "type": "choropleth"
           }
          ],
          "contour": [
           {
            "colorbar": {
             "outlinewidth": 0,
             "ticks": ""
            },
            "colorscale": [
             [
              0,
              "#0d0887"
             ],
             [
              0.1111111111111111,
              "#46039f"
             ],
             [
              0.2222222222222222,
              "#7201a8"
             ],
             [
              0.3333333333333333,
              "#9c179e"
             ],
             [
              0.4444444444444444,
              "#bd3786"
             ],
             [
              0.5555555555555556,
              "#d8576b"
             ],
             [
              0.6666666666666666,
              "#ed7953"
             ],
             [
              0.7777777777777778,
              "#fb9f3a"
             ],
             [
              0.8888888888888888,
              "#fdca26"
             ],
             [
              1,
              "#f0f921"
             ]
            ],
            "type": "contour"
           }
          ],
          "contourcarpet": [
           {
            "colorbar": {
             "outlinewidth": 0,
             "ticks": ""
            },
            "type": "contourcarpet"
           }
          ],
          "heatmap": [
           {
            "colorbar": {
             "outlinewidth": 0,
             "ticks": ""
            },
            "colorscale": [
             [
              0,
              "#0d0887"
             ],
             [
              0.1111111111111111,
              "#46039f"
             ],
             [
              0.2222222222222222,
              "#7201a8"
             ],
             [
              0.3333333333333333,
              "#9c179e"
             ],
             [
              0.4444444444444444,
              "#bd3786"
             ],
             [
              0.5555555555555556,
              "#d8576b"
             ],
             [
              0.6666666666666666,
              "#ed7953"
             ],
             [
              0.7777777777777778,
              "#fb9f3a"
             ],
             [
              0.8888888888888888,
              "#fdca26"
             ],
             [
              1,
              "#f0f921"
             ]
            ],
            "type": "heatmap"
           }
          ],
          "heatmapgl": [
           {
            "colorbar": {
             "outlinewidth": 0,
             "ticks": ""
            },
            "colorscale": [
             [
              0,
              "#0d0887"
             ],
             [
              0.1111111111111111,
              "#46039f"
             ],
             [
              0.2222222222222222,
              "#7201a8"
             ],
             [
              0.3333333333333333,
              "#9c179e"
             ],
             [
              0.4444444444444444,
              "#bd3786"
             ],
             [
              0.5555555555555556,
              "#d8576b"
             ],
             [
              0.6666666666666666,
              "#ed7953"
             ],
             [
              0.7777777777777778,
              "#fb9f3a"
             ],
             [
              0.8888888888888888,
              "#fdca26"
             ],
             [
              1,
              "#f0f921"
             ]
            ],
            "type": "heatmapgl"
           }
          ],
          "histogram": [
           {
            "marker": {
             "pattern": {
              "fillmode": "overlay",
              "size": 10,
              "solidity": 0.2
             }
            },
            "type": "histogram"
           }
          ],
          "histogram2d": [
           {
            "colorbar": {
             "outlinewidth": 0,
             "ticks": ""
            },
            "colorscale": [
             [
              0,
              "#0d0887"
             ],
             [
              0.1111111111111111,
              "#46039f"
             ],
             [
              0.2222222222222222,
              "#7201a8"
             ],
             [
              0.3333333333333333,
              "#9c179e"
             ],
             [
              0.4444444444444444,
              "#bd3786"
             ],
             [
              0.5555555555555556,
              "#d8576b"
             ],
             [
              0.6666666666666666,
              "#ed7953"
             ],
             [
              0.7777777777777778,
              "#fb9f3a"
             ],
             [
              0.8888888888888888,
              "#fdca26"
             ],
             [
              1,
              "#f0f921"
             ]
            ],
            "type": "histogram2d"
           }
          ],
          "histogram2dcontour": [
           {
            "colorbar": {
             "outlinewidth": 0,
             "ticks": ""
            },
            "colorscale": [
             [
              0,
              "#0d0887"
             ],
             [
              0.1111111111111111,
              "#46039f"
             ],
             [
              0.2222222222222222,
              "#7201a8"
             ],
             [
              0.3333333333333333,
              "#9c179e"
             ],
             [
              0.4444444444444444,
              "#bd3786"
             ],
             [
              0.5555555555555556,
              "#d8576b"
             ],
             [
              0.6666666666666666,
              "#ed7953"
             ],
             [
              0.7777777777777778,
              "#fb9f3a"
             ],
             [
              0.8888888888888888,
              "#fdca26"
             ],
             [
              1,
              "#f0f921"
             ]
            ],
            "type": "histogram2dcontour"
           }
          ],
          "mesh3d": [
           {
            "colorbar": {
             "outlinewidth": 0,
             "ticks": ""
            },
            "type": "mesh3d"
           }
          ],
          "parcoords": [
           {
            "line": {
             "colorbar": {
              "outlinewidth": 0,
              "ticks": ""
             }
            },
            "type": "parcoords"
           }
          ],
          "pie": [
           {
            "automargin": true,
            "type": "pie"
           }
          ],
          "scatter": [
           {
            "fillpattern": {
             "fillmode": "overlay",
             "size": 10,
             "solidity": 0.2
            },
            "type": "scatter"
           }
          ],
          "scatter3d": [
           {
            "line": {
             "colorbar": {
              "outlinewidth": 0,
              "ticks": ""
             }
            },
            "marker": {
             "colorbar": {
              "outlinewidth": 0,
              "ticks": ""
             }
            },
            "type": "scatter3d"
           }
          ],
          "scattercarpet": [
           {
            "marker": {
             "colorbar": {
              "outlinewidth": 0,
              "ticks": ""
             }
            },
            "type": "scattercarpet"
           }
          ],
          "scattergeo": [
           {
            "marker": {
             "colorbar": {
              "outlinewidth": 0,
              "ticks": ""
             }
            },
            "type": "scattergeo"
           }
          ],
          "scattergl": [
           {
            "marker": {
             "colorbar": {
              "outlinewidth": 0,
              "ticks": ""
             }
            },
            "type": "scattergl"
           }
          ],
          "scattermapbox": [
           {
            "marker": {
             "colorbar": {
              "outlinewidth": 0,
              "ticks": ""
             }
            },
            "type": "scattermapbox"
           }
          ],
          "scatterpolar": [
           {
            "marker": {
             "colorbar": {
              "outlinewidth": 0,
              "ticks": ""
             }
            },
            "type": "scatterpolar"
           }
          ],
          "scatterpolargl": [
           {
            "marker": {
             "colorbar": {
              "outlinewidth": 0,
              "ticks": ""
             }
            },
            "type": "scatterpolargl"
           }
          ],
          "scatterternary": [
           {
            "marker": {
             "colorbar": {
              "outlinewidth": 0,
              "ticks": ""
             }
            },
            "type": "scatterternary"
           }
          ],
          "surface": [
           {
            "colorbar": {
             "outlinewidth": 0,
             "ticks": ""
            },
            "colorscale": [
             [
              0,
              "#0d0887"
             ],
             [
              0.1111111111111111,
              "#46039f"
             ],
             [
              0.2222222222222222,
              "#7201a8"
             ],
             [
              0.3333333333333333,
              "#9c179e"
             ],
             [
              0.4444444444444444,
              "#bd3786"
             ],
             [
              0.5555555555555556,
              "#d8576b"
             ],
             [
              0.6666666666666666,
              "#ed7953"
             ],
             [
              0.7777777777777778,
              "#fb9f3a"
             ],
             [
              0.8888888888888888,
              "#fdca26"
             ],
             [
              1,
              "#f0f921"
             ]
            ],
            "type": "surface"
           }
          ],
          "table": [
           {
            "cells": {
             "fill": {
              "color": "#EBF0F8"
             },
             "line": {
              "color": "white"
             }
            },
            "header": {
             "fill": {
              "color": "#C8D4E3"
             },
             "line": {
              "color": "white"
             }
            },
            "type": "table"
           }
          ]
         },
         "layout": {
          "annotationdefaults": {
           "arrowcolor": "#2a3f5f",
           "arrowhead": 0,
           "arrowwidth": 1
          },
          "autotypenumbers": "strict",
          "coloraxis": {
           "colorbar": {
            "outlinewidth": 0,
            "ticks": ""
           }
          },
          "colorscale": {
           "diverging": [
            [
             0,
             "#8e0152"
            ],
            [
             0.1,
             "#c51b7d"
            ],
            [
             0.2,
             "#de77ae"
            ],
            [
             0.3,
             "#f1b6da"
            ],
            [
             0.4,
             "#fde0ef"
            ],
            [
             0.5,
             "#f7f7f7"
            ],
            [
             0.6,
             "#e6f5d0"
            ],
            [
             0.7,
             "#b8e186"
            ],
            [
             0.8,
             "#7fbc41"
            ],
            [
             0.9,
             "#4d9221"
            ],
            [
             1,
             "#276419"
            ]
           ],
           "sequential": [
            [
             0,
             "#0d0887"
            ],
            [
             0.1111111111111111,
             "#46039f"
            ],
            [
             0.2222222222222222,
             "#7201a8"
            ],
            [
             0.3333333333333333,
             "#9c179e"
            ],
            [
             0.4444444444444444,
             "#bd3786"
            ],
            [
             0.5555555555555556,
             "#d8576b"
            ],
            [
             0.6666666666666666,
             "#ed7953"
            ],
            [
             0.7777777777777778,
             "#fb9f3a"
            ],
            [
             0.8888888888888888,
             "#fdca26"
            ],
            [
             1,
             "#f0f921"
            ]
           ],
           "sequentialminus": [
            [
             0,
             "#0d0887"
            ],
            [
             0.1111111111111111,
             "#46039f"
            ],
            [
             0.2222222222222222,
             "#7201a8"
            ],
            [
             0.3333333333333333,
             "#9c179e"
            ],
            [
             0.4444444444444444,
             "#bd3786"
            ],
            [
             0.5555555555555556,
             "#d8576b"
            ],
            [
             0.6666666666666666,
             "#ed7953"
            ],
            [
             0.7777777777777778,
             "#fb9f3a"
            ],
            [
             0.8888888888888888,
             "#fdca26"
            ],
            [
             1,
             "#f0f921"
            ]
           ]
          },
          "colorway": [
           "#636efa",
           "#EF553B",
           "#00cc96",
           "#ab63fa",
           "#FFA15A",
           "#19d3f3",
           "#FF6692",
           "#B6E880",
           "#FF97FF",
           "#FECB52"
          ],
          "font": {
           "color": "#2a3f5f"
          },
          "geo": {
           "bgcolor": "white",
           "lakecolor": "white",
           "landcolor": "#E5ECF6",
           "showlakes": true,
           "showland": true,
           "subunitcolor": "white"
          },
          "hoverlabel": {
           "align": "left"
          },
          "hovermode": "closest",
          "mapbox": {
           "style": "light"
          },
          "paper_bgcolor": "white",
          "plot_bgcolor": "#E5ECF6",
          "polar": {
           "angularaxis": {
            "gridcolor": "white",
            "linecolor": "white",
            "ticks": ""
           },
           "bgcolor": "#E5ECF6",
           "radialaxis": {
            "gridcolor": "white",
            "linecolor": "white",
            "ticks": ""
           }
          },
          "scene": {
           "xaxis": {
            "backgroundcolor": "#E5ECF6",
            "gridcolor": "white",
            "gridwidth": 2,
            "linecolor": "white",
            "showbackground": true,
            "ticks": "",
            "zerolinecolor": "white"
           },
           "yaxis": {
            "backgroundcolor": "#E5ECF6",
            "gridcolor": "white",
            "gridwidth": 2,
            "linecolor": "white",
            "showbackground": true,
            "ticks": "",
            "zerolinecolor": "white"
           },
           "zaxis": {
            "backgroundcolor": "#E5ECF6",
            "gridcolor": "white",
            "gridwidth": 2,
            "linecolor": "white",
            "showbackground": true,
            "ticks": "",
            "zerolinecolor": "white"
           }
          },
          "shapedefaults": {
           "line": {
            "color": "#2a3f5f"
           }
          },
          "ternary": {
           "aaxis": {
            "gridcolor": "white",
            "linecolor": "white",
            "ticks": ""
           },
           "baxis": {
            "gridcolor": "white",
            "linecolor": "white",
            "ticks": ""
           },
           "bgcolor": "#E5ECF6",
           "caxis": {
            "gridcolor": "white",
            "linecolor": "white",
            "ticks": ""
           }
          },
          "title": {
           "x": 0.05
          },
          "xaxis": {
           "automargin": true,
           "gridcolor": "white",
           "linecolor": "white",
           "ticks": "",
           "title": {
            "standoff": 15
           },
           "zerolinecolor": "white",
           "zerolinewidth": 2
          },
          "yaxis": {
           "automargin": true,
           "gridcolor": "white",
           "linecolor": "white",
           "ticks": "",
           "title": {
            "standoff": 15
           },
           "zerolinecolor": "white",
           "zerolinewidth": 2
          }
         }
        },
        "title": {
         "text": "Comparison of Class 1 F1 Scores Across Models"
        },
        "xaxis": {
         "title": {
          "text": "Model"
         }
        },
        "yaxis": {
         "range": [
          0,
          1
         ],
         "title": {
          "text": "Class 1 F1 Score"
         }
        }
       }
      }
     },
     "metadata": {},
     "output_type": "display_data"
    }
   ],
   "source": [
    "import plotly.graph_objects as go\n",
    "\n",
    "# F1 macro average scores for each model\n",
    "f1_scores = [0.37, 0.37, 0.37, 0.32, 0.32, 0.42, 0.41, 0.48]\n",
    "models = [\n",
    "    'Logistic Regression Untuned', 'Logistic Regression Tuned',\n",
    "    'Decision Tree Tuned', 'Random Forest Untuned',\n",
    "    'Random Forest Tuned', 'Logistic Regression SMOTE',\n",
    "    'Decision Trees SMOTE', 'Random Forest SMOTE'\n",
    "]\n",
    "\n",
    "# Colors for the bars - red if the score is the maximum, blue otherwise\n",
    "colors = ['red' if f1_score == max(f1_scores) else 'blue' for f1_score in f1_scores]\n",
    "\n",
    "# Create bar chart\n",
    "fig = go.Figure([go.Bar(x=models, y=f1_scores, marker_color=colors)])\n",
    "fig.update_layout(\n",
    "    title='Comparison of Class 1 F1 Scores Across Models',\n",
    "    xaxis_title='Model',\n",
    "    yaxis_title='Class 1 F1 Score',\n",
    "    yaxis=dict(range=[0, 1])\n",
    ")\n",
    "fig.show()\n"
   ]
  },
  {
   "cell_type": "markdown",
   "metadata": {},
   "source": [
    "This chart presents a comparative analysis of different predictive models, gauged by their Class 1 F1 scores, which is a measure combining precision and recall for the positive (or \"Class 1\") outcomes in our data—essentially predicting the winners in Formula 1 races. The red bar represents the Random Forest model with SMOTE (Synthetic Minority Over-sampling Technique), which clearly outperforms the other models, as indicated by its higher F1 score. This suggests that addressing class imbalance through techniques like SMOTE, especially when combined with a Random Forest algorithm, can significantly improve our model's ability to predict race winners accurately."
   ]
  },
  {
   "cell_type": "markdown",
   "metadata": {},
   "source": []
  },
  {
   "cell_type": "markdown",
   "metadata": {},
   "source": [
    "### **Conclusion... so far**\n",
    "\n",
    "Among the models we've examined, the **Random Forest SMOTE** emerges as the frontrunner. It strikes the best balance between, accuracy, precision and recall for predicting race winners, suggesting a more nuanced understanding of the complex factors that contribute to a race win. With the highest overall accuracy and a moderate level of both false positives and false negatives, it shows a strong ability to generalize predictions to new data while maintaining a dependable level of precision. This makes it the most suitable model for us to deploy in predicting F1 race winners, offering a reliable blend of sensitivity and specificity in its forecasting."
   ]
  },
  {
   "cell_type": "markdown",
   "metadata": {},
   "source": [
    "### **Next Steps**\n",
    "Building on our conclusion that the **Random Forest SMOTE** model stands out as the most balanced and accurate for predicting F1 race winners, the next steps to refine the model would focus on a couple of strategic areas. First, we could delve deeper into feature engineering—examining the current features for more insightful correlations and potentially developing new ones that capture the dynamics of race performance better. Second, considering the complexity of F1 races, we might explore more sophisticated ensemble techniques or even neural networks that could capture non-linear relationships in the data. All these efforts should be underpinned by a robust cross-validation strategy to ensure the enhancements lead to actual predictive gains, not just fitting to the noise in our training data."
   ]
  }
 ],
 "metadata": {
  "kernelspec": {
   "display_name": "capstone",
   "language": "python",
   "name": "python3"
  },
  "language_info": {
   "codemirror_mode": {
    "name": "ipython",
    "version": 3
   },
   "file_extension": ".py",
   "mimetype": "text/x-python",
   "name": "python",
   "nbconvert_exporter": "python",
   "pygments_lexer": "ipython3",
   "version": "3.8.18"
  }
 },
 "nbformat": 4,
 "nbformat_minor": 2
}
